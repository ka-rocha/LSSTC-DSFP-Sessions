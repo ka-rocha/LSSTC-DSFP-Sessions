{
 "cells": [
  {
   "cell_type": "code",
   "execution_count": 1,
   "id": "b2203a0d",
   "metadata": {
    "slideshow": {
     "slide_type": "skip"
    }
   },
   "outputs": [],
   "source": [
    "import numpy as np\n",
    "import matplotlib.pyplot as plt\n",
    "from sklearn.datasets import make_blobs\n",
    "\n",
    "%matplotlib inline"
   ]
  },
  {
   "cell_type": "markdown",
   "id": "b52d12da",
   "metadata": {
    "slideshow": {
     "slide_type": "slide"
    }
   },
   "source": [
    "# Classification with a Perceptron\n",
    "\n",
    "##### Version 0.1\n",
    "\n",
    "***\n",
    "\n",
    "By AA Miller (Northwestern/CIERA)  \n",
    "21 February 2022"
   ]
  },
  {
   "cell_type": "markdown",
   "id": "42c0f473",
   "metadata": {
    "slideshow": {
     "slide_type": "subslide"
    }
   },
   "source": [
    "Perceptrons are a type of articifical neuron. We will construct a basic neuron in pure python today and use it to classify data in a \"simple\" two class problem. "
   ]
  },
  {
   "cell_type": "markdown",
   "id": "9b21f531",
   "metadata": {
    "slideshow": {
     "slide_type": "slide"
    }
   },
   "source": [
    "Consider the following image - what do you see? \n",
    "\n",
    "<img style=\"display: block; margin-left: auto; margin-right: auto\" src=\"images/number8.png\" width=\"450\" align=\"middle\">\n",
    "<div align=\"right\"> <font size=\"-3\">(data credit: MNIST) </font></div>"
   ]
  },
  {
   "cell_type": "markdown",
   "id": "3807e243",
   "metadata": {
    "slideshow": {
     "slide_type": "slide"
    }
   },
   "source": [
    "Without hesitation, I am certain that you were able to identify the above image as the number 8."
   ]
  },
  {
   "cell_type": "markdown",
   "id": "c15481c9",
   "metadata": {
    "slideshow": {
     "slide_type": "slide"
    }
   },
   "source": [
    "**Breakout Problem 1**\n",
    "\n",
    "Using everything we have learned this week about machine learning – devise how to use the Random Forest algorithm to build a binary classifier to separate the number 8 from other handwritten digits. "
   ]
  },
  {
   "cell_type": "markdown",
   "id": "db489e7a",
   "metadata": {
    "slideshow": {
     "slide_type": "slide"
    }
   },
   "source": [
    "*Take a few minutes to discuss with your partner*"
   ]
  },
  {
   "cell_type": "markdown",
   "id": "2a9f3b01",
   "metadata": {
    "slideshow": {
     "slide_type": "slide"
    }
   },
   "source": [
    "There are many possible approaches - \n"
   ]
  },
  {
   "cell_type": "markdown",
   "id": "f19b8410",
   "metadata": {
    "slideshow": {
     "slide_type": "fragment"
    }
   },
   "source": [
    "  -  build an algorithm that identifies \"circles\"   \n",
    "  $~~~~$(number 3 does not have fully closed circles)"
   ]
  },
  {
   "cell_type": "markdown",
   "id": "421544e1",
   "metadata": {
    "slideshow": {
     "slide_type": "fragment"
    }
   },
   "source": [
    "  -  build an algorithm that indentifies lines  \n",
    "  $~~~~$(number 4 is only straight lines)"
   ]
  },
  {
   "cell_type": "markdown",
   "id": "7999e8f0",
   "metadata": {
    "slideshow": {
     "slide_type": "fragment"
    }
   },
   "source": [
    "  -  examine only the bottom half of the image  \n",
    "  $~~~~$(tops of 8 and 9 are similar, but bottoms different)"
   ]
  },
  {
   "cell_type": "markdown",
   "id": "27e362a4",
   "metadata": {
    "slideshow": {
     "slide_type": "slide"
    }
   },
   "source": [
    "At this point we only have a few features, they are all very complex to derive, and it isn't at all clear that we would successfully separate 8 and 0."
   ]
  },
  {
   "cell_type": "markdown",
   "id": "8ce8e59a",
   "metadata": {
    "slideshow": {
     "slide_type": "slide"
    }
   },
   "source": [
    "In sum, we are on the road towards success.\n",
    "\n",
    "And yet,  "
   ]
  },
  {
   "cell_type": "markdown",
   "id": "e48ee95b",
   "metadata": {
    "slideshow": {
     "slide_type": "fragment"
    }
   },
   "source": [
    "when you looked at the image of the 8, you immediately recognized the contents of the image at the start of this lecture."
   ]
  },
  {
   "cell_type": "markdown",
   "id": "2893f0d8",
   "metadata": {
    "slideshow": {
     "slide_type": "slide"
    }
   },
   "source": [
    "We each have a super computer in our heads. One trained over many, many generations of evolution to immediately recognize what is right in front of our eyes. Constructing \"rules\" (especially very *precise* rules) to teach a computer to make the same recognition is extremely challenging. "
   ]
  },
  {
   "cell_type": "markdown",
   "id": "cad167fb",
   "metadata": {
    "slideshow": {
     "slide_type": "slide"
    }
   },
   "source": [
    "For complex tasks, like computer vision/classifying handwritten digits, we need a *new* type of machine learning relative to what we discussed earlier this week."
   ]
  },
  {
   "cell_type": "markdown",
   "id": "0ad83225",
   "metadata": {
    "slideshow": {
     "slide_type": "subslide"
    }
   },
   "source": [
    "(We will need deep learning to accomplish this task. We will develop these ideas over the next three days.)"
   ]
  },
  {
   "cell_type": "markdown",
   "id": "1162d104",
   "metadata": {
    "slideshow": {
     "slide_type": "slide"
    }
   },
   "source": [
    "To start that process, I would like to introduce the *perception* – an artificial neuron."
   ]
  },
  {
   "cell_type": "markdown",
   "id": "5625118b",
   "metadata": {
    "slideshow": {
     "slide_type": "fragment"
    }
   },
   "source": [
    "I'm no biologist, here's my (over-simplified) model of a biological neuron: a neuron receives multiple inputs (from other neurons or other signals present within the body), then weighs the relative information before becoming \"activated\" and further sending signals, or remaining dormant. "
   ]
  },
  {
   "cell_type": "markdown",
   "id": "08c4cea2",
   "metadata": {
    "slideshow": {
     "slide_type": "subslide"
    }
   },
   "source": [
    "(It is often said in popular literature that deep learning is designed to work like the human brain. \n",
    "\n",
    "This is very inaccurate, instead it is far more appropriate to say that the principles behind deep learning are inspired by our biological understanding of how the brain works. There is a lot that we do not understand about the brain, and it is worthwhile to remember this distinction.)"
   ]
  },
  {
   "cell_type": "markdown",
   "id": "4c332ad3",
   "metadata": {
    "slideshow": {
     "slide_type": "slide"
    }
   },
   "source": [
    "## Problem 1) The Perceptron"
   ]
  },
  {
   "cell_type": "markdown",
   "id": "7c495c1a",
   "metadata": {
    "slideshow": {
     "slide_type": "slide"
    }
   },
   "source": [
    "A perceptron takes several binary inputs, $x_1, x_2, \\ldots, x_n$, and, ultimately,  produces a single binary output. \n",
    "\n",
    "Each input has a relevant weight, $w_1, w_2, \\ldots, w_n$, which is multiplied by its corresponding input, before taking the sum of all the weighted inputs and comparing that to some threshold. "
   ]
  },
  {
   "cell_type": "markdown",
   "id": "d48ac60e",
   "metadata": {
    "slideshow": {
     "slide_type": "slide"
    }
   },
   "source": [
    "If the weighted sum is greater than the threshold, then the output $= 1$ and the perceptron is \"activated.\"\n",
    "\n",
    "Otherwise the output $= 0$."
   ]
  },
  {
   "cell_type": "markdown",
   "id": "189b6ec7",
   "metadata": {
    "slideshow": {
     "slide_type": "slide"
    }
   },
   "source": [
    "Here is a graphical representation of the perceptron:\n",
    "\n",
    "<img style=\"display: block; margin-left: auto; margin-right: auto\" src=\"images/perceptron.png\" width=\"650\" align=\"middle\">\n",
    "<div align=\"right\"> <font size=\"-3\">(credit: https://towardsdatascience.com/the-perceptron-3af34c84838c) </font></div>"
   ]
  },
  {
   "cell_type": "markdown",
   "id": "da5d0781",
   "metadata": {
    "slideshow": {
     "slide_type": "slide"
    }
   },
   "source": [
    "Here is a mathematical representation of the perceptron: \n",
    "\n",
    "\n",
    "\n",
    "$$\\mathrm{output} = \\left\\{ \\begin{array}{lcr}\n",
    "0 & \\mathrm{if} \\; \\sum_n x_n w_n & \\le \\mathrm{threshold} \\\\\n",
    "1 & \\mathrm{if} \\; \\sum_n x_n w_n & > \\mathrm{threshold}\n",
    "\\end{array}\\right.\n",
    "$$"
   ]
  },
  {
   "cell_type": "markdown",
   "id": "e9af0321",
   "metadata": {
    "slideshow": {
     "slide_type": "slide"
    }
   },
   "source": [
    "A single perceptron can be used to answer questions that rely on many varied inputs. "
   ]
  },
  {
   "cell_type": "markdown",
   "id": "e9e21b8c",
   "metadata": {
    "slideshow": {
     "slide_type": "slide"
    }
   },
   "source": [
    "Consider the question: \"Should I walk the dog?\""
   ]
  },
  {
   "cell_type": "markdown",
   "id": "26d182fe",
   "metadata": {
    "slideshow": {
     "slide_type": "slide"
    }
   },
   "source": [
    "The answer to that question depends on other questions: \n",
    "  -  Is it raining? \n",
    "  -  Is the dog asleep?\n",
    "  -  Has is been more than 6 hours since the dog last went outside?"
   ]
  },
  {
   "cell_type": "markdown",
   "id": "7ff4cf9c",
   "metadata": {
    "slideshow": {
     "slide_type": "slide"
    }
   },
   "source": [
    "Ultimately we need a binary output (to walk the dog, or not walk the dog) based on several binary inputs. In other words, we can use a perceptron to determine whether to walk the dog. "
   ]
  },
  {
   "cell_type": "markdown",
   "id": "b5bf4ab0",
   "metadata": {
    "slideshow": {
     "slide_type": "slide"
    }
   },
   "source": [
    "**Problem 1a**\n",
    "\n",
    "Write a function `walk_dog` that acts as a perceptron to decide whether or not you should walk the dog. \n",
    "\n",
    "The function should take three arugments, a tuple with the binary answer to your three questions, an optional tuple with the relative weights for each input (default = `(-2, -1, 5)`), and an optional threshold (default = `2.5`). "
   ]
  },
  {
   "cell_type": "code",
   "execution_count": 13,
   "id": "6f232df7",
   "metadata": {
    "slideshow": {
     "slide_type": "slide"
    }
   },
   "outputs": [],
   "source": [
    "def walk_dog(questions, weights=np.array([-2,-1,5]), threshold=2.5):\n",
    "    '''Perceptron to calculate whether we should walk the dog\n",
    "    \n",
    "    Parameters\n",
    "    ----------\n",
    "    questions : array-like, size = 3\n",
    "    weights : array-lik, optional (default = np.array([-2, -1, 5]))\n",
    "    threshold : float, optional (default = 2.5)\n",
    "        decision threshold for whether to walk the dog or not\n",
    "    \n",
    "    Returns\n",
    "    -------\n",
    "    walk : bool\n",
    "        Boolean variable to indicate whether to walk the dog\n",
    "    '''\n",
    "    \n",
    "    return np.sum( np.array(questions) * np.array(weights) ) > threshold\n",
    "    "
   ]
  },
  {
   "cell_type": "markdown",
   "id": "520ea966",
   "metadata": {
    "slideshow": {
     "slide_type": "slide"
    }
   },
   "source": [
    "**Problem 1b**\n",
    "\n",
    "Use the newly created perceptron to determine whether to walk the dog if: \n",
    "  1. it is raining outside\n",
    "  2. the dog is asleep\n",
    "  3. the dog last went out 2.5 hours ago\n",
    "\n",
    "*Hint* - recall that the inputs should be binary."
   ]
  },
  {
   "cell_type": "code",
   "execution_count": 14,
   "id": "b2f54268",
   "metadata": {
    "slideshow": {
     "slide_type": "slide"
    }
   },
   "outputs": [
    {
     "data": {
      "text/plain": [
       "False"
      ]
     },
     "execution_count": 14,
     "metadata": {},
     "output_type": "execute_result"
    }
   ],
   "source": [
    "walk_dog([1, 1, 0], threshold=2.5)"
   ]
  },
  {
   "cell_type": "markdown",
   "id": "38f4ef58",
   "metadata": {
    "slideshow": {
     "slide_type": "slide"
    }
   },
   "source": [
    "**Problem 1c**\n",
    "\n",
    "After sleeping for four hours, it is still raining, but the dog wakes up (i.e., it has been 6.5 hr since the dog last went out). Should you walk the dog?\n",
    "\n",
    "*Hint* - recall that the inputs should be binary."
   ]
  },
  {
   "cell_type": "code",
   "execution_count": 15,
   "id": "6b08c88d",
   "metadata": {
    "slideshow": {
     "slide_type": "slide"
    }
   },
   "outputs": [
    {
     "data": {
      "text/plain": [
       "True"
      ]
     },
     "execution_count": 15,
     "metadata": {},
     "output_type": "execute_result"
    }
   ],
   "source": [
    "walk_dog( [1, 0, 1], threshold=2.5)"
   ]
  },
  {
   "cell_type": "markdown",
   "id": "b8e1c2f3",
   "metadata": {
    "slideshow": {
     "slide_type": "slide"
    }
   },
   "source": [
    "## Problem 2) Generic Perceptron"
   ]
  },
  {
   "cell_type": "markdown",
   "id": "81d10bf6",
   "metadata": {
    "slideshow": {
     "slide_type": "slide"
    }
   },
   "source": [
    "We can simplify our representation of the perceptron by replacing the sum with a dot product, $w_n \\cdot x_n = \\sum_n w_n x_n$, and we can move the threshold to the other side of the inequality, which we will now refer to as the bias $b$. \n",
    "\n",
    "$$\\mathrm{output} = \\left\\{ \\begin{array}{lcr}\n",
    "0 & \\mathrm{if} \\; w_n \\cdot x_n + b & \\le 0 \\\\\n",
    "1 & \\mathrm{if} \\; w_n \\cdot x_n + b & > 0\n",
    "\\end{array}\\right.\n",
    "$$"
   ]
  },
  {
   "cell_type": "markdown",
   "id": "9b3ad13f",
   "metadata": {
    "slideshow": {
     "slide_type": "subslide"
    }
   },
   "source": [
    "(in this notation, the bias can be thought of how easy it is for the neuron to be activated)"
   ]
  },
  {
   "cell_type": "markdown",
   "id": "5defe893",
   "metadata": {
    "slideshow": {
     "slide_type": "slide"
    }
   },
   "source": [
    "Now, build a generic perceptron that can take any collection of input signals and weights, as well as a bias, to determine the binary output from the artificial neuron."
   ]
  },
  {
   "cell_type": "markdown",
   "id": "02326f48",
   "metadata": {
    "slideshow": {
     "slide_type": "subslide"
    }
   },
   "source": [
    "(this will prove useful for more than just walking the dog)"
   ]
  },
  {
   "cell_type": "markdown",
   "id": "3afca76e",
   "metadata": {
    "slideshow": {
     "slide_type": "slide"
    }
   },
   "source": [
    "**Problem 2a**\n",
    "\n",
    "Write a generic function `perceptron` that takes as input arrays called `signals` and `weights` as well as a float called `bias`. The function should return a boolean indicating whether or not the perceptron is \"activated\". "
   ]
  },
  {
   "cell_type": "code",
   "execution_count": 28,
   "id": "6af71465",
   "metadata": {
    "slideshow": {
     "slide_type": "slide"
    }
   },
   "outputs": [],
   "source": [
    "def perceptron(signals, weights, bias,):\n",
    "    '''Generic perceptron function\n",
    "    \n",
    "    Parameters\n",
    "    ----------\n",
    "    signals : array-like\n",
    "        the input signals for the perceptron\n",
    "        \n",
    "    weights : array-like\n",
    "        the weight applied to each input\n",
    "        \n",
    "    bias : float\n",
    "        the value required for activation\n",
    "        \n",
    "    Returns\n",
    "    -------\n",
    "    activated : bool\n",
    "        whether or not the perceptron is activated\n",
    "    '''\n",
    "    return np.dot(signals, weights) + bias > 0\n"
   ]
  },
  {
   "cell_type": "markdown",
   "id": "7f98b383",
   "metadata": {
    "slideshow": {
     "slide_type": "slide"
    }
   },
   "source": [
    "**Problem 2b** \n",
    "\n",
    "Is the perceptron activated if the signal = [2.3, 5.3, 1.2, 3.4], the weights = [-3, 2, 0.5, -1], and no bias (i.e., bias = 0)?"
   ]
  },
  {
   "cell_type": "code",
   "execution_count": 29,
   "id": "01a84485",
   "metadata": {
    "slideshow": {
     "slide_type": "fragment"
    }
   },
   "outputs": [
    {
     "data": {
      "text/plain": [
       "True"
      ]
     },
     "execution_count": 29,
     "metadata": {},
     "output_type": "execute_result"
    }
   ],
   "source": [
    "perceptron([2.3, 5.3, 1.2, 3.4], [-3, 2, 0.5, -1], 0)"
   ]
  },
  {
   "cell_type": "code",
   "execution_count": 31,
   "id": "eb8823b4",
   "metadata": {},
   "outputs": [
    {
     "data": {
      "text/plain": [
       "True"
      ]
     },
     "execution_count": 31,
     "metadata": {},
     "output_type": "execute_result"
    }
   ],
   "source": [
    "walk_dog([2.3, 5.3, 1.2, 3.4], [-3, 2, 0.5, -1], 0)"
   ]
  },
  {
   "cell_type": "markdown",
   "id": "0eaed647",
   "metadata": {
    "slideshow": {
     "slide_type": "slide"
    }
   },
   "source": [
    "**Problem 2c** \n",
    "\n",
    "What if the signal and weights do not change but the bias = -2? "
   ]
  },
  {
   "cell_type": "code",
   "execution_count": 30,
   "id": "25d2fe35",
   "metadata": {
    "slideshow": {
     "slide_type": "fragment"
    }
   },
   "outputs": [
    {
     "data": {
      "text/plain": [
       "False"
      ]
     },
     "execution_count": 30,
     "metadata": {},
     "output_type": "execute_result"
    }
   ],
   "source": [
    "perceptron([2.3, 5.3, 1.2, 3.4], [-3, 2, 0.5, -1], -2)"
   ]
  },
  {
   "cell_type": "code",
   "execution_count": 34,
   "id": "348ca00a",
   "metadata": {},
   "outputs": [
    {
     "data": {
      "text/plain": [
       "False"
      ]
     },
     "execution_count": 34,
     "metadata": {},
     "output_type": "execute_result"
    }
   ],
   "source": [
    "walk_dog([2.3, 5.3, 1.2, 3.4], [-3, 2, 0.5, -1], 2) # b is negative from our walk dog example"
   ]
  },
  {
   "cell_type": "markdown",
   "id": "752234ce",
   "metadata": {
    "slideshow": {
     "slide_type": "slide"
    }
   },
   "source": [
    "## Problem 3) Perceptrons for classification"
   ]
  },
  {
   "cell_type": "markdown",
   "id": "92abc052",
   "metadata": {
    "slideshow": {
     "slide_type": "slide"
    }
   },
   "source": [
    "Perceptrons can be used for binary classification problems!"
   ]
  },
  {
   "cell_type": "markdown",
   "id": "ec79f03b",
   "metadata": {
    "slideshow": {
     "slide_type": "subslide"
    }
   },
   "source": [
    "(perhaps this is no surprise given that this session is about machine learning...)"
   ]
  },
  {
   "cell_type": "markdown",
   "id": "2db543b4",
   "metadata": {
    "slideshow": {
     "slide_type": "slide"
    }
   },
   "source": [
    "To demonstrate how this works we will generate some synthetic two-dimensional data, but the principle can easily be scaled to an arbitrarily large number of dimensions. \n",
    "\n",
    "We use `scikit-learn` to simulate two classes in a 2d plane using the [`make_blobs()`](https://scikit-learn.org/stable/modules/generated/sklearn.datasets.make_blobs.html) function. We will only include 30 samples so the data are easy to visualize."
   ]
  },
  {
   "cell_type": "code",
   "execution_count": 26,
   "id": "b1bff508",
   "metadata": {
    "slideshow": {
     "slide_type": "slide"
    }
   },
   "outputs": [],
   "source": [
    "X, y = make_blobs(n_samples=30, centers=2, n_features=2,\n",
    "                  center_box = (0,4), random_state=1885)"
   ]
  },
  {
   "cell_type": "code",
   "execution_count": 27,
   "id": "7724dc34",
   "metadata": {
    "slideshow": {
     "slide_type": "slide"
    }
   },
   "outputs": [
    {
     "data": {
      "image/png": "[encoded data removed]",
      "text/plain": [
       "<Figure size 432x288 with 1 Axes>"
      ]
     },
     "metadata": {
      "needs_background": "light"
     },
     "output_type": "display_data"
    }
   ],
   "source": [
    "fig, ax = plt.subplots()\n",
    "activated = y == 1\n",
    "ax.plot(X[activated,0], X[activated,1], 'o', \n",
    "        ms = 9, mew=2, mfc='None')\n",
    "ax.plot(X[~activated,0], X[~activated,1], '+', \n",
    "        ms=15, mew=2)\n",
    "ax.set_xlabel('X1', fontsize=15)\n",
    "ax.set_ylabel('X2', fontsize=15)\n",
    "fig.tight_layout()"
   ]
  },
  {
   "cell_type": "markdown",
   "id": "e2b610a9",
   "metadata": {
    "slideshow": {
     "slide_type": "slide"
    }
   },
   "source": [
    "How can we use a perceptron to classify this data? \n",
    "\n",
    "In this case we have two inputs, and thus two weights, plus the bias to determine whether the perceptron is activated (class = 1, the open circles in the previous plot).\n",
    "\n",
    "We also have 30 observations that we can use to train the algorithm."
   ]
  },
  {
   "cell_type": "markdown",
   "id": "fdd2c68e",
   "metadata": {
    "slideshow": {
     "slide_type": "slide"
    }
   },
   "source": [
    "For a perceptron, training means updating the weights to better reflect the training data. \n",
    "\n",
    "Here's the pseudo-code: \n",
    "  1. Apply the perceptron to one of the data points\n",
    "  2. Adjust the weights if the perceptron makes an incorrect classification\n",
    "  3. Repeat this procedure over all N datapoints\n",
    "  4. Repeat this procedure for M iterations"
   ]
  },
  {
   "cell_type": "markdown",
   "id": "cb883ae9",
   "metadata": {
    "slideshow": {
     "slide_type": "slide"
    }
   },
   "source": [
    "How do we adjust the weights? For every sample we evaluate the model error (is the classification correct or not). We then adjust the weight to reduce the error for the following prediction. "
   ]
  },
  {
   "cell_type": "markdown",
   "id": "b08e6ebe",
   "metadata": {
    "slideshow": {
     "slide_type": "slide"
    }
   },
   "source": [
    "For a perceptron, these updates can be calculated simply as: \n",
    "\n",
    "$$w_\\mathrm{updated} = w_\\mathrm{current} + \\eta\\,\\, (y_\\mathrm{true} - y_\\mathrm{pred})\\,\\, x,$$\n",
    "\n",
    "where $w_\\mathrm{updated}$ is the new value for the weight, $w_\\mathrm{current}$ is the current value for the weight, $\\eta$ is the called the *learning rate*, $x$ is the value of the input signal, and $(y_\\mathrm{true} - y_\\mathrm{pred})$ captures whether or not the classification was correct."
   ]
  },
  {
   "cell_type": "markdown",
   "id": "62f1484d",
   "metadata": {
    "slideshow": {
     "slide_type": "slide"
    }
   },
   "source": [
    "The learning rate is a small number that adjusts the weight in the direction of being more accurate. It is selected by the user, though familiar tricks like cross validation can be used to identify an optimal size. "
   ]
  },
  {
   "cell_type": "markdown",
   "id": "f9070049",
   "metadata": {
    "slideshow": {
     "slide_type": "slide"
    }
   },
   "source": [
    "To train the perceptron, we need to decide the total number of iterations $M$ to pass through the training data. These iterations are called *epochs*. Within each epoch, we update the weights and bias to improve our predictions on the generated data. "
   ]
  },
  {
   "cell_type": "markdown",
   "id": "9d890f6c",
   "metadata": {
    "slideshow": {
     "slide_type": "subslide"
    }
   },
   "source": [
    "Updating the bias is similar to updating the weights, but we exclude the value of the input $x$ as this does not affect the bias."
   ]
  },
  {
   "cell_type": "markdown",
   "id": "0b54dddb",
   "metadata": {
    "slideshow": {
     "slide_type": "slide"
    }
   },
   "source": [
    "**Problem 3a**\n",
    "\n",
    "Write a function `train_perceptron` that accepts as input `X`, `y`, `weights`, `bias`, `epochs`, and `learning rate`. The function should train the perceptron for $M$ epochs. During each epoch, the weights and bias should be updated using the equation given above while looping over every source in the training set. \n",
    "\n",
    "*Hint* – it is useful to track the number of misclassifications that occur during each epoch. \n",
    "\n",
    "*Hint 2* – for this problem we only care about training, but if you eventually wanted to classify data with the perceptron then you would need to extract the weights and bias from the function, or, even better, write the perceptron as a class object that be trained and also classify (similar to scikit-learn). "
   ]
  },
  {
   "cell_type": "code",
   "execution_count": 218,
   "id": "798326f7",
   "metadata": {
    "slideshow": {
     "slide_type": "slide"
    }
   },
   "outputs": [
    {
     "name": "stderr",
     "output_type": "stream",
     "text": [
      "100%|█████████████████████████████████████████████████████████████████████████| 100/100 [00:00<00:00, 4270.58it/s]"
     ]
    },
    {
     "name": "stdout",
     "output_type": "stream",
     "text": [
      "epoch 0, w=[ 2.48566345 -0.76106433], b=-1.38095, LR=0.47619, acc=0.5000, incor=15\n",
      "epoch 9, w=[2.25500075 0.4108358 ], b=-6.20150, LR=0.30696, acc=0.8667, incor=4\n",
      "epoch 19, w=[1.99525152 0.55114942], b=-7.15643, LR=0.18844, acc=0.8333, incor=5\n",
      "epoch 29, w=[1.82313102 0.61074818], b=-7.07637, LR=0.11569, acc=0.9000, incor=3\n",
      "epoch 39, w=[1.65529847 0.72037526], b=-6.73647, LR=0.07102, acc=0.9000, incor=3\n",
      "epoch 49, w=[1.53443889 0.77350984], b=-6.52232, LR=0.04360, acc=0.9000, incor=3\n",
      "epoch 59, w=[1.46365996 0.81009595], b=-6.38952, LR=0.02677, acc=0.9333, incor=2\n",
      "epoch 69, w=[1.42288621 0.83566418], b=-6.30694, LR=0.01643, acc=0.9333, incor=2\n",
      "epoch 79, w=[1.40124955 0.85529972], b=-6.25491, LR=0.01009, acc=0.9333, incor=2\n",
      "epoch 89, w=[1.388797   0.86831778], b=-6.22265, LR=0.00619, acc=0.9333, incor=2\n",
      "epoch 99, w=[1.39151418 0.88833201], b=-6.19878, LR=0.00380, acc=0.9000, incor=3\n"
     ]
    },
    {
     "name": "stderr",
     "output_type": "stream",
     "text": [
      "\n"
     ]
    },
    {
     "data": {
      "image/png": "[encoded data removed]",
      "text/plain": [
       "<Figure size 600x400 with 1 Axes>"
      ]
     },
     "metadata": {
      "needs_background": "light"
     },
     "output_type": "display_data"
    }
   ],
   "source": [
    "from tqdm import tqdm\n",
    "def train_perceptron(X, y, weights, bias, epochs, learning_rate):\n",
    "    '''Train a perceptron to classify binary labels via numerical features\n",
    "    \n",
    "    Parameters\n",
    "    ----------\n",
    "    X : array-like\n",
    "        Feature array for the data, in the style of scikit-learn\n",
    "    y : array-like, type = bool\n",
    "        Label array for the data\n",
    "    weights : array-like\n",
    "        Weights for the input signals to the perceptron\n",
    "    bias : array-like\n",
    "        Bias value for the perceptron\n",
    "    epochs : int\n",
    "        Number of instances for training the perceptron\n",
    "    learning_rate : float\n",
    "        Relative step size for tuning the weights and bias\n",
    "    '''\n",
    "    \n",
    "    for M in tqdm(range(epochs)):\n",
    "        \n",
    "        learning_rate = learning_rate/1.05\n",
    "        \n",
    "        incorrect=0\n",
    "        output = np.empty(y.shape, dtype=bool)\n",
    "        for i, point in enumerate(X):\n",
    "\n",
    "            output[i] = perceptron(point, weights, bias)\n",
    "            \n",
    "            if int(output[i]) == int(y[i]):\n",
    "                continue\n",
    "            else:\n",
    "                incorrect += 1\n",
    "                weights = weights + learning_rate * (y[i] - output[i]) * point   \n",
    "                bias = bias + learning_rate * (y[i] - output[i])\n",
    "        \n",
    "        if (M+1)%10 == 0 or M == 0:\n",
    "            print(f'epoch {M}, w={weights}, b={bias:.5f}, LR={learning_rate:.5f}, acc={1-incorrect/len(y):.4f}, incor={incorrect}')\n",
    "    return weights, bias\n",
    "\n",
    "\n",
    "w_final, b_final = train_perceptron( X, y, np.random.uniform(size=X.ndim), bias=1, epochs=100, learning_rate=0.5)\n",
    "# w_final, b_final = train_perceptron( X, y, [0.1, 1], bias=0, epochs=20, learning_rate=0.005)\n",
    "\n",
    "\n",
    "\n",
    "\n",
    "plt.figure(figsize=(6,4),dpi=100)\n",
    "\n",
    "# x_vals, y_vals = [], []\n",
    "# output = []\n",
    "# for i in np.linspace(0,6,60):\n",
    "#     for j in np.linspace(-1,5,60):\n",
    "#         output.append( perceptron( [i,j], w_final, b_final) )\n",
    "#         x_vals.append(i)\n",
    "#         y_vals.append(j)\n",
    "# plt.scatter( x_vals, y_vals, c = output, alpha=0.65, cmap='bone' )\n",
    "\n",
    "\n",
    "# w0*x1 + w1*x2 + b > 0\n",
    "# x2 = - (w0*x1 + b) / w1\n",
    "# x2 = - w0*x1/w1  +  b/w1 \n",
    "\n",
    "colors = {0:'C0', 1:'C1'}\n",
    "plt.scatter( *X.T, c = [colors[i] for i in y], s=55 )\n",
    "\n",
    "var = np.linspace(0,5)\n",
    "plt.plot( var, -(w_final[0]*var + b_final)/w_final[1], '-k' )\n",
    "\n",
    "plt.show()"
   ]
  },
  {
   "cell_type": "code",
   "execution_count": null,
   "id": "b002e01b",
   "metadata": {},
   "outputs": [],
   "source": []
  },
  {
   "cell_type": "markdown",
   "id": "88e3ba8a",
   "metadata": {
    "slideshow": {
     "slide_type": "slide"
    }
   },
   "source": [
    "**Problem 3b**\n",
    "\n",
    "Train the perceptron. Use weights of [.1, 1], a bias of 0, train for 20 epochs, with a learning rate $\\eta = 0.005$. \n",
    "\n",
    "*Note* – as we will see below the perceptron is highly sensitive to the initial guess for weights and biases.  "
   ]
  },
  {
   "cell_type": "code",
   "execution_count": 164,
   "id": "4178521f",
   "metadata": {},
   "outputs": [
    {
     "name": "stderr",
     "output_type": "stream",
     "text": [
      "100%|███████████████████████████████████████████████████████████████████████████| 20/20 [00:00<00:00, 2403.27it/s]"
     ]
    },
    {
     "name": "stdout",
     "output_type": "stream",
     "text": [
      "epoch 0, w=[0.00269808 0.87972805], b=-0.06667, LR=0.00476, acc=0.5333\n",
      "epoch 9, w=[-0.06465041  0.28479224], b=-0.35954, LR=0.00307, acc=0.5667\n",
      "epoch 19, w=[0.04667163 0.1006594 ], b=-0.39281, LR=0.00188, acc=0.8000\n"
     ]
    },
    {
     "name": "stderr",
     "output_type": "stream",
     "text": [
      "\n"
     ]
    },
    {
     "data": {
      "text/plain": [
       "(array([0.04667163, 0.1006594 ]), -0.3928118312287765)"
      ]
     },
     "execution_count": 164,
     "metadata": {},
     "output_type": "execute_result"
    }
   ],
   "source": [
    "train_perceptron( X, y, [0.1, 1], bias=0, epochs=20, learning_rate=0.005)\n"
   ]
  },
  {
   "cell_type": "markdown",
   "id": "fe60c0ee",
   "metadata": {
    "slideshow": {
     "slide_type": "slide"
    }
   },
   "source": [
    "We see that the accuracy slowly improves over the course of the 20 epochs. \n",
    "\n",
    "In other words, the machine... IT IS LEARNING."
   ]
  },
  {
   "cell_type": "markdown",
   "id": "2264fef8",
   "metadata": {
    "slideshow": {
     "slide_type": "slide"
    }
   },
   "source": [
    "**Problem 3c**\n",
    "\n",
    "Adjust the weights, or bias, or number of epochs, or learning rate, or all of them, to see how the changes affect the output of the perceptron. \n",
    "\n",
    "What do you notice as these changes are made?"
   ]
  },
  {
   "cell_type": "code",
   "execution_count": 12,
   "id": "8d2da17f",
   "metadata": {
    "slideshow": {
     "slide_type": "slide"
    }
   },
   "outputs": [
    {
     "name": "stdout",
     "output_type": "stream",
     "text": [
      "For initial weights, accuracy = 0.2667\n",
      "For epoch 0, accuracy = 0.1667\n",
      "For epoch 1, accuracy = 0.3000\n",
      "For epoch 2, accuracy = 0.3667\n",
      "For epoch 3, accuracy = 0.3333\n",
      "For epoch 4, accuracy = 0.3333\n",
      "For epoch 5, accuracy = 0.3333\n",
      "For epoch 6, accuracy = 0.3333\n",
      "For epoch 7, accuracy = 0.3333\n",
      "For epoch 8, accuracy = 0.3333\n",
      "For epoch 9, accuracy = 0.4667\n"
     ]
    }
   ],
   "source": [
    "train_perceptron( # complete"
   ]
  },
  {
   "cell_type": "markdown",
   "id": "6dc895e1",
   "metadata": {
    "slideshow": {
     "slide_type": "slide"
    }
   },
   "source": [
    "*write answer here*\n",
    "\n",
    "It is possible to build a perceptron that gets worse at classification. This can happen if the learning rate is extremely large, essentially flipping on or off the activation for every source during each epoch. \n",
    "\n",
    "It is also possible to build a perceptron that effectively never learns anything if the initial weights are extremely far from the optimal solution. The weights effectively define a line (or hyperplane in more than two dimensions) to separate the classes. If the line is very distant from the data itself, then the weights cannot be easily updated to improve the classification. "
   ]
  },
  {
   "cell_type": "markdown",
   "id": "856ddcca",
   "metadata": {
    "slideshow": {
     "slide_type": "slide"
    }
   },
   "source": [
    "You have now built a perceptron. You have also seen it's limitations."
   ]
  },
  {
   "cell_type": "markdown",
   "id": "2d1ca1c3",
   "metadata": {
    "slideshow": {
     "slide_type": "slide"
    }
   },
   "source": [
    "The strength of machine learning solutions lies in their ability to identify and capture non-linear structure within data. \n",
    "\n",
    "But the perceptron is almost too non-linear. For inputs that are close to the activation boundary, very small changes in the weights can rapidly lead to an extreme difference in outcome. "
   ]
  },
  {
   "cell_type": "markdown",
   "id": "9beb1bda",
   "metadata": {
    "slideshow": {
     "slide_type": "slide"
    }
   },
   "source": [
    "It would be better if our adjustments led to more gradual changes, so that, if possible, the quality of the model improved during each epoch of the classifier. This can be achieved with a different model for our artificial neuron."
   ]
  },
  {
   "cell_type": "markdown",
   "id": "7252b747",
   "metadata": {
    "slideshow": {
     "slide_type": "slide"
    }
   },
   "source": [
    "Consider, for instance, a neuron that is activated via the sigmoid function:\n",
    "\n",
    "$$\\sigma(z) \\equiv \\frac{1}{1 + e^{-z}}$$\n",
    "\n",
    "where $z$ is the previously defined activation for a neuron: $w \\cdot x - b$"
   ]
  },
  {
   "cell_type": "markdown",
   "id": "12cd9a7e",
   "metadata": {
    "slideshow": {
     "slide_type": "slide"
    }
   },
   "source": [
    "We can visually show the difference between the perceptron and sigmoid neurons.  "
   ]
  },
  {
   "cell_type": "code",
   "execution_count": 13,
   "id": "b08006a5",
   "metadata": {
    "slideshow": {
     "slide_type": "slide"
    }
   },
   "outputs": [
    {
     "data": {
      "application/javascript": [
       "/* Put everything inside the global mpl namespace */\n",
       "/* global mpl */\n",
       "window.mpl = {};\n",
       "\n",
       "mpl.get_websocket_type = function () {\n",
       "    if (typeof WebSocket !== 'undefined') {\n",
       "        return WebSocket;\n",
       "    } else if (typeof MozWebSocket !== 'undefined') {\n",
       "        return MozWebSocket;\n",
       "    } else {\n",
       "        alert(\n",
       "            'Your browser does not have WebSocket support. ' +\n",
       "                'Please try Chrome, Safari or Firefox ≥ 6. ' +\n",
       "                'Firefox 4 and 5 are also supported but you ' +\n",
       "                'have to enable WebSockets in about:config.'\n",
       "        );\n",
       "    }\n",
       "};\n",
       "\n",
       "mpl.figure = function (figure_id, websocket, ondownload, parent_element) {\n",
       "    this.id = figure_id;\n",
       "\n",
       "    this.ws = websocket;\n",
       "\n",
       "    this.supports_binary = this.ws.binaryType !== undefined;\n",
       "\n",
       "    if (!this.supports_binary) {\n",
       "        var warnings = document.getElementById('mpl-warnings');\n",
       "        if (warnings) {\n",
       "            warnings.style.display = 'block';\n",
       "            warnings.textContent =\n",
       "                'This browser does not support binary websocket messages. ' +\n",
       "                'Performance may be slow.';\n",
       "        }\n",
       "    }\n",
       "\n",
       "    this.imageObj = new Image();\n",
       "\n",
       "    this.context = undefined;\n",
       "    this.message = undefined;\n",
       "    this.canvas = undefined;\n",
       "    this.rubberband_canvas = undefined;\n",
       "    this.rubberband_context = undefined;\n",
       "    this.format_dropdown = undefined;\n",
       "\n",
       "    this.image_mode = 'full';\n",
       "\n",
       "    this.root = document.createElement('div');\n",
       "    this.root.setAttribute('style', 'display: inline-block');\n",
       "    this._root_extra_style(this.root);\n",
       "\n",
       "    parent_element.appendChild(this.root);\n",
       "\n",
       "    this._init_header(this);\n",
       "    this._init_canvas(this);\n",
       "    this._init_toolbar(this);\n",
       "\n",
       "    var fig = this;\n",
       "\n",
       "    this.waiting = false;\n",
       "\n",
       "    this.ws.onopen = function () {\n",
       "        fig.send_message('supports_binary', { value: fig.supports_binary });\n",
       "        fig.send_message('send_image_mode', {});\n",
       "        if (fig.ratio !== 1) {\n",
       "            fig.send_message('set_dpi_ratio', { dpi_ratio: fig.ratio });\n",
       "        }\n",
       "        fig.send_message('refresh', {});\n",
       "    };\n",
       "\n",
       "    this.imageObj.onload = function () {\n",
       "        if (fig.image_mode === 'full') {\n",
       "            // Full images could contain transparency (where diff images\n",
       "            // almost always do), so we need to clear the canvas so that\n",
       "            // there is no ghosting.\n",
       "            fig.context.clearRect(0, 0, fig.canvas.width, fig.canvas.height);\n",
       "        }\n",
       "        fig.context.drawImage(fig.imageObj, 0, 0);\n",
       "    };\n",
       "\n",
       "    this.imageObj.onunload = function () {\n",
       "        fig.ws.close();\n",
       "    };\n",
       "\n",
       "    this.ws.onmessage = this._make_on_message_function(this);\n",
       "\n",
       "    this.ondownload = ondownload;\n",
       "};\n",
       "\n",
       "mpl.figure.prototype._init_header = function () {\n",
       "    var titlebar = document.createElement('div');\n",
       "    titlebar.classList =\n",
       "        'ui-dialog-titlebar ui-widget-header ui-corner-all ui-helper-clearfix';\n",
       "    var titletext = document.createElement('div');\n",
       "    titletext.classList = 'ui-dialog-title';\n",
       "    titletext.setAttribute(\n",
       "        'style',\n",
       "        'width: 100%; text-align: center; padding: 3px;'\n",
       "    );\n",
       "    titlebar.appendChild(titletext);\n",
       "    this.root.appendChild(titlebar);\n",
       "    this.header = titletext;\n",
       "};\n",
       "\n",
       "mpl.figure.prototype._canvas_extra_style = function (_canvas_div) {};\n",
       "\n",
       "mpl.figure.prototype._root_extra_style = function (_canvas_div) {};\n",
       "\n",
       "mpl.figure.prototype._init_canvas = function () {\n",
       "    var fig = this;\n",
       "\n",
       "    var canvas_div = (this.canvas_div = document.createElement('div'));\n",
       "    canvas_div.setAttribute(\n",
       "        'style',\n",
       "        'border: 1px solid #ddd;' +\n",
       "            'box-sizing: content-box;' +\n",
       "            'clear: both;' +\n",
       "            'min-height: 1px;' +\n",
       "            'min-width: 1px;' +\n",
       "            'outline: 0;' +\n",
       "            'overflow: hidden;' +\n",
       "            'position: relative;' +\n",
       "            'resize: both;'\n",
       "    );\n",
       "\n",
       "    function on_keyboard_event_closure(name) {\n",
       "        return function (event) {\n",
       "            return fig.key_event(event, name);\n",
       "        };\n",
       "    }\n",
       "\n",
       "    canvas_div.addEventListener(\n",
       "        'keydown',\n",
       "        on_keyboard_event_closure('key_press')\n",
       "    );\n",
       "    canvas_div.addEventListener(\n",
       "        'keyup',\n",
       "        on_keyboard_event_closure('key_release')\n",
       "    );\n",
       "\n",
       "    this._canvas_extra_style(canvas_div);\n",
       "    this.root.appendChild(canvas_div);\n",
       "\n",
       "    var canvas = (this.canvas = document.createElement('canvas'));\n",
       "    canvas.classList.add('mpl-canvas');\n",
       "    canvas.setAttribute('style', 'box-sizing: content-box;');\n",
       "\n",
       "    this.context = canvas.getContext('2d');\n",
       "\n",
       "    var backingStore =\n",
       "        this.context.backingStorePixelRatio ||\n",
       "        this.context.webkitBackingStorePixelRatio ||\n",
       "        this.context.mozBackingStorePixelRatio ||\n",
       "        this.context.msBackingStorePixelRatio ||\n",
       "        this.context.oBackingStorePixelRatio ||\n",
       "        this.context.backingStorePixelRatio ||\n",
       "        1;\n",
       "\n",
       "    this.ratio = (window.devicePixelRatio || 1) / backingStore;\n",
       "\n",
       "    var rubberband_canvas = (this.rubberband_canvas = document.createElement(\n",
       "        'canvas'\n",
       "    ));\n",
       "    rubberband_canvas.setAttribute(\n",
       "        'style',\n",
       "        'box-sizing: content-box; position: absolute; left: 0; top: 0; z-index: 1;'\n",
       "    );\n",
       "\n",
       "    // Apply a ponyfill if ResizeObserver is not implemented by browser.\n",
       "    if (this.ResizeObserver === undefined) {\n",
       "        if (window.ResizeObserver !== undefined) {\n",
       "            this.ResizeObserver = window.ResizeObserver;\n",
       "        } else {\n",
       "            var obs = _JSXTOOLS_RESIZE_OBSERVER({});\n",
       "            this.ResizeObserver = obs.ResizeObserver;\n",
       "        }\n",
       "    }\n",
       "\n",
       "    this.resizeObserverInstance = new this.ResizeObserver(function (entries) {\n",
       "        var nentries = entries.length;\n",
       "        for (var i = 0; i < nentries; i++) {\n",
       "            var entry = entries[i];\n",
       "            var width, height;\n",
       "            if (entry.contentBoxSize) {\n",
       "                if (entry.contentBoxSize instanceof Array) {\n",
       "                    // Chrome 84 implements new version of spec.\n",
       "                    width = entry.contentBoxSize[0].inlineSize;\n",
       "                    height = entry.contentBoxSize[0].blockSize;\n",
       "                } else {\n",
       "                    // Firefox implements old version of spec.\n",
       "                    width = entry.contentBoxSize.inlineSize;\n",
       "                    height = entry.contentBoxSize.blockSize;\n",
       "                }\n",
       "            } else {\n",
       "                // Chrome <84 implements even older version of spec.\n",
       "                width = entry.contentRect.width;\n",
       "                height = entry.contentRect.height;\n",
       "            }\n",
       "\n",
       "            // Keep the size of the canvas and rubber band canvas in sync with\n",
       "            // the canvas container.\n",
       "            if (entry.devicePixelContentBoxSize) {\n",
       "                // Chrome 84 implements new version of spec.\n",
       "                canvas.setAttribute(\n",
       "                    'width',\n",
       "                    entry.devicePixelContentBoxSize[0].inlineSize\n",
       "                );\n",
       "                canvas.setAttribute(\n",
       "                    'height',\n",
       "                    entry.devicePixelContentBoxSize[0].blockSize\n",
       "                );\n",
       "            } else {\n",
       "                canvas.setAttribute('width', width * fig.ratio);\n",
       "                canvas.setAttribute('height', height * fig.ratio);\n",
       "            }\n",
       "            canvas.setAttribute(\n",
       "                'style',\n",
       "                'width: ' + width + 'px; height: ' + height + 'px;'\n",
       "            );\n",
       "\n",
       "            rubberband_canvas.setAttribute('width', width);\n",
       "            rubberband_canvas.setAttribute('height', height);\n",
       "\n",
       "            // And update the size in Python. We ignore the initial 0/0 size\n",
       "            // that occurs as the element is placed into the DOM, which should\n",
       "            // otherwise not happen due to the minimum size styling.\n",
       "            if (fig.ws.readyState == 1 && width != 0 && height != 0) {\n",
       "                fig.request_resize(width, height);\n",
       "            }\n",
       "        }\n",
       "    });\n",
       "    this.resizeObserverInstance.observe(canvas_div);\n",
       "\n",
       "    function on_mouse_event_closure(name) {\n",
       "        return function (event) {\n",
       "            return fig.mouse_event(event, name);\n",
       "        };\n",
       "    }\n",
       "\n",
       "    rubberband_canvas.addEventListener(\n",
       "        'mousedown',\n",
       "        on_mouse_event_closure('button_press')\n",
       "    );\n",
       "    rubberband_canvas.addEventListener(\n",
       "        'mouseup',\n",
       "        on_mouse_event_closure('button_release')\n",
       "    );\n",
       "    rubberband_canvas.addEventListener(\n",
       "        'dblclick',\n",
       "        on_mouse_event_closure('dblclick')\n",
       "    );\n",
       "    // Throttle sequential mouse events to 1 every 20ms.\n",
       "    rubberband_canvas.addEventListener(\n",
       "        'mousemove',\n",
       "        on_mouse_event_closure('motion_notify')\n",
       "    );\n",
       "\n",
       "    rubberband_canvas.addEventListener(\n",
       "        'mouseenter',\n",
       "        on_mouse_event_closure('figure_enter')\n",
       "    );\n",
       "    rubberband_canvas.addEventListener(\n",
       "        'mouseleave',\n",
       "        on_mouse_event_closure('figure_leave')\n",
       "    );\n",
       "\n",
       "    canvas_div.addEventListener('wheel', function (event) {\n",
       "        if (event.deltaY < 0) {\n",
       "            event.step = 1;\n",
       "        } else {\n",
       "            event.step = -1;\n",
       "        }\n",
       "        on_mouse_event_closure('scroll')(event);\n",
       "    });\n",
       "\n",
       "    canvas_div.appendChild(canvas);\n",
       "    canvas_div.appendChild(rubberband_canvas);\n",
       "\n",
       "    this.rubberband_context = rubberband_canvas.getContext('2d');\n",
       "    this.rubberband_context.strokeStyle = '#000000';\n",
       "\n",
       "    this._resize_canvas = function (width, height, forward) {\n",
       "        if (forward) {\n",
       "            canvas_div.style.width = width + 'px';\n",
       "            canvas_div.style.height = height + 'px';\n",
       "        }\n",
       "    };\n",
       "\n",
       "    // Disable right mouse context menu.\n",
       "    this.rubberband_canvas.addEventListener('contextmenu', function (_e) {\n",
       "        event.preventDefault();\n",
       "        return false;\n",
       "    });\n",
       "\n",
       "    function set_focus() {\n",
       "        canvas.focus();\n",
       "        canvas_div.focus();\n",
       "    }\n",
       "\n",
       "    window.setTimeout(set_focus, 100);\n",
       "};\n",
       "\n",
       "mpl.figure.prototype._init_toolbar = function () {\n",
       "    var fig = this;\n",
       "\n",
       "    var toolbar = document.createElement('div');\n",
       "    toolbar.classList = 'mpl-toolbar';\n",
       "    this.root.appendChild(toolbar);\n",
       "\n",
       "    function on_click_closure(name) {\n",
       "        return function (_event) {\n",
       "            return fig.toolbar_button_onclick(name);\n",
       "        };\n",
       "    }\n",
       "\n",
       "    function on_mouseover_closure(tooltip) {\n",
       "        return function (event) {\n",
       "            if (!event.currentTarget.disabled) {\n",
       "                return fig.toolbar_button_onmouseover(tooltip);\n",
       "            }\n",
       "        };\n",
       "    }\n",
       "\n",
       "    fig.buttons = {};\n",
       "    var buttonGroup = document.createElement('div');\n",
       "    buttonGroup.classList = 'mpl-button-group';\n",
       "    for (var toolbar_ind in mpl.toolbar_items) {\n",
       "        var name = mpl.toolbar_items[toolbar_ind][0];\n",
       "        var tooltip = mpl.toolbar_items[toolbar_ind][1];\n",
       "        var image = mpl.toolbar_items[toolbar_ind][2];\n",
       "        var method_name = mpl.toolbar_items[toolbar_ind][3];\n",
       "\n",
       "        if (!name) {\n",
       "            /* Instead of a spacer, we start a new button group. */\n",
       "            if (buttonGroup.hasChildNodes()) {\n",
       "                toolbar.appendChild(buttonGroup);\n",
       "            }\n",
       "            buttonGroup = document.createElement('div');\n",
       "            buttonGroup.classList = 'mpl-button-group';\n",
       "            continue;\n",
       "        }\n",
       "\n",
       "        var button = (fig.buttons[name] = document.createElement('button'));\n",
       "        button.classList = 'mpl-widget';\n",
       "        button.setAttribute('role', 'button');\n",
       "        button.setAttribute('aria-disabled', 'false');\n",
       "        button.addEventListener('click', on_click_closure(method_name));\n",
       "        button.addEventListener('mouseover', on_mouseover_closure(tooltip));\n",
       "\n",
       "        var icon_img = document.createElement('img');\n",
       "        icon_img.src = '_images/' + image + '.png';\n",
       "        icon_img.srcset = '_images/' + image + '_large.png 2x';\n",
       "        icon_img.alt = tooltip;\n",
       "        button.appendChild(icon_img);\n",
       "\n",
       "        buttonGroup.appendChild(button);\n",
       "    }\n",
       "\n",
       "    if (buttonGroup.hasChildNodes()) {\n",
       "        toolbar.appendChild(buttonGroup);\n",
       "    }\n",
       "\n",
       "    var fmt_picker = document.createElement('select');\n",
       "    fmt_picker.classList = 'mpl-widget';\n",
       "    toolbar.appendChild(fmt_picker);\n",
       "    this.format_dropdown = fmt_picker;\n",
       "\n",
       "    for (var ind in mpl.extensions) {\n",
       "        var fmt = mpl.extensions[ind];\n",
       "        var option = document.createElement('option');\n",
       "        option.selected = fmt === mpl.default_extension;\n",
       "        option.innerHTML = fmt;\n",
       "        fmt_picker.appendChild(option);\n",
       "    }\n",
       "\n",
       "    var status_bar = document.createElement('span');\n",
       "    status_bar.classList = 'mpl-message';\n",
       "    toolbar.appendChild(status_bar);\n",
       "    this.message = status_bar;\n",
       "};\n",
       "\n",
       "mpl.figure.prototype.request_resize = function (x_pixels, y_pixels) {\n",
       "    // Request matplotlib to resize the figure. Matplotlib will then trigger a resize in the client,\n",
       "    // which will in turn request a refresh of the image.\n",
       "    this.send_message('resize', { width: x_pixels, height: y_pixels });\n",
       "};\n",
       "\n",
       "mpl.figure.prototype.send_message = function (type, properties) {\n",
       "    properties['type'] = type;\n",
       "    properties['figure_id'] = this.id;\n",
       "    this.ws.send(JSON.stringify(properties));\n",
       "};\n",
       "\n",
       "mpl.figure.prototype.send_draw_message = function () {\n",
       "    if (!this.waiting) {\n",
       "        this.waiting = true;\n",
       "        this.ws.send(JSON.stringify({ type: 'draw', figure_id: this.id }));\n",
       "    }\n",
       "};\n",
       "\n",
       "mpl.figure.prototype.handle_save = function (fig, _msg) {\n",
       "    var format_dropdown = fig.format_dropdown;\n",
       "    var format = format_dropdown.options[format_dropdown.selectedIndex].value;\n",
       "    fig.ondownload(fig, format);\n",
       "};\n",
       "\n",
       "mpl.figure.prototype.handle_resize = function (fig, msg) {\n",
       "    var size = msg['size'];\n",
       "    if (size[0] !== fig.canvas.width || size[1] !== fig.canvas.height) {\n",
       "        fig._resize_canvas(size[0], size[1], msg['forward']);\n",
       "        fig.send_message('refresh', {});\n",
       "    }\n",
       "};\n",
       "\n",
       "mpl.figure.prototype.handle_rubberband = function (fig, msg) {\n",
       "    var x0 = msg['x0'] / fig.ratio;\n",
       "    var y0 = (fig.canvas.height - msg['y0']) / fig.ratio;\n",
       "    var x1 = msg['x1'] / fig.ratio;\n",
       "    var y1 = (fig.canvas.height - msg['y1']) / fig.ratio;\n",
       "    x0 = Math.floor(x0) + 0.5;\n",
       "    y0 = Math.floor(y0) + 0.5;\n",
       "    x1 = Math.floor(x1) + 0.5;\n",
       "    y1 = Math.floor(y1) + 0.5;\n",
       "    var min_x = Math.min(x0, x1);\n",
       "    var min_y = Math.min(y0, y1);\n",
       "    var width = Math.abs(x1 - x0);\n",
       "    var height = Math.abs(y1 - y0);\n",
       "\n",
       "    fig.rubberband_context.clearRect(\n",
       "        0,\n",
       "        0,\n",
       "        fig.canvas.width / fig.ratio,\n",
       "        fig.canvas.height / fig.ratio\n",
       "    );\n",
       "\n",
       "    fig.rubberband_context.strokeRect(min_x, min_y, width, height);\n",
       "};\n",
       "\n",
       "mpl.figure.prototype.handle_figure_label = function (fig, msg) {\n",
       "    // Updates the figure title.\n",
       "    fig.header.textContent = msg['label'];\n",
       "};\n",
       "\n",
       "mpl.figure.prototype.handle_cursor = function (fig, msg) {\n",
       "    var cursor = msg['cursor'];\n",
       "    switch (cursor) {\n",
       "        case 0:\n",
       "            cursor = 'pointer';\n",
       "            break;\n",
       "        case 1:\n",
       "            cursor = 'default';\n",
       "            break;\n",
       "        case 2:\n",
       "            cursor = 'crosshair';\n",
       "            break;\n",
       "        case 3:\n",
       "            cursor = 'move';\n",
       "            break;\n",
       "    }\n",
       "    fig.rubberband_canvas.style.cursor = cursor;\n",
       "};\n",
       "\n",
       "mpl.figure.prototype.handle_message = function (fig, msg) {\n",
       "    fig.message.textContent = msg['message'];\n",
       "};\n",
       "\n",
       "mpl.figure.prototype.handle_draw = function (fig, _msg) {\n",
       "    // Request the server to send over a new figure.\n",
       "    fig.send_draw_message();\n",
       "};\n",
       "\n",
       "mpl.figure.prototype.handle_image_mode = function (fig, msg) {\n",
       "    fig.image_mode = msg['mode'];\n",
       "};\n",
       "\n",
       "mpl.figure.prototype.handle_history_buttons = function (fig, msg) {\n",
       "    for (var key in msg) {\n",
       "        if (!(key in fig.buttons)) {\n",
       "            continue;\n",
       "        }\n",
       "        fig.buttons[key].disabled = !msg[key];\n",
       "        fig.buttons[key].setAttribute('aria-disabled', !msg[key]);\n",
       "    }\n",
       "};\n",
       "\n",
       "mpl.figure.prototype.handle_navigate_mode = function (fig, msg) {\n",
       "    if (msg['mode'] === 'PAN') {\n",
       "        fig.buttons['Pan'].classList.add('active');\n",
       "        fig.buttons['Zoom'].classList.remove('active');\n",
       "    } else if (msg['mode'] === 'ZOOM') {\n",
       "        fig.buttons['Pan'].classList.remove('active');\n",
       "        fig.buttons['Zoom'].classList.add('active');\n",
       "    } else {\n",
       "        fig.buttons['Pan'].classList.remove('active');\n",
       "        fig.buttons['Zoom'].classList.remove('active');\n",
       "    }\n",
       "};\n",
       "\n",
       "mpl.figure.prototype.updated_canvas_event = function () {\n",
       "    // Called whenever the canvas gets updated.\n",
       "    this.send_message('ack', {});\n",
       "};\n",
       "\n",
       "// A function to construct a web socket function for onmessage handling.\n",
       "// Called in the figure constructor.\n",
       "mpl.figure.prototype._make_on_message_function = function (fig) {\n",
       "    return function socket_on_message(evt) {\n",
       "        if (evt.data instanceof Blob) {\n",
       "            var img = evt.data;\n",
       "            if (img.type !== 'image/png') {\n",
       "                /* FIXME: We get \"Resource interpreted as Image but\n",
       "                 * transferred with MIME type text/plain:\" errors on\n",
       "                 * Chrome.  But how to set the MIME type?  It doesn't seem\n",
       "                 * to be part of the websocket stream */\n",
       "                img.type = 'image/png';\n",
       "            }\n",
       "\n",
       "            /* Free the memory for the previous frames */\n",
       "            if (fig.imageObj.src) {\n",
       "                (window.URL || window.webkitURL).revokeObjectURL(\n",
       "                    fig.imageObj.src\n",
       "                );\n",
       "            }\n",
       "\n",
       "            fig.imageObj.src = (window.URL || window.webkitURL).createObjectURL(\n",
       "                img\n",
       "            );\n",
       "            fig.updated_canvas_event();\n",
       "            fig.waiting = false;\n",
       "            return;\n",
       "        } else if (\n",
       "            typeof evt.data === 'string' &&\n",
       "            evt.data.slice(0, 21) === 'data:image/png;base64'\n",
       "        ) {\n",
       "            fig.imageObj.src = evt.data;\n",
       "            fig.updated_canvas_event();\n",
       "            fig.waiting = false;\n",
       "            return;\n",
       "        }\n",
       "\n",
       "        var msg = JSON.parse(evt.data);\n",
       "        var msg_type = msg['type'];\n",
       "\n",
       "        // Call the  \"handle_{type}\" callback, which takes\n",
       "        // the figure and JSON message as its only arguments.\n",
       "        try {\n",
       "            var callback = fig['handle_' + msg_type];\n",
       "        } catch (e) {\n",
       "            console.log(\n",
       "                \"No handler for the '\" + msg_type + \"' message type: \",\n",
       "                msg\n",
       "            );\n",
       "            return;\n",
       "        }\n",
       "\n",
       "        if (callback) {\n",
       "            try {\n",
       "                // console.log(\"Handling '\" + msg_type + \"' message: \", msg);\n",
       "                callback(fig, msg);\n",
       "            } catch (e) {\n",
       "                console.log(\n",
       "                    \"Exception inside the 'handler_\" + msg_type + \"' callback:\",\n",
       "                    e,\n",
       "                    e.stack,\n",
       "                    msg\n",
       "                );\n",
       "            }\n",
       "        }\n",
       "    };\n",
       "};\n",
       "\n",
       "// from http://stackoverflow.com/questions/1114465/getting-mouse-location-in-canvas\n",
       "mpl.findpos = function (e) {\n",
       "    //this section is from http://www.quirksmode.org/js/events_properties.html\n",
       "    var targ;\n",
       "    if (!e) {\n",
       "        e = window.event;\n",
       "    }\n",
       "    if (e.target) {\n",
       "        targ = e.target;\n",
       "    } else if (e.srcElement) {\n",
       "        targ = e.srcElement;\n",
       "    }\n",
       "    if (targ.nodeType === 3) {\n",
       "        // defeat Safari bug\n",
       "        targ = targ.parentNode;\n",
       "    }\n",
       "\n",
       "    // pageX,Y are the mouse positions relative to the document\n",
       "    var boundingRect = targ.getBoundingClientRect();\n",
       "    var x = e.pageX - (boundingRect.left + document.body.scrollLeft);\n",
       "    var y = e.pageY - (boundingRect.top + document.body.scrollTop);\n",
       "\n",
       "    return { x: x, y: y };\n",
       "};\n",
       "\n",
       "/*\n",
       " * return a copy of an object with only non-object keys\n",
       " * we need this to avoid circular references\n",
       " * http://stackoverflow.com/a/24161582/3208463\n",
       " */\n",
       "function simpleKeys(original) {\n",
       "    return Object.keys(original).reduce(function (obj, key) {\n",
       "        if (typeof original[key] !== 'object') {\n",
       "            obj[key] = original[key];\n",
       "        }\n",
       "        return obj;\n",
       "    }, {});\n",
       "}\n",
       "\n",
       "mpl.figure.prototype.mouse_event = function (event, name) {\n",
       "    var canvas_pos = mpl.findpos(event);\n",
       "\n",
       "    if (name === 'button_press') {\n",
       "        this.canvas.focus();\n",
       "        this.canvas_div.focus();\n",
       "    }\n",
       "\n",
       "    var x = canvas_pos.x * this.ratio;\n",
       "    var y = canvas_pos.y * this.ratio;\n",
       "\n",
       "    this.send_message(name, {\n",
       "        x: x,\n",
       "        y: y,\n",
       "        button: event.button,\n",
       "        step: event.step,\n",
       "        guiEvent: simpleKeys(event),\n",
       "    });\n",
       "\n",
       "    /* This prevents the web browser from automatically changing to\n",
       "     * the text insertion cursor when the button is pressed.  We want\n",
       "     * to control all of the cursor setting manually through the\n",
       "     * 'cursor' event from matplotlib */\n",
       "    event.preventDefault();\n",
       "    return false;\n",
       "};\n",
       "\n",
       "mpl.figure.prototype._key_event_extra = function (_event, _name) {\n",
       "    // Handle any extra behaviour associated with a key event\n",
       "};\n",
       "\n",
       "mpl.figure.prototype.key_event = function (event, name) {\n",
       "    // Prevent repeat events\n",
       "    if (name === 'key_press') {\n",
       "        if (event.key === this._key) {\n",
       "            return;\n",
       "        } else {\n",
       "            this._key = event.key;\n",
       "        }\n",
       "    }\n",
       "    if (name === 'key_release') {\n",
       "        this._key = null;\n",
       "    }\n",
       "\n",
       "    var value = '';\n",
       "    if (event.ctrlKey && event.key !== 'Control') {\n",
       "        value += 'ctrl+';\n",
       "    }\n",
       "    else if (event.altKey && event.key !== 'Alt') {\n",
       "        value += 'alt+';\n",
       "    }\n",
       "    else if (event.shiftKey && event.key !== 'Shift') {\n",
       "        value += 'shift+';\n",
       "    }\n",
       "\n",
       "    value += 'k' + event.key;\n",
       "\n",
       "    this._key_event_extra(event, name);\n",
       "\n",
       "    this.send_message(name, { key: value, guiEvent: simpleKeys(event) });\n",
       "    return false;\n",
       "};\n",
       "\n",
       "mpl.figure.prototype.toolbar_button_onclick = function (name) {\n",
       "    if (name === 'download') {\n",
       "        this.handle_save(this, null);\n",
       "    } else {\n",
       "        this.send_message('toolbar_button', { name: name });\n",
       "    }\n",
       "};\n",
       "\n",
       "mpl.figure.prototype.toolbar_button_onmouseover = function (tooltip) {\n",
       "    this.message.textContent = tooltip;\n",
       "};\n",
       "\n",
       "///////////////// REMAINING CONTENT GENERATED BY embed_js.py /////////////////\n",
       "// prettier-ignore\n",
       "var _JSXTOOLS_RESIZE_OBSERVER=function(A){var t,i=new WeakMap,n=new WeakMap,a=new WeakMap,r=new WeakMap,o=new Set;function s(e){if(!(this instanceof s))throw new TypeError(\"Constructor requires 'new' operator\");i.set(this,e)}function h(){throw new TypeError(\"Function is not a constructor\")}function c(e,t,i,n){e=0 in arguments?Number(arguments[0]):0,t=1 in arguments?Number(arguments[1]):0,i=2 in arguments?Number(arguments[2]):0,n=3 in arguments?Number(arguments[3]):0,this.right=(this.x=this.left=e)+(this.width=i),this.bottom=(this.y=this.top=t)+(this.height=n),Object.freeze(this)}function d(){t=requestAnimationFrame(d);var s=new WeakMap,p=new Set;o.forEach((function(t){r.get(t).forEach((function(i){var r=t instanceof window.SVGElement,o=a.get(t),d=r?0:parseFloat(o.paddingTop),f=r?0:parseFloat(o.paddingRight),l=r?0:parseFloat(o.paddingBottom),u=r?0:parseFloat(o.paddingLeft),g=r?0:parseFloat(o.borderTopWidth),m=r?0:parseFloat(o.borderRightWidth),w=r?0:parseFloat(o.borderBottomWidth),b=u+f,F=d+l,v=(r?0:parseFloat(o.borderLeftWidth))+m,W=g+w,y=r?0:t.offsetHeight-W-t.clientHeight,E=r?0:t.offsetWidth-v-t.clientWidth,R=b+v,z=F+W,M=r?t.width:parseFloat(o.width)-R-E,O=r?t.height:parseFloat(o.height)-z-y;if(n.has(t)){var k=n.get(t);if(k[0]===M&&k[1]===O)return}n.set(t,[M,O]);var S=Object.create(h.prototype);S.target=t,S.contentRect=new c(u,d,M,O),s.has(i)||(s.set(i,[]),p.add(i)),s.get(i).push(S)}))})),p.forEach((function(e){i.get(e).call(e,s.get(e),e)}))}return s.prototype.observe=function(i){if(i instanceof window.Element){r.has(i)||(r.set(i,new Set),o.add(i),a.set(i,window.getComputedStyle(i)));var n=r.get(i);n.has(this)||n.add(this),cancelAnimationFrame(t),t=requestAnimationFrame(d)}},s.prototype.unobserve=function(i){if(i instanceof window.Element&&r.has(i)){var n=r.get(i);n.has(this)&&(n.delete(this),n.size||(r.delete(i),o.delete(i))),n.size||r.delete(i),o.size||cancelAnimationFrame(t)}},A.DOMRectReadOnly=c,A.ResizeObserver=s,A.ResizeObserverEntry=h,A}; // eslint-disable-line\n",
       "mpl.toolbar_items = [[\"Home\", \"Reset original view\", \"fa fa-home icon-home\", \"home\"], [\"Back\", \"Back to previous view\", \"fa fa-arrow-left icon-arrow-left\", \"back\"], [\"Forward\", \"Forward to next view\", \"fa fa-arrow-right icon-arrow-right\", \"forward\"], [\"\", \"\", \"\", \"\"], [\"Pan\", \"Left button pans, Right button zooms\\nx/y fixes axis, CTRL fixes aspect\", \"fa fa-arrows icon-move\", \"pan\"], [\"Zoom\", \"Zoom to rectangle\\nx/y fixes axis, CTRL fixes aspect\", \"fa fa-square-o icon-check-empty\", \"zoom\"], [\"\", \"\", \"\", \"\"], [\"Download\", \"Download plot\", \"fa fa-floppy-o icon-save\", \"download\"]];\n",
       "\n",
       "mpl.extensions = [\"eps\", \"jpeg\", \"pgf\", \"pdf\", \"png\", \"ps\", \"raw\", \"svg\", \"tif\"];\n",
       "\n",
       "mpl.default_extension = \"png\";/* global mpl */\n",
       "\n",
       "var comm_websocket_adapter = function (comm) {\n",
       "    // Create a \"websocket\"-like object which calls the given IPython comm\n",
       "    // object with the appropriate methods. Currently this is a non binary\n",
       "    // socket, so there is still some room for performance tuning.\n",
       "    var ws = {};\n",
       "\n",
       "    ws.binaryType = comm.kernel.ws.binaryType;\n",
       "    ws.readyState = comm.kernel.ws.readyState;\n",
       "    function updateReadyState(_event) {\n",
       "        if (comm.kernel.ws) {\n",
       "            ws.readyState = comm.kernel.ws.readyState;\n",
       "        } else {\n",
       "            ws.readyState = 3; // Closed state.\n",
       "        }\n",
       "    }\n",
       "    comm.kernel.ws.addEventListener('open', updateReadyState);\n",
       "    comm.kernel.ws.addEventListener('close', updateReadyState);\n",
       "    comm.kernel.ws.addEventListener('error', updateReadyState);\n",
       "\n",
       "    ws.close = function () {\n",
       "        comm.close();\n",
       "    };\n",
       "    ws.send = function (m) {\n",
       "        //console.log('sending', m);\n",
       "        comm.send(m);\n",
       "    };\n",
       "    // Register the callback with on_msg.\n",
       "    comm.on_msg(function (msg) {\n",
       "        //console.log('receiving', msg['content']['data'], msg);\n",
       "        var data = msg['content']['data'];\n",
       "        if (data['blob'] !== undefined) {\n",
       "            data = {\n",
       "                data: new Blob(msg['buffers'], { type: data['blob'] }),\n",
       "            };\n",
       "        }\n",
       "        // Pass the mpl event to the overridden (by mpl) onmessage function.\n",
       "        ws.onmessage(data);\n",
       "    });\n",
       "    return ws;\n",
       "};\n",
       "\n",
       "mpl.mpl_figure_comm = function (comm, msg) {\n",
       "    // This is the function which gets called when the mpl process\n",
       "    // starts-up an IPython Comm through the \"matplotlib\" channel.\n",
       "\n",
       "    var id = msg.content.data.id;\n",
       "    // Get hold of the div created by the display call when the Comm\n",
       "    // socket was opened in Python.\n",
       "    var element = document.getElementById(id);\n",
       "    var ws_proxy = comm_websocket_adapter(comm);\n",
       "\n",
       "    function ondownload(figure, _format) {\n",
       "        window.open(figure.canvas.toDataURL());\n",
       "    }\n",
       "\n",
       "    var fig = new mpl.figure(id, ws_proxy, ondownload, element);\n",
       "\n",
       "    // Call onopen now - mpl needs it, as it is assuming we've passed it a real\n",
       "    // web socket which is closed, not our websocket->open comm proxy.\n",
       "    ws_proxy.onopen();\n",
       "\n",
       "    fig.parent_element = element;\n",
       "    fig.cell_info = mpl.find_output_cell(\"<div id='\" + id + \"'></div>\");\n",
       "    if (!fig.cell_info) {\n",
       "        console.error('Failed to find cell for figure', id, fig);\n",
       "        return;\n",
       "    }\n",
       "    fig.cell_info[0].output_area.element.on(\n",
       "        'cleared',\n",
       "        { fig: fig },\n",
       "        fig._remove_fig_handler\n",
       "    );\n",
       "};\n",
       "\n",
       "mpl.figure.prototype.handle_close = function (fig, msg) {\n",
       "    var width = fig.canvas.width / fig.ratio;\n",
       "    fig.cell_info[0].output_area.element.off(\n",
       "        'cleared',\n",
       "        fig._remove_fig_handler\n",
       "    );\n",
       "    fig.resizeObserverInstance.unobserve(fig.canvas_div);\n",
       "\n",
       "    // Update the output cell to use the data from the current canvas.\n",
       "    fig.push_to_output();\n",
       "    var dataURL = fig.canvas.toDataURL();\n",
       "    // Re-enable the keyboard manager in IPython - without this line, in FF,\n",
       "    // the notebook keyboard shortcuts fail.\n",
       "    IPython.keyboard_manager.enable();\n",
       "    fig.parent_element.innerHTML =\n",
       "        '<img src=\"' + dataURL + '\" width=\"' + width + '\">';\n",
       "    fig.close_ws(fig, msg);\n",
       "};\n",
       "\n",
       "mpl.figure.prototype.close_ws = function (fig, msg) {\n",
       "    fig.send_message('closing', msg);\n",
       "    // fig.ws.close()\n",
       "};\n",
       "\n",
       "mpl.figure.prototype.push_to_output = function (_remove_interactive) {\n",
       "    // Turn the data on the canvas into data in the output cell.\n",
       "    var width = this.canvas.width / this.ratio;\n",
       "    var dataURL = this.canvas.toDataURL();\n",
       "    this.cell_info[1]['text/html'] =\n",
       "        '<img src=\"' + dataURL + '\" width=\"' + width + '\">';\n",
       "};\n",
       "\n",
       "mpl.figure.prototype.updated_canvas_event = function () {\n",
       "    // Tell IPython that the notebook contents must change.\n",
       "    IPython.notebook.set_dirty(true);\n",
       "    this.send_message('ack', {});\n",
       "    var fig = this;\n",
       "    // Wait a second, then push the new image to the DOM so\n",
       "    // that it is saved nicely (might be nice to debounce this).\n",
       "    setTimeout(function () {\n",
       "        fig.push_to_output();\n",
       "    }, 1000);\n",
       "};\n",
       "\n",
       "mpl.figure.prototype._init_toolbar = function () {\n",
       "    var fig = this;\n",
       "\n",
       "    var toolbar = document.createElement('div');\n",
       "    toolbar.classList = 'btn-toolbar';\n",
       "    this.root.appendChild(toolbar);\n",
       "\n",
       "    function on_click_closure(name) {\n",
       "        return function (_event) {\n",
       "            return fig.toolbar_button_onclick(name);\n",
       "        };\n",
       "    }\n",
       "\n",
       "    function on_mouseover_closure(tooltip) {\n",
       "        return function (event) {\n",
       "            if (!event.currentTarget.disabled) {\n",
       "                return fig.toolbar_button_onmouseover(tooltip);\n",
       "            }\n",
       "        };\n",
       "    }\n",
       "\n",
       "    fig.buttons = {};\n",
       "    var buttonGroup = document.createElement('div');\n",
       "    buttonGroup.classList = 'btn-group';\n",
       "    var button;\n",
       "    for (var toolbar_ind in mpl.toolbar_items) {\n",
       "        var name = mpl.toolbar_items[toolbar_ind][0];\n",
       "        var tooltip = mpl.toolbar_items[toolbar_ind][1];\n",
       "        var image = mpl.toolbar_items[toolbar_ind][2];\n",
       "        var method_name = mpl.toolbar_items[toolbar_ind][3];\n",
       "\n",
       "        if (!name) {\n",
       "            /* Instead of a spacer, we start a new button group. */\n",
       "            if (buttonGroup.hasChildNodes()) {\n",
       "                toolbar.appendChild(buttonGroup);\n",
       "            }\n",
       "            buttonGroup = document.createElement('div');\n",
       "            buttonGroup.classList = 'btn-group';\n",
       "            continue;\n",
       "        }\n",
       "\n",
       "        button = fig.buttons[name] = document.createElement('button');\n",
       "        button.classList = 'btn btn-default';\n",
       "        button.href = '#';\n",
       "        button.title = name;\n",
       "        button.innerHTML = '<i class=\"fa ' + image + ' fa-lg\"></i>';\n",
       "        button.addEventListener('click', on_click_closure(method_name));\n",
       "        button.addEventListener('mouseover', on_mouseover_closure(tooltip));\n",
       "        buttonGroup.appendChild(button);\n",
       "    }\n",
       "\n",
       "    if (buttonGroup.hasChildNodes()) {\n",
       "        toolbar.appendChild(buttonGroup);\n",
       "    }\n",
       "\n",
       "    // Add the status bar.\n",
       "    var status_bar = document.createElement('span');\n",
       "    status_bar.classList = 'mpl-message pull-right';\n",
       "    toolbar.appendChild(status_bar);\n",
       "    this.message = status_bar;\n",
       "\n",
       "    // Add the close button to the window.\n",
       "    var buttongrp = document.createElement('div');\n",
       "    buttongrp.classList = 'btn-group inline pull-right';\n",
       "    button = document.createElement('button');\n",
       "    button.classList = 'btn btn-mini btn-primary';\n",
       "    button.href = '#';\n",
       "    button.title = 'Stop Interaction';\n",
       "    button.innerHTML = '<i class=\"fa fa-power-off icon-remove icon-large\"></i>';\n",
       "    button.addEventListener('click', function (_evt) {\n",
       "        fig.handle_close(fig, {});\n",
       "    });\n",
       "    button.addEventListener(\n",
       "        'mouseover',\n",
       "        on_mouseover_closure('Stop Interaction')\n",
       "    );\n",
       "    buttongrp.appendChild(button);\n",
       "    var titlebar = this.root.querySelector('.ui-dialog-titlebar');\n",
       "    titlebar.insertBefore(buttongrp, titlebar.firstChild);\n",
       "};\n",
       "\n",
       "mpl.figure.prototype._remove_fig_handler = function (event) {\n",
       "    var fig = event.data.fig;\n",
       "    if (event.target !== this) {\n",
       "        // Ignore bubbled events from children.\n",
       "        return;\n",
       "    }\n",
       "    fig.close_ws(fig, {});\n",
       "};\n",
       "\n",
       "mpl.figure.prototype._root_extra_style = function (el) {\n",
       "    el.style.boxSizing = 'content-box'; // override notebook setting of border-box.\n",
       "};\n",
       "\n",
       "mpl.figure.prototype._canvas_extra_style = function (el) {\n",
       "    // this is important to make the div 'focusable\n",
       "    el.setAttribute('tabindex', 0);\n",
       "    // reach out to IPython and tell the keyboard manager to turn it's self\n",
       "    // off when our div gets focus\n",
       "\n",
       "    // location in version 3\n",
       "    if (IPython.notebook.keyboard_manager) {\n",
       "        IPython.notebook.keyboard_manager.register_events(el);\n",
       "    } else {\n",
       "        // location in version 2\n",
       "        IPython.keyboard_manager.register_events(el);\n",
       "    }\n",
       "};\n",
       "\n",
       "mpl.figure.prototype._key_event_extra = function (event, _name) {\n",
       "    var manager = IPython.notebook.keyboard_manager;\n",
       "    if (!manager) {\n",
       "        manager = IPython.keyboard_manager;\n",
       "    }\n",
       "\n",
       "    // Check for shift+enter\n",
       "    if (event.shiftKey && event.which === 13) {\n",
       "        this.canvas_div.blur();\n",
       "        // select the cell after this one\n",
       "        var index = IPython.notebook.find_cell_index(this.cell_info[0]);\n",
       "        IPython.notebook.select(index + 1);\n",
       "    }\n",
       "};\n",
       "\n",
       "mpl.figure.prototype.handle_save = function (fig, _msg) {\n",
       "    fig.ondownload(fig, null);\n",
       "};\n",
       "\n",
       "mpl.find_output_cell = function (html_output) {\n",
       "    // Return the cell and output element which can be found *uniquely* in the notebook.\n",
       "    // Note - this is a bit hacky, but it is done because the \"notebook_saving.Notebook\"\n",
       "    // IPython event is triggered only after the cells have been serialised, which for\n",
       "    // our purposes (turning an active figure into a static one), is too late.\n",
       "    var cells = IPython.notebook.get_cells();\n",
       "    var ncells = cells.length;\n",
       "    for (var i = 0; i < ncells; i++) {\n",
       "        var cell = cells[i];\n",
       "        if (cell.cell_type === 'code') {\n",
       "            for (var j = 0; j < cell.output_area.outputs.length; j++) {\n",
       "                var data = cell.output_area.outputs[j];\n",
       "                if (data.data) {\n",
       "                    // IPython >= 3 moved mimebundle to data attribute of output\n",
       "                    data = data.data;\n",
       "                }\n",
       "                if (data['text/html'] === html_output) {\n",
       "                    return [cell, data, j];\n",
       "                }\n",
       "            }\n",
       "        }\n",
       "    }\n",
       "};\n",
       "\n",
       "// Register the function which deals with the matplotlib target/channel.\n",
       "// The kernel may be null if the page has been refreshed.\n",
       "if (IPython.notebook.kernel !== null) {\n",
       "    IPython.notebook.kernel.comm_manager.register_target(\n",
       "        'matplotlib',\n",
       "        mpl.mpl_figure_comm\n",
       "    );\n",
       "}\n"
      ],
      "text/plain": [
       "<IPython.core.display.Javascript object>"
      ]
     },
     "metadata": {},
     "output_type": "display_data"
    },
    {
     "data": {
      "text/html": [
       "<img src=\"data:image/png;base64,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\" width=\"640\">"
      ],
      "text/plain": [
       "<IPython.core.display.HTML object>"
      ]
     },
     "metadata": {},
     "output_type": "display_data"
    }
   ],
   "source": [
    "fig, ax = plt.subplots()\n",
    "ax. plot([-10, 0, 0, 10], [0,0,1,1], lw=3, label='Perceptron')\n",
    "xgrid = np.linspace(-10, 10, 1000)\n",
    "ax.plot(xgrid, 1/(1 + np.exp(-xgrid)), lw=2, label='Sigmoid')\n",
    "ax.set_xlim(-7.5, 7.5)\n",
    "ax.legend()\n",
    "ax.set_xlabel('input*weights - bias', fontsize=14)\n",
    "ax.set_ylabel('output', fontsize=14)\n",
    "fig.tight_layout()"
   ]
  },
  {
   "cell_type": "markdown",
   "id": "2764f3c9",
   "metadata": {
    "slideshow": {
     "slide_type": "slide"
    }
   },
   "source": [
    "The above plot shows that the sigmoid function is a \"smooth\" version of the perceptron. We can exploit this smoothness to achieve better learning outcomes. Small changes in the weights and biases will produce small changes in the sigmoid function, enabling gradual improvement, which cannot be said for the perceptron near the region of activation.  \n",
    "\n",
    "\n",
    "This will prove important in the next lecture."
   ]
  },
  {
   "cell_type": "markdown",
   "id": "ff188a96",
   "metadata": {
    "slideshow": {
     "slide_type": "slide"
    }
   },
   "source": [
    "## Challenge Problem\n",
    "\n",
    "Train a perceptron to classify the number 8 in the handwritten digits data set. \n",
    "\n",
    "*Hint* - you will need to convert the 2d data into a vector format."
   ]
  },
  {
   "cell_type": "markdown",
   "id": "16b0601e",
   "metadata": {
    "slideshow": {
     "slide_type": "skip"
    }
   },
   "source": [
    "## Appendix\n",
    "\n",
    "Functions to load plots shown in the notebook. "
   ]
  },
  {
   "cell_type": "code",
   "execution_count": 14,
   "id": "78d03ef9",
   "metadata": {
    "slideshow": {
     "slide_type": "skip"
    }
   },
   "outputs": [
    {
     "data": {
      "application/javascript": [
       "/* Put everything inside the global mpl namespace */\n",
       "/* global mpl */\n",
       "window.mpl = {};\n",
       "\n",
       "mpl.get_websocket_type = function () {\n",
       "    if (typeof WebSocket !== 'undefined') {\n",
       "        return WebSocket;\n",
       "    } else if (typeof MozWebSocket !== 'undefined') {\n",
       "        return MozWebSocket;\n",
       "    } else {\n",
       "        alert(\n",
       "            'Your browser does not have WebSocket support. ' +\n",
       "                'Please try Chrome, Safari or Firefox ≥ 6. ' +\n",
       "                'Firefox 4 and 5 are also supported but you ' +\n",
       "                'have to enable WebSockets in about:config.'\n",
       "        );\n",
       "    }\n",
       "};\n",
       "\n",
       "mpl.figure = function (figure_id, websocket, ondownload, parent_element) {\n",
       "    this.id = figure_id;\n",
       "\n",
       "    this.ws = websocket;\n",
       "\n",
       "    this.supports_binary = this.ws.binaryType !== undefined;\n",
       "\n",
       "    if (!this.supports_binary) {\n",
       "        var warnings = document.getElementById('mpl-warnings');\n",
       "        if (warnings) {\n",
       "            warnings.style.display = 'block';\n",
       "            warnings.textContent =\n",
       "                'This browser does not support binary websocket messages. ' +\n",
       "                'Performance may be slow.';\n",
       "        }\n",
       "    }\n",
       "\n",
       "    this.imageObj = new Image();\n",
       "\n",
       "    this.context = undefined;\n",
       "    this.message = undefined;\n",
       "    this.canvas = undefined;\n",
       "    this.rubberband_canvas = undefined;\n",
       "    this.rubberband_context = undefined;\n",
       "    this.format_dropdown = undefined;\n",
       "\n",
       "    this.image_mode = 'full';\n",
       "\n",
       "    this.root = document.createElement('div');\n",
       "    this.root.setAttribute('style', 'display: inline-block');\n",
       "    this._root_extra_style(this.root);\n",
       "\n",
       "    parent_element.appendChild(this.root);\n",
       "\n",
       "    this._init_header(this);\n",
       "    this._init_canvas(this);\n",
       "    this._init_toolbar(this);\n",
       "\n",
       "    var fig = this;\n",
       "\n",
       "    this.waiting = false;\n",
       "\n",
       "    this.ws.onopen = function () {\n",
       "        fig.send_message('supports_binary', { value: fig.supports_binary });\n",
       "        fig.send_message('send_image_mode', {});\n",
       "        if (fig.ratio !== 1) {\n",
       "            fig.send_message('set_dpi_ratio', { dpi_ratio: fig.ratio });\n",
       "        }\n",
       "        fig.send_message('refresh', {});\n",
       "    };\n",
       "\n",
       "    this.imageObj.onload = function () {\n",
       "        if (fig.image_mode === 'full') {\n",
       "            // Full images could contain transparency (where diff images\n",
       "            // almost always do), so we need to clear the canvas so that\n",
       "            // there is no ghosting.\n",
       "            fig.context.clearRect(0, 0, fig.canvas.width, fig.canvas.height);\n",
       "        }\n",
       "        fig.context.drawImage(fig.imageObj, 0, 0);\n",
       "    };\n",
       "\n",
       "    this.imageObj.onunload = function () {\n",
       "        fig.ws.close();\n",
       "    };\n",
       "\n",
       "    this.ws.onmessage = this._make_on_message_function(this);\n",
       "\n",
       "    this.ondownload = ondownload;\n",
       "};\n",
       "\n",
       "mpl.figure.prototype._init_header = function () {\n",
       "    var titlebar = document.createElement('div');\n",
       "    titlebar.classList =\n",
       "        'ui-dialog-titlebar ui-widget-header ui-corner-all ui-helper-clearfix';\n",
       "    var titletext = document.createElement('div');\n",
       "    titletext.classList = 'ui-dialog-title';\n",
       "    titletext.setAttribute(\n",
       "        'style',\n",
       "        'width: 100%; text-align: center; padding: 3px;'\n",
       "    );\n",
       "    titlebar.appendChild(titletext);\n",
       "    this.root.appendChild(titlebar);\n",
       "    this.header = titletext;\n",
       "};\n",
       "\n",
       "mpl.figure.prototype._canvas_extra_style = function (_canvas_div) {};\n",
       "\n",
       "mpl.figure.prototype._root_extra_style = function (_canvas_div) {};\n",
       "\n",
       "mpl.figure.prototype._init_canvas = function () {\n",
       "    var fig = this;\n",
       "\n",
       "    var canvas_div = (this.canvas_div = document.createElement('div'));\n",
       "    canvas_div.setAttribute(\n",
       "        'style',\n",
       "        'border: 1px solid #ddd;' +\n",
       "            'box-sizing: content-box;' +\n",
       "            'clear: both;' +\n",
       "            'min-height: 1px;' +\n",
       "            'min-width: 1px;' +\n",
       "            'outline: 0;' +\n",
       "            'overflow: hidden;' +\n",
       "            'position: relative;' +\n",
       "            'resize: both;'\n",
       "    );\n",
       "\n",
       "    function on_keyboard_event_closure(name) {\n",
       "        return function (event) {\n",
       "            return fig.key_event(event, name);\n",
       "        };\n",
       "    }\n",
       "\n",
       "    canvas_div.addEventListener(\n",
       "        'keydown',\n",
       "        on_keyboard_event_closure('key_press')\n",
       "    );\n",
       "    canvas_div.addEventListener(\n",
       "        'keyup',\n",
       "        on_keyboard_event_closure('key_release')\n",
       "    );\n",
       "\n",
       "    this._canvas_extra_style(canvas_div);\n",
       "    this.root.appendChild(canvas_div);\n",
       "\n",
       "    var canvas = (this.canvas = document.createElement('canvas'));\n",
       "    canvas.classList.add('mpl-canvas');\n",
       "    canvas.setAttribute('style', 'box-sizing: content-box;');\n",
       "\n",
       "    this.context = canvas.getContext('2d');\n",
       "\n",
       "    var backingStore =\n",
       "        this.context.backingStorePixelRatio ||\n",
       "        this.context.webkitBackingStorePixelRatio ||\n",
       "        this.context.mozBackingStorePixelRatio ||\n",
       "        this.context.msBackingStorePixelRatio ||\n",
       "        this.context.oBackingStorePixelRatio ||\n",
       "        this.context.backingStorePixelRatio ||\n",
       "        1;\n",
       "\n",
       "    this.ratio = (window.devicePixelRatio || 1) / backingStore;\n",
       "\n",
       "    var rubberband_canvas = (this.rubberband_canvas = document.createElement(\n",
       "        'canvas'\n",
       "    ));\n",
       "    rubberband_canvas.setAttribute(\n",
       "        'style',\n",
       "        'box-sizing: content-box; position: absolute; left: 0; top: 0; z-index: 1;'\n",
       "    );\n",
       "\n",
       "    // Apply a ponyfill if ResizeObserver is not implemented by browser.\n",
       "    if (this.ResizeObserver === undefined) {\n",
       "        if (window.ResizeObserver !== undefined) {\n",
       "            this.ResizeObserver = window.ResizeObserver;\n",
       "        } else {\n",
       "            var obs = _JSXTOOLS_RESIZE_OBSERVER({});\n",
       "            this.ResizeObserver = obs.ResizeObserver;\n",
       "        }\n",
       "    }\n",
       "\n",
       "    this.resizeObserverInstance = new this.ResizeObserver(function (entries) {\n",
       "        var nentries = entries.length;\n",
       "        for (var i = 0; i < nentries; i++) {\n",
       "            var entry = entries[i];\n",
       "            var width, height;\n",
       "            if (entry.contentBoxSize) {\n",
       "                if (entry.contentBoxSize instanceof Array) {\n",
       "                    // Chrome 84 implements new version of spec.\n",
       "                    width = entry.contentBoxSize[0].inlineSize;\n",
       "                    height = entry.contentBoxSize[0].blockSize;\n",
       "                } else {\n",
       "                    // Firefox implements old version of spec.\n",
       "                    width = entry.contentBoxSize.inlineSize;\n",
       "                    height = entry.contentBoxSize.blockSize;\n",
       "                }\n",
       "            } else {\n",
       "                // Chrome <84 implements even older version of spec.\n",
       "                width = entry.contentRect.width;\n",
       "                height = entry.contentRect.height;\n",
       "            }\n",
       "\n",
       "            // Keep the size of the canvas and rubber band canvas in sync with\n",
       "            // the canvas container.\n",
       "            if (entry.devicePixelContentBoxSize) {\n",
       "                // Chrome 84 implements new version of spec.\n",
       "                canvas.setAttribute(\n",
       "                    'width',\n",
       "                    entry.devicePixelContentBoxSize[0].inlineSize\n",
       "                );\n",
       "                canvas.setAttribute(\n",
       "                    'height',\n",
       "                    entry.devicePixelContentBoxSize[0].blockSize\n",
       "                );\n",
       "            } else {\n",
       "                canvas.setAttribute('width', width * fig.ratio);\n",
       "                canvas.setAttribute('height', height * fig.ratio);\n",
       "            }\n",
       "            canvas.setAttribute(\n",
       "                'style',\n",
       "                'width: ' + width + 'px; height: ' + height + 'px;'\n",
       "            );\n",
       "\n",
       "            rubberband_canvas.setAttribute('width', width);\n",
       "            rubberband_canvas.setAttribute('height', height);\n",
       "\n",
       "            // And update the size in Python. We ignore the initial 0/0 size\n",
       "            // that occurs as the element is placed into the DOM, which should\n",
       "            // otherwise not happen due to the minimum size styling.\n",
       "            if (fig.ws.readyState == 1 && width != 0 && height != 0) {\n",
       "                fig.request_resize(width, height);\n",
       "            }\n",
       "        }\n",
       "    });\n",
       "    this.resizeObserverInstance.observe(canvas_div);\n",
       "\n",
       "    function on_mouse_event_closure(name) {\n",
       "        return function (event) {\n",
       "            return fig.mouse_event(event, name);\n",
       "        };\n",
       "    }\n",
       "\n",
       "    rubberband_canvas.addEventListener(\n",
       "        'mousedown',\n",
       "        on_mouse_event_closure('button_press')\n",
       "    );\n",
       "    rubberband_canvas.addEventListener(\n",
       "        'mouseup',\n",
       "        on_mouse_event_closure('button_release')\n",
       "    );\n",
       "    rubberband_canvas.addEventListener(\n",
       "        'dblclick',\n",
       "        on_mouse_event_closure('dblclick')\n",
       "    );\n",
       "    // Throttle sequential mouse events to 1 every 20ms.\n",
       "    rubberband_canvas.addEventListener(\n",
       "        'mousemove',\n",
       "        on_mouse_event_closure('motion_notify')\n",
       "    );\n",
       "\n",
       "    rubberband_canvas.addEventListener(\n",
       "        'mouseenter',\n",
       "        on_mouse_event_closure('figure_enter')\n",
       "    );\n",
       "    rubberband_canvas.addEventListener(\n",
       "        'mouseleave',\n",
       "        on_mouse_event_closure('figure_leave')\n",
       "    );\n",
       "\n",
       "    canvas_div.addEventListener('wheel', function (event) {\n",
       "        if (event.deltaY < 0) {\n",
       "            event.step = 1;\n",
       "        } else {\n",
       "            event.step = -1;\n",
       "        }\n",
       "        on_mouse_event_closure('scroll')(event);\n",
       "    });\n",
       "\n",
       "    canvas_div.appendChild(canvas);\n",
       "    canvas_div.appendChild(rubberband_canvas);\n",
       "\n",
       "    this.rubberband_context = rubberband_canvas.getContext('2d');\n",
       "    this.rubberband_context.strokeStyle = '#000000';\n",
       "\n",
       "    this._resize_canvas = function (width, height, forward) {\n",
       "        if (forward) {\n",
       "            canvas_div.style.width = width + 'px';\n",
       "            canvas_div.style.height = height + 'px';\n",
       "        }\n",
       "    };\n",
       "\n",
       "    // Disable right mouse context menu.\n",
       "    this.rubberband_canvas.addEventListener('contextmenu', function (_e) {\n",
       "        event.preventDefault();\n",
       "        return false;\n",
       "    });\n",
       "\n",
       "    function set_focus() {\n",
       "        canvas.focus();\n",
       "        canvas_div.focus();\n",
       "    }\n",
       "\n",
       "    window.setTimeout(set_focus, 100);\n",
       "};\n",
       "\n",
       "mpl.figure.prototype._init_toolbar = function () {\n",
       "    var fig = this;\n",
       "\n",
       "    var toolbar = document.createElement('div');\n",
       "    toolbar.classList = 'mpl-toolbar';\n",
       "    this.root.appendChild(toolbar);\n",
       "\n",
       "    function on_click_closure(name) {\n",
       "        return function (_event) {\n",
       "            return fig.toolbar_button_onclick(name);\n",
       "        };\n",
       "    }\n",
       "\n",
       "    function on_mouseover_closure(tooltip) {\n",
       "        return function (event) {\n",
       "            if (!event.currentTarget.disabled) {\n",
       "                return fig.toolbar_button_onmouseover(tooltip);\n",
       "            }\n",
       "        };\n",
       "    }\n",
       "\n",
       "    fig.buttons = {};\n",
       "    var buttonGroup = document.createElement('div');\n",
       "    buttonGroup.classList = 'mpl-button-group';\n",
       "    for (var toolbar_ind in mpl.toolbar_items) {\n",
       "        var name = mpl.toolbar_items[toolbar_ind][0];\n",
       "        var tooltip = mpl.toolbar_items[toolbar_ind][1];\n",
       "        var image = mpl.toolbar_items[toolbar_ind][2];\n",
       "        var method_name = mpl.toolbar_items[toolbar_ind][3];\n",
       "\n",
       "        if (!name) {\n",
       "            /* Instead of a spacer, we start a new button group. */\n",
       "            if (buttonGroup.hasChildNodes()) {\n",
       "                toolbar.appendChild(buttonGroup);\n",
       "            }\n",
       "            buttonGroup = document.createElement('div');\n",
       "            buttonGroup.classList = 'mpl-button-group';\n",
       "            continue;\n",
       "        }\n",
       "\n",
       "        var button = (fig.buttons[name] = document.createElement('button'));\n",
       "        button.classList = 'mpl-widget';\n",
       "        button.setAttribute('role', 'button');\n",
       "        button.setAttribute('aria-disabled', 'false');\n",
       "        button.addEventListener('click', on_click_closure(method_name));\n",
       "        button.addEventListener('mouseover', on_mouseover_closure(tooltip));\n",
       "\n",
       "        var icon_img = document.createElement('img');\n",
       "        icon_img.src = '_images/' + image + '.png';\n",
       "        icon_img.srcset = '_images/' + image + '_large.png 2x';\n",
       "        icon_img.alt = tooltip;\n",
       "        button.appendChild(icon_img);\n",
       "\n",
       "        buttonGroup.appendChild(button);\n",
       "    }\n",
       "\n",
       "    if (buttonGroup.hasChildNodes()) {\n",
       "        toolbar.appendChild(buttonGroup);\n",
       "    }\n",
       "\n",
       "    var fmt_picker = document.createElement('select');\n",
       "    fmt_picker.classList = 'mpl-widget';\n",
       "    toolbar.appendChild(fmt_picker);\n",
       "    this.format_dropdown = fmt_picker;\n",
       "\n",
       "    for (var ind in mpl.extensions) {\n",
       "        var fmt = mpl.extensions[ind];\n",
       "        var option = document.createElement('option');\n",
       "        option.selected = fmt === mpl.default_extension;\n",
       "        option.innerHTML = fmt;\n",
       "        fmt_picker.appendChild(option);\n",
       "    }\n",
       "\n",
       "    var status_bar = document.createElement('span');\n",
       "    status_bar.classList = 'mpl-message';\n",
       "    toolbar.appendChild(status_bar);\n",
       "    this.message = status_bar;\n",
       "};\n",
       "\n",
       "mpl.figure.prototype.request_resize = function (x_pixels, y_pixels) {\n",
       "    // Request matplotlib to resize the figure. Matplotlib will then trigger a resize in the client,\n",
       "    // which will in turn request a refresh of the image.\n",
       "    this.send_message('resize', { width: x_pixels, height: y_pixels });\n",
       "};\n",
       "\n",
       "mpl.figure.prototype.send_message = function (type, properties) {\n",
       "    properties['type'] = type;\n",
       "    properties['figure_id'] = this.id;\n",
       "    this.ws.send(JSON.stringify(properties));\n",
       "};\n",
       "\n",
       "mpl.figure.prototype.send_draw_message = function () {\n",
       "    if (!this.waiting) {\n",
       "        this.waiting = true;\n",
       "        this.ws.send(JSON.stringify({ type: 'draw', figure_id: this.id }));\n",
       "    }\n",
       "};\n",
       "\n",
       "mpl.figure.prototype.handle_save = function (fig, _msg) {\n",
       "    var format_dropdown = fig.format_dropdown;\n",
       "    var format = format_dropdown.options[format_dropdown.selectedIndex].value;\n",
       "    fig.ondownload(fig, format);\n",
       "};\n",
       "\n",
       "mpl.figure.prototype.handle_resize = function (fig, msg) {\n",
       "    var size = msg['size'];\n",
       "    if (size[0] !== fig.canvas.width || size[1] !== fig.canvas.height) {\n",
       "        fig._resize_canvas(size[0], size[1], msg['forward']);\n",
       "        fig.send_message('refresh', {});\n",
       "    }\n",
       "};\n",
       "\n",
       "mpl.figure.prototype.handle_rubberband = function (fig, msg) {\n",
       "    var x0 = msg['x0'] / fig.ratio;\n",
       "    var y0 = (fig.canvas.height - msg['y0']) / fig.ratio;\n",
       "    var x1 = msg['x1'] / fig.ratio;\n",
       "    var y1 = (fig.canvas.height - msg['y1']) / fig.ratio;\n",
       "    x0 = Math.floor(x0) + 0.5;\n",
       "    y0 = Math.floor(y0) + 0.5;\n",
       "    x1 = Math.floor(x1) + 0.5;\n",
       "    y1 = Math.floor(y1) + 0.5;\n",
       "    var min_x = Math.min(x0, x1);\n",
       "    var min_y = Math.min(y0, y1);\n",
       "    var width = Math.abs(x1 - x0);\n",
       "    var height = Math.abs(y1 - y0);\n",
       "\n",
       "    fig.rubberband_context.clearRect(\n",
       "        0,\n",
       "        0,\n",
       "        fig.canvas.width / fig.ratio,\n",
       "        fig.canvas.height / fig.ratio\n",
       "    );\n",
       "\n",
       "    fig.rubberband_context.strokeRect(min_x, min_y, width, height);\n",
       "};\n",
       "\n",
       "mpl.figure.prototype.handle_figure_label = function (fig, msg) {\n",
       "    // Updates the figure title.\n",
       "    fig.header.textContent = msg['label'];\n",
       "};\n",
       "\n",
       "mpl.figure.prototype.handle_cursor = function (fig, msg) {\n",
       "    var cursor = msg['cursor'];\n",
       "    switch (cursor) {\n",
       "        case 0:\n",
       "            cursor = 'pointer';\n",
       "            break;\n",
       "        case 1:\n",
       "            cursor = 'default';\n",
       "            break;\n",
       "        case 2:\n",
       "            cursor = 'crosshair';\n",
       "            break;\n",
       "        case 3:\n",
       "            cursor = 'move';\n",
       "            break;\n",
       "    }\n",
       "    fig.rubberband_canvas.style.cursor = cursor;\n",
       "};\n",
       "\n",
       "mpl.figure.prototype.handle_message = function (fig, msg) {\n",
       "    fig.message.textContent = msg['message'];\n",
       "};\n",
       "\n",
       "mpl.figure.prototype.handle_draw = function (fig, _msg) {\n",
       "    // Request the server to send over a new figure.\n",
       "    fig.send_draw_message();\n",
       "};\n",
       "\n",
       "mpl.figure.prototype.handle_image_mode = function (fig, msg) {\n",
       "    fig.image_mode = msg['mode'];\n",
       "};\n",
       "\n",
       "mpl.figure.prototype.handle_history_buttons = function (fig, msg) {\n",
       "    for (var key in msg) {\n",
       "        if (!(key in fig.buttons)) {\n",
       "            continue;\n",
       "        }\n",
       "        fig.buttons[key].disabled = !msg[key];\n",
       "        fig.buttons[key].setAttribute('aria-disabled', !msg[key]);\n",
       "    }\n",
       "};\n",
       "\n",
       "mpl.figure.prototype.handle_navigate_mode = function (fig, msg) {\n",
       "    if (msg['mode'] === 'PAN') {\n",
       "        fig.buttons['Pan'].classList.add('active');\n",
       "        fig.buttons['Zoom'].classList.remove('active');\n",
       "    } else if (msg['mode'] === 'ZOOM') {\n",
       "        fig.buttons['Pan'].classList.remove('active');\n",
       "        fig.buttons['Zoom'].classList.add('active');\n",
       "    } else {\n",
       "        fig.buttons['Pan'].classList.remove('active');\n",
       "        fig.buttons['Zoom'].classList.remove('active');\n",
       "    }\n",
       "};\n",
       "\n",
       "mpl.figure.prototype.updated_canvas_event = function () {\n",
       "    // Called whenever the canvas gets updated.\n",
       "    this.send_message('ack', {});\n",
       "};\n",
       "\n",
       "// A function to construct a web socket function for onmessage handling.\n",
       "// Called in the figure constructor.\n",
       "mpl.figure.prototype._make_on_message_function = function (fig) {\n",
       "    return function socket_on_message(evt) {\n",
       "        if (evt.data instanceof Blob) {\n",
       "            var img = evt.data;\n",
       "            if (img.type !== 'image/png') {\n",
       "                /* FIXME: We get \"Resource interpreted as Image but\n",
       "                 * transferred with MIME type text/plain:\" errors on\n",
       "                 * Chrome.  But how to set the MIME type?  It doesn't seem\n",
       "                 * to be part of the websocket stream */\n",
       "                img.type = 'image/png';\n",
       "            }\n",
       "\n",
       "            /* Free the memory for the previous frames */\n",
       "            if (fig.imageObj.src) {\n",
       "                (window.URL || window.webkitURL).revokeObjectURL(\n",
       "                    fig.imageObj.src\n",
       "                );\n",
       "            }\n",
       "\n",
       "            fig.imageObj.src = (window.URL || window.webkitURL).createObjectURL(\n",
       "                img\n",
       "            );\n",
       "            fig.updated_canvas_event();\n",
       "            fig.waiting = false;\n",
       "            return;\n",
       "        } else if (\n",
       "            typeof evt.data === 'string' &&\n",
       "            evt.data.slice(0, 21) === 'data:image/png;base64'\n",
       "        ) {\n",
       "            fig.imageObj.src = evt.data;\n",
       "            fig.updated_canvas_event();\n",
       "            fig.waiting = false;\n",
       "            return;\n",
       "        }\n",
       "\n",
       "        var msg = JSON.parse(evt.data);\n",
       "        var msg_type = msg['type'];\n",
       "\n",
       "        // Call the  \"handle_{type}\" callback, which takes\n",
       "        // the figure and JSON message as its only arguments.\n",
       "        try {\n",
       "            var callback = fig['handle_' + msg_type];\n",
       "        } catch (e) {\n",
       "            console.log(\n",
       "                \"No handler for the '\" + msg_type + \"' message type: \",\n",
       "                msg\n",
       "            );\n",
       "            return;\n",
       "        }\n",
       "\n",
       "        if (callback) {\n",
       "            try {\n",
       "                // console.log(\"Handling '\" + msg_type + \"' message: \", msg);\n",
       "                callback(fig, msg);\n",
       "            } catch (e) {\n",
       "                console.log(\n",
       "                    \"Exception inside the 'handler_\" + msg_type + \"' callback:\",\n",
       "                    e,\n",
       "                    e.stack,\n",
       "                    msg\n",
       "                );\n",
       "            }\n",
       "        }\n",
       "    };\n",
       "};\n",
       "\n",
       "// from http://stackoverflow.com/questions/1114465/getting-mouse-location-in-canvas\n",
       "mpl.findpos = function (e) {\n",
       "    //this section is from http://www.quirksmode.org/js/events_properties.html\n",
       "    var targ;\n",
       "    if (!e) {\n",
       "        e = window.event;\n",
       "    }\n",
       "    if (e.target) {\n",
       "        targ = e.target;\n",
       "    } else if (e.srcElement) {\n",
       "        targ = e.srcElement;\n",
       "    }\n",
       "    if (targ.nodeType === 3) {\n",
       "        // defeat Safari bug\n",
       "        targ = targ.parentNode;\n",
       "    }\n",
       "\n",
       "    // pageX,Y are the mouse positions relative to the document\n",
       "    var boundingRect = targ.getBoundingClientRect();\n",
       "    var x = e.pageX - (boundingRect.left + document.body.scrollLeft);\n",
       "    var y = e.pageY - (boundingRect.top + document.body.scrollTop);\n",
       "\n",
       "    return { x: x, y: y };\n",
       "};\n",
       "\n",
       "/*\n",
       " * return a copy of an object with only non-object keys\n",
       " * we need this to avoid circular references\n",
       " * http://stackoverflow.com/a/24161582/3208463\n",
       " */\n",
       "function simpleKeys(original) {\n",
       "    return Object.keys(original).reduce(function (obj, key) {\n",
       "        if (typeof original[key] !== 'object') {\n",
       "            obj[key] = original[key];\n",
       "        }\n",
       "        return obj;\n",
       "    }, {});\n",
       "}\n",
       "\n",
       "mpl.figure.prototype.mouse_event = function (event, name) {\n",
       "    var canvas_pos = mpl.findpos(event);\n",
       "\n",
       "    if (name === 'button_press') {\n",
       "        this.canvas.focus();\n",
       "        this.canvas_div.focus();\n",
       "    }\n",
       "\n",
       "    var x = canvas_pos.x * this.ratio;\n",
       "    var y = canvas_pos.y * this.ratio;\n",
       "\n",
       "    this.send_message(name, {\n",
       "        x: x,\n",
       "        y: y,\n",
       "        button: event.button,\n",
       "        step: event.step,\n",
       "        guiEvent: simpleKeys(event),\n",
       "    });\n",
       "\n",
       "    /* This prevents the web browser from automatically changing to\n",
       "     * the text insertion cursor when the button is pressed.  We want\n",
       "     * to control all of the cursor setting manually through the\n",
       "     * 'cursor' event from matplotlib */\n",
       "    event.preventDefault();\n",
       "    return false;\n",
       "};\n",
       "\n",
       "mpl.figure.prototype._key_event_extra = function (_event, _name) {\n",
       "    // Handle any extra behaviour associated with a key event\n",
       "};\n",
       "\n",
       "mpl.figure.prototype.key_event = function (event, name) {\n",
       "    // Prevent repeat events\n",
       "    if (name === 'key_press') {\n",
       "        if (event.key === this._key) {\n",
       "            return;\n",
       "        } else {\n",
       "            this._key = event.key;\n",
       "        }\n",
       "    }\n",
       "    if (name === 'key_release') {\n",
       "        this._key = null;\n",
       "    }\n",
       "\n",
       "    var value = '';\n",
       "    if (event.ctrlKey && event.key !== 'Control') {\n",
       "        value += 'ctrl+';\n",
       "    }\n",
       "    else if (event.altKey && event.key !== 'Alt') {\n",
       "        value += 'alt+';\n",
       "    }\n",
       "    else if (event.shiftKey && event.key !== 'Shift') {\n",
       "        value += 'shift+';\n",
       "    }\n",
       "\n",
       "    value += 'k' + event.key;\n",
       "\n",
       "    this._key_event_extra(event, name);\n",
       "\n",
       "    this.send_message(name, { key: value, guiEvent: simpleKeys(event) });\n",
       "    return false;\n",
       "};\n",
       "\n",
       "mpl.figure.prototype.toolbar_button_onclick = function (name) {\n",
       "    if (name === 'download') {\n",
       "        this.handle_save(this, null);\n",
       "    } else {\n",
       "        this.send_message('toolbar_button', { name: name });\n",
       "    }\n",
       "};\n",
       "\n",
       "mpl.figure.prototype.toolbar_button_onmouseover = function (tooltip) {\n",
       "    this.message.textContent = tooltip;\n",
       "};\n",
       "\n",
       "///////////////// REMAINING CONTENT GENERATED BY embed_js.py /////////////////\n",
       "// prettier-ignore\n",
       "var _JSXTOOLS_RESIZE_OBSERVER=function(A){var t,i=new WeakMap,n=new WeakMap,a=new WeakMap,r=new WeakMap,o=new Set;function s(e){if(!(this instanceof s))throw new TypeError(\"Constructor requires 'new' operator\");i.set(this,e)}function h(){throw new TypeError(\"Function is not a constructor\")}function c(e,t,i,n){e=0 in arguments?Number(arguments[0]):0,t=1 in arguments?Number(arguments[1]):0,i=2 in arguments?Number(arguments[2]):0,n=3 in arguments?Number(arguments[3]):0,this.right=(this.x=this.left=e)+(this.width=i),this.bottom=(this.y=this.top=t)+(this.height=n),Object.freeze(this)}function d(){t=requestAnimationFrame(d);var s=new WeakMap,p=new Set;o.forEach((function(t){r.get(t).forEach((function(i){var r=t instanceof window.SVGElement,o=a.get(t),d=r?0:parseFloat(o.paddingTop),f=r?0:parseFloat(o.paddingRight),l=r?0:parseFloat(o.paddingBottom),u=r?0:parseFloat(o.paddingLeft),g=r?0:parseFloat(o.borderTopWidth),m=r?0:parseFloat(o.borderRightWidth),w=r?0:parseFloat(o.borderBottomWidth),b=u+f,F=d+l,v=(r?0:parseFloat(o.borderLeftWidth))+m,W=g+w,y=r?0:t.offsetHeight-W-t.clientHeight,E=r?0:t.offsetWidth-v-t.clientWidth,R=b+v,z=F+W,M=r?t.width:parseFloat(o.width)-R-E,O=r?t.height:parseFloat(o.height)-z-y;if(n.has(t)){var k=n.get(t);if(k[0]===M&&k[1]===O)return}n.set(t,[M,O]);var S=Object.create(h.prototype);S.target=t,S.contentRect=new c(u,d,M,O),s.has(i)||(s.set(i,[]),p.add(i)),s.get(i).push(S)}))})),p.forEach((function(e){i.get(e).call(e,s.get(e),e)}))}return s.prototype.observe=function(i){if(i instanceof window.Element){r.has(i)||(r.set(i,new Set),o.add(i),a.set(i,window.getComputedStyle(i)));var n=r.get(i);n.has(this)||n.add(this),cancelAnimationFrame(t),t=requestAnimationFrame(d)}},s.prototype.unobserve=function(i){if(i instanceof window.Element&&r.has(i)){var n=r.get(i);n.has(this)&&(n.delete(this),n.size||(r.delete(i),o.delete(i))),n.size||r.delete(i),o.size||cancelAnimationFrame(t)}},A.DOMRectReadOnly=c,A.ResizeObserver=s,A.ResizeObserverEntry=h,A}; // eslint-disable-line\n",
       "mpl.toolbar_items = [[\"Home\", \"Reset original view\", \"fa fa-home icon-home\", \"home\"], [\"Back\", \"Back to previous view\", \"fa fa-arrow-left icon-arrow-left\", \"back\"], [\"Forward\", \"Forward to next view\", \"fa fa-arrow-right icon-arrow-right\", \"forward\"], [\"\", \"\", \"\", \"\"], [\"Pan\", \"Left button pans, Right button zooms\\nx/y fixes axis, CTRL fixes aspect\", \"fa fa-arrows icon-move\", \"pan\"], [\"Zoom\", \"Zoom to rectangle\\nx/y fixes axis, CTRL fixes aspect\", \"fa fa-square-o icon-check-empty\", \"zoom\"], [\"\", \"\", \"\", \"\"], [\"Download\", \"Download plot\", \"fa fa-floppy-o icon-save\", \"download\"]];\n",
       "\n",
       "mpl.extensions = [\"eps\", \"jpeg\", \"pgf\", \"pdf\", \"png\", \"ps\", \"raw\", \"svg\", \"tif\"];\n",
       "\n",
       "mpl.default_extension = \"png\";/* global mpl */\n",
       "\n",
       "var comm_websocket_adapter = function (comm) {\n",
       "    // Create a \"websocket\"-like object which calls the given IPython comm\n",
       "    // object with the appropriate methods. Currently this is a non binary\n",
       "    // socket, so there is still some room for performance tuning.\n",
       "    var ws = {};\n",
       "\n",
       "    ws.binaryType = comm.kernel.ws.binaryType;\n",
       "    ws.readyState = comm.kernel.ws.readyState;\n",
       "    function updateReadyState(_event) {\n",
       "        if (comm.kernel.ws) {\n",
       "            ws.readyState = comm.kernel.ws.readyState;\n",
       "        } else {\n",
       "            ws.readyState = 3; // Closed state.\n",
       "        }\n",
       "    }\n",
       "    comm.kernel.ws.addEventListener('open', updateReadyState);\n",
       "    comm.kernel.ws.addEventListener('close', updateReadyState);\n",
       "    comm.kernel.ws.addEventListener('error', updateReadyState);\n",
       "\n",
       "    ws.close = function () {\n",
       "        comm.close();\n",
       "    };\n",
       "    ws.send = function (m) {\n",
       "        //console.log('sending', m);\n",
       "        comm.send(m);\n",
       "    };\n",
       "    // Register the callback with on_msg.\n",
       "    comm.on_msg(function (msg) {\n",
       "        //console.log('receiving', msg['content']['data'], msg);\n",
       "        var data = msg['content']['data'];\n",
       "        if (data['blob'] !== undefined) {\n",
       "            data = {\n",
       "                data: new Blob(msg['buffers'], { type: data['blob'] }),\n",
       "            };\n",
       "        }\n",
       "        // Pass the mpl event to the overridden (by mpl) onmessage function.\n",
       "        ws.onmessage(data);\n",
       "    });\n",
       "    return ws;\n",
       "};\n",
       "\n",
       "mpl.mpl_figure_comm = function (comm, msg) {\n",
       "    // This is the function which gets called when the mpl process\n",
       "    // starts-up an IPython Comm through the \"matplotlib\" channel.\n",
       "\n",
       "    var id = msg.content.data.id;\n",
       "    // Get hold of the div created by the display call when the Comm\n",
       "    // socket was opened in Python.\n",
       "    var element = document.getElementById(id);\n",
       "    var ws_proxy = comm_websocket_adapter(comm);\n",
       "\n",
       "    function ondownload(figure, _format) {\n",
       "        window.open(figure.canvas.toDataURL());\n",
       "    }\n",
       "\n",
       "    var fig = new mpl.figure(id, ws_proxy, ondownload, element);\n",
       "\n",
       "    // Call onopen now - mpl needs it, as it is assuming we've passed it a real\n",
       "    // web socket which is closed, not our websocket->open comm proxy.\n",
       "    ws_proxy.onopen();\n",
       "\n",
       "    fig.parent_element = element;\n",
       "    fig.cell_info = mpl.find_output_cell(\"<div id='\" + id + \"'></div>\");\n",
       "    if (!fig.cell_info) {\n",
       "        console.error('Failed to find cell for figure', id, fig);\n",
       "        return;\n",
       "    }\n",
       "    fig.cell_info[0].output_area.element.on(\n",
       "        'cleared',\n",
       "        { fig: fig },\n",
       "        fig._remove_fig_handler\n",
       "    );\n",
       "};\n",
       "\n",
       "mpl.figure.prototype.handle_close = function (fig, msg) {\n",
       "    var width = fig.canvas.width / fig.ratio;\n",
       "    fig.cell_info[0].output_area.element.off(\n",
       "        'cleared',\n",
       "        fig._remove_fig_handler\n",
       "    );\n",
       "    fig.resizeObserverInstance.unobserve(fig.canvas_div);\n",
       "\n",
       "    // Update the output cell to use the data from the current canvas.\n",
       "    fig.push_to_output();\n",
       "    var dataURL = fig.canvas.toDataURL();\n",
       "    // Re-enable the keyboard manager in IPython - without this line, in FF,\n",
       "    // the notebook keyboard shortcuts fail.\n",
       "    IPython.keyboard_manager.enable();\n",
       "    fig.parent_element.innerHTML =\n",
       "        '<img src=\"' + dataURL + '\" width=\"' + width + '\">';\n",
       "    fig.close_ws(fig, msg);\n",
       "};\n",
       "\n",
       "mpl.figure.prototype.close_ws = function (fig, msg) {\n",
       "    fig.send_message('closing', msg);\n",
       "    // fig.ws.close()\n",
       "};\n",
       "\n",
       "mpl.figure.prototype.push_to_output = function (_remove_interactive) {\n",
       "    // Turn the data on the canvas into data in the output cell.\n",
       "    var width = this.canvas.width / this.ratio;\n",
       "    var dataURL = this.canvas.toDataURL();\n",
       "    this.cell_info[1]['text/html'] =\n",
       "        '<img src=\"' + dataURL + '\" width=\"' + width + '\">';\n",
       "};\n",
       "\n",
       "mpl.figure.prototype.updated_canvas_event = function () {\n",
       "    // Tell IPython that the notebook contents must change.\n",
       "    IPython.notebook.set_dirty(true);\n",
       "    this.send_message('ack', {});\n",
       "    var fig = this;\n",
       "    // Wait a second, then push the new image to the DOM so\n",
       "    // that it is saved nicely (might be nice to debounce this).\n",
       "    setTimeout(function () {\n",
       "        fig.push_to_output();\n",
       "    }, 1000);\n",
       "};\n",
       "\n",
       "mpl.figure.prototype._init_toolbar = function () {\n",
       "    var fig = this;\n",
       "\n",
       "    var toolbar = document.createElement('div');\n",
       "    toolbar.classList = 'btn-toolbar';\n",
       "    this.root.appendChild(toolbar);\n",
       "\n",
       "    function on_click_closure(name) {\n",
       "        return function (_event) {\n",
       "            return fig.toolbar_button_onclick(name);\n",
       "        };\n",
       "    }\n",
       "\n",
       "    function on_mouseover_closure(tooltip) {\n",
       "        return function (event) {\n",
       "            if (!event.currentTarget.disabled) {\n",
       "                return fig.toolbar_button_onmouseover(tooltip);\n",
       "            }\n",
       "        };\n",
       "    }\n",
       "\n",
       "    fig.buttons = {};\n",
       "    var buttonGroup = document.createElement('div');\n",
       "    buttonGroup.classList = 'btn-group';\n",
       "    var button;\n",
       "    for (var toolbar_ind in mpl.toolbar_items) {\n",
       "        var name = mpl.toolbar_items[toolbar_ind][0];\n",
       "        var tooltip = mpl.toolbar_items[toolbar_ind][1];\n",
       "        var image = mpl.toolbar_items[toolbar_ind][2];\n",
       "        var method_name = mpl.toolbar_items[toolbar_ind][3];\n",
       "\n",
       "        if (!name) {\n",
       "            /* Instead of a spacer, we start a new button group. */\n",
       "            if (buttonGroup.hasChildNodes()) {\n",
       "                toolbar.appendChild(buttonGroup);\n",
       "            }\n",
       "            buttonGroup = document.createElement('div');\n",
       "            buttonGroup.classList = 'btn-group';\n",
       "            continue;\n",
       "        }\n",
       "\n",
       "        button = fig.buttons[name] = document.createElement('button');\n",
       "        button.classList = 'btn btn-default';\n",
       "        button.href = '#';\n",
       "        button.title = name;\n",
       "        button.innerHTML = '<i class=\"fa ' + image + ' fa-lg\"></i>';\n",
       "        button.addEventListener('click', on_click_closure(method_name));\n",
       "        button.addEventListener('mouseover', on_mouseover_closure(tooltip));\n",
       "        buttonGroup.appendChild(button);\n",
       "    }\n",
       "\n",
       "    if (buttonGroup.hasChildNodes()) {\n",
       "        toolbar.appendChild(buttonGroup);\n",
       "    }\n",
       "\n",
       "    // Add the status bar.\n",
       "    var status_bar = document.createElement('span');\n",
       "    status_bar.classList = 'mpl-message pull-right';\n",
       "    toolbar.appendChild(status_bar);\n",
       "    this.message = status_bar;\n",
       "\n",
       "    // Add the close button to the window.\n",
       "    var buttongrp = document.createElement('div');\n",
       "    buttongrp.classList = 'btn-group inline pull-right';\n",
       "    button = document.createElement('button');\n",
       "    button.classList = 'btn btn-mini btn-primary';\n",
       "    button.href = '#';\n",
       "    button.title = 'Stop Interaction';\n",
       "    button.innerHTML = '<i class=\"fa fa-power-off icon-remove icon-large\"></i>';\n",
       "    button.addEventListener('click', function (_evt) {\n",
       "        fig.handle_close(fig, {});\n",
       "    });\n",
       "    button.addEventListener(\n",
       "        'mouseover',\n",
       "        on_mouseover_closure('Stop Interaction')\n",
       "    );\n",
       "    buttongrp.appendChild(button);\n",
       "    var titlebar = this.root.querySelector('.ui-dialog-titlebar');\n",
       "    titlebar.insertBefore(buttongrp, titlebar.firstChild);\n",
       "};\n",
       "\n",
       "mpl.figure.prototype._remove_fig_handler = function (event) {\n",
       "    var fig = event.data.fig;\n",
       "    if (event.target !== this) {\n",
       "        // Ignore bubbled events from children.\n",
       "        return;\n",
       "    }\n",
       "    fig.close_ws(fig, {});\n",
       "};\n",
       "\n",
       "mpl.figure.prototype._root_extra_style = function (el) {\n",
       "    el.style.boxSizing = 'content-box'; // override notebook setting of border-box.\n",
       "};\n",
       "\n",
       "mpl.figure.prototype._canvas_extra_style = function (el) {\n",
       "    // this is important to make the div 'focusable\n",
       "    el.setAttribute('tabindex', 0);\n",
       "    // reach out to IPython and tell the keyboard manager to turn it's self\n",
       "    // off when our div gets focus\n",
       "\n",
       "    // location in version 3\n",
       "    if (IPython.notebook.keyboard_manager) {\n",
       "        IPython.notebook.keyboard_manager.register_events(el);\n",
       "    } else {\n",
       "        // location in version 2\n",
       "        IPython.keyboard_manager.register_events(el);\n",
       "    }\n",
       "};\n",
       "\n",
       "mpl.figure.prototype._key_event_extra = function (event, _name) {\n",
       "    var manager = IPython.notebook.keyboard_manager;\n",
       "    if (!manager) {\n",
       "        manager = IPython.keyboard_manager;\n",
       "    }\n",
       "\n",
       "    // Check for shift+enter\n",
       "    if (event.shiftKey && event.which === 13) {\n",
       "        this.canvas_div.blur();\n",
       "        // select the cell after this one\n",
       "        var index = IPython.notebook.find_cell_index(this.cell_info[0]);\n",
       "        IPython.notebook.select(index + 1);\n",
       "    }\n",
       "};\n",
       "\n",
       "mpl.figure.prototype.handle_save = function (fig, _msg) {\n",
       "    fig.ondownload(fig, null);\n",
       "};\n",
       "\n",
       "mpl.find_output_cell = function (html_output) {\n",
       "    // Return the cell and output element which can be found *uniquely* in the notebook.\n",
       "    // Note - this is a bit hacky, but it is done because the \"notebook_saving.Notebook\"\n",
       "    // IPython event is triggered only after the cells have been serialised, which for\n",
       "    // our purposes (turning an active figure into a static one), is too late.\n",
       "    var cells = IPython.notebook.get_cells();\n",
       "    var ncells = cells.length;\n",
       "    for (var i = 0; i < ncells; i++) {\n",
       "        var cell = cells[i];\n",
       "        if (cell.cell_type === 'code') {\n",
       "            for (var j = 0; j < cell.output_area.outputs.length; j++) {\n",
       "                var data = cell.output_area.outputs[j];\n",
       "                if (data.data) {\n",
       "                    // IPython >= 3 moved mimebundle to data attribute of output\n",
       "                    data = data.data;\n",
       "                }\n",
       "                if (data['text/html'] === html_output) {\n",
       "                    return [cell, data, j];\n",
       "                }\n",
       "            }\n",
       "        }\n",
       "    }\n",
       "};\n",
       "\n",
       "// Register the function which deals with the matplotlib target/channel.\n",
       "// The kernel may be null if the page has been refreshed.\n",
       "if (IPython.notebook.kernel !== null) {\n",
       "    IPython.notebook.kernel.comm_manager.register_target(\n",
       "        'matplotlib',\n",
       "        mpl.mpl_figure_comm\n",
       "    );\n",
       "}\n"
      ],
      "text/plain": [
       "<IPython.core.display.Javascript object>"
      ]
     },
     "metadata": {},
     "output_type": "display_data"
    },
    {
     "data": {
      "text/html": [
       "<img src=\"data:image/png;base64,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\" width=\"400\">"
      ],
      "text/plain": [
       "<IPython.core.display.HTML object>"
      ]
     },
     "metadata": {},
     "output_type": "display_data"
    }
   ],
   "source": [
    "import matplotlib.pyplot as plt\n",
    "import numpy as np\n",
    "\n",
    "from sklearn.datasets import fetch_openml\n",
    "\n",
    "train_samples = 5000\n",
    "\n",
    "# Load data from https://www.openml.org/d/554\n",
    "X, y = fetch_openml('mnist_784', version=1, return_X_y=True, as_frame=False)\n",
    "\n",
    "fig, ax = plt.subplots(figsize=(4,4))\n",
    "\n",
    "ax.imshow(X[41].reshape(28,28)[3:-3,3:-3], \n",
    "          cmap='binary')\n",
    "ax.set_xticks([])\n",
    "ax.set_yticks([])\n",
    "fig.tight_layout()\n",
    "fig.savefig('./images/number8.png')"
   ]
  }
 ],
 "metadata": {
  "celltoolbar": "Slideshow",
  "kernelspec": {
   "display_name": "Python 3 (ipykernel)",
   "language": "python",
   "name": "python3"
  },
  "language_info": {
   "codemirror_mode": {
    "name": "ipython",
    "version": 3
   },
   "file_extension": ".py",
   "mimetype": "text/x-python",
   "name": "python",
   "nbconvert_exporter": "python",
   "pygments_lexer": "ipython3",
   "version": "3.8.11"
  },
  "livereveal": {
   "height": 768,
   "scroll": true,
   "start_slideshow_at": "selected",
   "theme": "solarized",
   "width": 1024
  }
 },
 "nbformat": 4,
 "nbformat_minor": 5
}
