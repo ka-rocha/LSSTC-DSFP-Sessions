{
 "cells": [
  {
   "cell_type": "code",
   "execution_count": 1,
   "metadata": {
    "slideshow": {
     "slide_type": "skip"
    }
   },
   "outputs": [],
   "source": [
    "import numpy as np\n",
    "import pandas as pd\n",
    "import matplotlib.pyplot as plt\n",
    "\n",
    "%matplotlib notebook"
   ]
  },
  {
   "cell_type": "markdown",
   "metadata": {
    "slideshow": {
     "slide_type": "slide"
    }
   },
   "source": [
    "# Real World Considerations for the Lomb-Scargle Periodogram\n",
    "\n",
    "**Version 0.2**\n",
    "\n",
    "* * *\n",
    "\n",
    "By AA Miller (Northwestern/CIERA)  \n",
    "23 Sep 2021"
   ]
  },
  {
   "cell_type": "markdown",
   "metadata": {
    "slideshow": {
     "slide_type": "slide"
    }
   },
   "source": [
    "In [Lecture III](https://github.com/LSSTC-DSFP/LSSTC-DSFP-Sessions/blob/main/Session13/Day3/IntroductionToTheLombScarglePeriodogram.ipynb) we built the software necessary to estimate the power spectrum via the Lomb-Scargle periodogram. \n",
    "\n",
    "We also discovered that LS is somewhat slow. We will now leverage the faster implementation in `astropy`, while exploring some specific challenges related to real astrophysical light curves."
   ]
  },
  {
   "cell_type": "markdown",
   "metadata": {
    "slideshow": {
     "slide_type": "slide"
    }
   },
   "source": [
    "The helper functions from [Lecture III](https://github.com/LSSTC-DSFP/LSSTC-DSFP-Sessions/blob/main/Session13/Day3/IntroductionToTheLombScarglePeriodogram.ipynb) are recreated at the end of this notebook - execute those cells and then the cell below to recreate the simulated data from Lecture III."
   ]
  },
  {
   "cell_type": "code",
   "execution_count": 5,
   "metadata": {
    "slideshow": {
     "slide_type": "slide"
    }
   },
   "outputs": [],
   "source": [
    "np.random.seed(185)\n",
    "# calculate the periodogram\n",
    "\n",
    "x = 10*np.random.rand(100)\n",
    "y = gen_periodic_data(x, period=5.25, amplitude=7.4, noise=0.8)\n",
    "y_unc = np.ones_like(x)*np.sqrt(0.8)"
   ]
  },
  {
   "cell_type": "markdown",
   "metadata": {
    "slideshow": {
     "slide_type": "slide"
    }
   },
   "source": [
    "## Problem 1) Other Considerations and Faster Implementations"
   ]
  },
  {
   "cell_type": "markdown",
   "metadata": {
    "slideshow": {
     "slide_type": "slide"
    }
   },
   "source": [
    "While our \"home-grown\" `ls_periodogram` works, it would take a loooooong time to evaluate $\\sim4\\times 10^5$ frequencies for $\\sim2\\times 10^7$ variable LSST sources. (as is often the case...) `astropy` to the rescue!\n",
    "\n",
    "**Problem 1a**\n",
    "\n",
    "[`LombScargle`](https://docs.astropy.org/en/stable/timeseries/lombscargle.html) in `astropy.timeseries` is fast. Run it below to compare to `ls_periodogram`."
   ]
  },
  {
   "cell_type": "code",
   "execution_count": 8,
   "metadata": {
    "slideshow": {
     "slide_type": "slide"
    }
   },
   "outputs": [
    {
     "name": "stdout",
     "output_type": "stream",
     "text": [
      "CPU times: user 2.73 ms, sys: 1.44 ms, total: 4.17 ms\n",
      "Wall time: 2.82 ms\n"
     ]
    }
   ],
   "source": [
    "%%time\n",
    "\n",
    "from astropy.timeseries import LombScargle\n",
    "frequency, power = LombScargle(x, y, y_unc).autopower()"
   ]
  },
  {
   "cell_type": "markdown",
   "metadata": {
    "slideshow": {
     "slide_type": "slide"
    }
   },
   "source": [
    "Unlike `ls_periodogram`, `LombScargle` effectively takes no time to run on the simulated data. \n",
    "\n",
    "**Problem 1b**\n",
    "\n",
    "Plot the periodogram for the simulated data."
   ]
  },
  {
   "cell_type": "code",
   "execution_count": 9,
   "metadata": {
    "slideshow": {
     "slide_type": "slide"
    }
   },
   "outputs": [
    {
     "data": {
      "application/javascript": [
       "/* Put everything inside the global mpl namespace */\n",
       "/* global mpl */\n",
       "window.mpl = {};\n",
       "\n",
       "mpl.get_websocket_type = function () {\n",
       "    if (typeof WebSocket !== 'undefined') {\n",
       "        return WebSocket;\n",
       "    } else if (typeof MozWebSocket !== 'undefined') {\n",
       "        return MozWebSocket;\n",
       "    } else {\n",
       "        alert(\n",
       "            'Your browser does not have WebSocket support. ' +\n",
       "                'Please try Chrome, Safari or Firefox ≥ 6. ' +\n",
       "                'Firefox 4 and 5 are also supported but you ' +\n",
       "                'have to enable WebSockets in about:config.'\n",
       "        );\n",
       "    }\n",
       "};\n",
       "\n",
       "mpl.figure = function (figure_id, websocket, ondownload, parent_element) {\n",
       "    this.id = figure_id;\n",
       "\n",
       "    this.ws = websocket;\n",
       "\n",
       "    this.supports_binary = this.ws.binaryType !== undefined;\n",
       "\n",
       "    if (!this.supports_binary) {\n",
       "        var warnings = document.getElementById('mpl-warnings');\n",
       "        if (warnings) {\n",
       "            warnings.style.display = 'block';\n",
       "            warnings.textContent =\n",
       "                'This browser does not support binary websocket messages. ' +\n",
       "                'Performance may be slow.';\n",
       "        }\n",
       "    }\n",
       "\n",
       "    this.imageObj = new Image();\n",
       "\n",
       "    this.context = undefined;\n",
       "    this.message = undefined;\n",
       "    this.canvas = undefined;\n",
       "    this.rubberband_canvas = undefined;\n",
       "    this.rubberband_context = undefined;\n",
       "    this.format_dropdown = undefined;\n",
       "\n",
       "    this.image_mode = 'full';\n",
       "\n",
       "    this.root = document.createElement('div');\n",
       "    this.root.setAttribute('style', 'display: inline-block');\n",
       "    this._root_extra_style(this.root);\n",
       "\n",
       "    parent_element.appendChild(this.root);\n",
       "\n",
       "    this._init_header(this);\n",
       "    this._init_canvas(this);\n",
       "    this._init_toolbar(this);\n",
       "\n",
       "    var fig = this;\n",
       "\n",
       "    this.waiting = false;\n",
       "\n",
       "    this.ws.onopen = function () {\n",
       "        fig.send_message('supports_binary', { value: fig.supports_binary });\n",
       "        fig.send_message('send_image_mode', {});\n",
       "        if (fig.ratio !== 1) {\n",
       "            fig.send_message('set_dpi_ratio', { dpi_ratio: fig.ratio });\n",
       "        }\n",
       "        fig.send_message('refresh', {});\n",
       "    };\n",
       "\n",
       "    this.imageObj.onload = function () {\n",
       "        if (fig.image_mode === 'full') {\n",
       "            // Full images could contain transparency (where diff images\n",
       "            // almost always do), so we need to clear the canvas so that\n",
       "            // there is no ghosting.\n",
       "            fig.context.clearRect(0, 0, fig.canvas.width, fig.canvas.height);\n",
       "        }\n",
       "        fig.context.drawImage(fig.imageObj, 0, 0);\n",
       "    };\n",
       "\n",
       "    this.imageObj.onunload = function () {\n",
       "        fig.ws.close();\n",
       "    };\n",
       "\n",
       "    this.ws.onmessage = this._make_on_message_function(this);\n",
       "\n",
       "    this.ondownload = ondownload;\n",
       "};\n",
       "\n",
       "mpl.figure.prototype._init_header = function () {\n",
       "    var titlebar = document.createElement('div');\n",
       "    titlebar.classList =\n",
       "        'ui-dialog-titlebar ui-widget-header ui-corner-all ui-helper-clearfix';\n",
       "    var titletext = document.createElement('div');\n",
       "    titletext.classList = 'ui-dialog-title';\n",
       "    titletext.setAttribute(\n",
       "        'style',\n",
       "        'width: 100%; text-align: center; padding: 3px;'\n",
       "    );\n",
       "    titlebar.appendChild(titletext);\n",
       "    this.root.appendChild(titlebar);\n",
       "    this.header = titletext;\n",
       "};\n",
       "\n",
       "mpl.figure.prototype._canvas_extra_style = function (_canvas_div) {};\n",
       "\n",
       "mpl.figure.prototype._root_extra_style = function (_canvas_div) {};\n",
       "\n",
       "mpl.figure.prototype._init_canvas = function () {\n",
       "    var fig = this;\n",
       "\n",
       "    var canvas_div = (this.canvas_div = document.createElement('div'));\n",
       "    canvas_div.setAttribute(\n",
       "        'style',\n",
       "        'border: 1px solid #ddd;' +\n",
       "            'box-sizing: content-box;' +\n",
       "            'clear: both;' +\n",
       "            'min-height: 1px;' +\n",
       "            'min-width: 1px;' +\n",
       "            'outline: 0;' +\n",
       "            'overflow: hidden;' +\n",
       "            'position: relative;' +\n",
       "            'resize: both;'\n",
       "    );\n",
       "\n",
       "    function on_keyboard_event_closure(name) {\n",
       "        return function (event) {\n",
       "            return fig.key_event(event, name);\n",
       "        };\n",
       "    }\n",
       "\n",
       "    canvas_div.addEventListener(\n",
       "        'keydown',\n",
       "        on_keyboard_event_closure('key_press')\n",
       "    );\n",
       "    canvas_div.addEventListener(\n",
       "        'keyup',\n",
       "        on_keyboard_event_closure('key_release')\n",
       "    );\n",
       "\n",
       "    this._canvas_extra_style(canvas_div);\n",
       "    this.root.appendChild(canvas_div);\n",
       "\n",
       "    var canvas = (this.canvas = document.createElement('canvas'));\n",
       "    canvas.classList.add('mpl-canvas');\n",
       "    canvas.setAttribute('style', 'box-sizing: content-box;');\n",
       "\n",
       "    this.context = canvas.getContext('2d');\n",
       "\n",
       "    var backingStore =\n",
       "        this.context.backingStorePixelRatio ||\n",
       "        this.context.webkitBackingStorePixelRatio ||\n",
       "        this.context.mozBackingStorePixelRatio ||\n",
       "        this.context.msBackingStorePixelRatio ||\n",
       "        this.context.oBackingStorePixelRatio ||\n",
       "        this.context.backingStorePixelRatio ||\n",
       "        1;\n",
       "\n",
       "    this.ratio = (window.devicePixelRatio || 1) / backingStore;\n",
       "\n",
       "    var rubberband_canvas = (this.rubberband_canvas = document.createElement(\n",
       "        'canvas'\n",
       "    ));\n",
       "    rubberband_canvas.setAttribute(\n",
       "        'style',\n",
       "        'box-sizing: content-box; position: absolute; left: 0; top: 0; z-index: 1;'\n",
       "    );\n",
       "\n",
       "    // Apply a ponyfill if ResizeObserver is not implemented by browser.\n",
       "    if (this.ResizeObserver === undefined) {\n",
       "        if (window.ResizeObserver !== undefined) {\n",
       "            this.ResizeObserver = window.ResizeObserver;\n",
       "        } else {\n",
       "            var obs = _JSXTOOLS_RESIZE_OBSERVER({});\n",
       "            this.ResizeObserver = obs.ResizeObserver;\n",
       "        }\n",
       "    }\n",
       "\n",
       "    this.resizeObserverInstance = new this.ResizeObserver(function (entries) {\n",
       "        var nentries = entries.length;\n",
       "        for (var i = 0; i < nentries; i++) {\n",
       "            var entry = entries[i];\n",
       "            var width, height;\n",
       "            if (entry.contentBoxSize) {\n",
       "                if (entry.contentBoxSize instanceof Array) {\n",
       "                    // Chrome 84 implements new version of spec.\n",
       "                    width = entry.contentBoxSize[0].inlineSize;\n",
       "                    height = entry.contentBoxSize[0].blockSize;\n",
       "                } else {\n",
       "                    // Firefox implements old version of spec.\n",
       "                    width = entry.contentBoxSize.inlineSize;\n",
       "                    height = entry.contentBoxSize.blockSize;\n",
       "                }\n",
       "            } else {\n",
       "                // Chrome <84 implements even older version of spec.\n",
       "                width = entry.contentRect.width;\n",
       "                height = entry.contentRect.height;\n",
       "            }\n",
       "\n",
       "            // Keep the size of the canvas and rubber band canvas in sync with\n",
       "            // the canvas container.\n",
       "            if (entry.devicePixelContentBoxSize) {\n",
       "                // Chrome 84 implements new version of spec.\n",
       "                canvas.setAttribute(\n",
       "                    'width',\n",
       "                    entry.devicePixelContentBoxSize[0].inlineSize\n",
       "                );\n",
       "                canvas.setAttribute(\n",
       "                    'height',\n",
       "                    entry.devicePixelContentBoxSize[0].blockSize\n",
       "                );\n",
       "            } else {\n",
       "                canvas.setAttribute('width', width * fig.ratio);\n",
       "                canvas.setAttribute('height', height * fig.ratio);\n",
       "            }\n",
       "            canvas.setAttribute(\n",
       "                'style',\n",
       "                'width: ' + width + 'px; height: ' + height + 'px;'\n",
       "            );\n",
       "\n",
       "            rubberband_canvas.setAttribute('width', width);\n",
       "            rubberband_canvas.setAttribute('height', height);\n",
       "\n",
       "            // And update the size in Python. We ignore the initial 0/0 size\n",
       "            // that occurs as the element is placed into the DOM, which should\n",
       "            // otherwise not happen due to the minimum size styling.\n",
       "            if (fig.ws.readyState == 1 && width != 0 && height != 0) {\n",
       "                fig.request_resize(width, height);\n",
       "            }\n",
       "        }\n",
       "    });\n",
       "    this.resizeObserverInstance.observe(canvas_div);\n",
       "\n",
       "    function on_mouse_event_closure(name) {\n",
       "        return function (event) {\n",
       "            return fig.mouse_event(event, name);\n",
       "        };\n",
       "    }\n",
       "\n",
       "    rubberband_canvas.addEventListener(\n",
       "        'mousedown',\n",
       "        on_mouse_event_closure('button_press')\n",
       "    );\n",
       "    rubberband_canvas.addEventListener(\n",
       "        'mouseup',\n",
       "        on_mouse_event_closure('button_release')\n",
       "    );\n",
       "    rubberband_canvas.addEventListener(\n",
       "        'dblclick',\n",
       "        on_mouse_event_closure('dblclick')\n",
       "    );\n",
       "    // Throttle sequential mouse events to 1 every 20ms.\n",
       "    rubberband_canvas.addEventListener(\n",
       "        'mousemove',\n",
       "        on_mouse_event_closure('motion_notify')\n",
       "    );\n",
       "\n",
       "    rubberband_canvas.addEventListener(\n",
       "        'mouseenter',\n",
       "        on_mouse_event_closure('figure_enter')\n",
       "    );\n",
       "    rubberband_canvas.addEventListener(\n",
       "        'mouseleave',\n",
       "        on_mouse_event_closure('figure_leave')\n",
       "    );\n",
       "\n",
       "    canvas_div.addEventListener('wheel', function (event) {\n",
       "        if (event.deltaY < 0) {\n",
       "            event.step = 1;\n",
       "        } else {\n",
       "            event.step = -1;\n",
       "        }\n",
       "        on_mouse_event_closure('scroll')(event);\n",
       "    });\n",
       "\n",
       "    canvas_div.appendChild(canvas);\n",
       "    canvas_div.appendChild(rubberband_canvas);\n",
       "\n",
       "    this.rubberband_context = rubberband_canvas.getContext('2d');\n",
       "    this.rubberband_context.strokeStyle = '#000000';\n",
       "\n",
       "    this._resize_canvas = function (width, height, forward) {\n",
       "        if (forward) {\n",
       "            canvas_div.style.width = width + 'px';\n",
       "            canvas_div.style.height = height + 'px';\n",
       "        }\n",
       "    };\n",
       "\n",
       "    // Disable right mouse context menu.\n",
       "    this.rubberband_canvas.addEventListener('contextmenu', function (_e) {\n",
       "        event.preventDefault();\n",
       "        return false;\n",
       "    });\n",
       "\n",
       "    function set_focus() {\n",
       "        canvas.focus();\n",
       "        canvas_div.focus();\n",
       "    }\n",
       "\n",
       "    window.setTimeout(set_focus, 100);\n",
       "};\n",
       "\n",
       "mpl.figure.prototype._init_toolbar = function () {\n",
       "    var fig = this;\n",
       "\n",
       "    var toolbar = document.createElement('div');\n",
       "    toolbar.classList = 'mpl-toolbar';\n",
       "    this.root.appendChild(toolbar);\n",
       "\n",
       "    function on_click_closure(name) {\n",
       "        return function (_event) {\n",
       "            return fig.toolbar_button_onclick(name);\n",
       "        };\n",
       "    }\n",
       "\n",
       "    function on_mouseover_closure(tooltip) {\n",
       "        return function (event) {\n",
       "            if (!event.currentTarget.disabled) {\n",
       "                return fig.toolbar_button_onmouseover(tooltip);\n",
       "            }\n",
       "        };\n",
       "    }\n",
       "\n",
       "    fig.buttons = {};\n",
       "    var buttonGroup = document.createElement('div');\n",
       "    buttonGroup.classList = 'mpl-button-group';\n",
       "    for (var toolbar_ind in mpl.toolbar_items) {\n",
       "        var name = mpl.toolbar_items[toolbar_ind][0];\n",
       "        var tooltip = mpl.toolbar_items[toolbar_ind][1];\n",
       "        var image = mpl.toolbar_items[toolbar_ind][2];\n",
       "        var method_name = mpl.toolbar_items[toolbar_ind][3];\n",
       "\n",
       "        if (!name) {\n",
       "            /* Instead of a spacer, we start a new button group. */\n",
       "            if (buttonGroup.hasChildNodes()) {\n",
       "                toolbar.appendChild(buttonGroup);\n",
       "            }\n",
       "            buttonGroup = document.createElement('div');\n",
       "            buttonGroup.classList = 'mpl-button-group';\n",
       "            continue;\n",
       "        }\n",
       "\n",
       "        var button = (fig.buttons[name] = document.createElement('button'));\n",
       "        button.classList = 'mpl-widget';\n",
       "        button.setAttribute('role', 'button');\n",
       "        button.setAttribute('aria-disabled', 'false');\n",
       "        button.addEventListener('click', on_click_closure(method_name));\n",
       "        button.addEventListener('mouseover', on_mouseover_closure(tooltip));\n",
       "\n",
       "        var icon_img = document.createElement('img');\n",
       "        icon_img.src = '_images/' + image + '.png';\n",
       "        icon_img.srcset = '_images/' + image + '_large.png 2x';\n",
       "        icon_img.alt = tooltip;\n",
       "        button.appendChild(icon_img);\n",
       "\n",
       "        buttonGroup.appendChild(button);\n",
       "    }\n",
       "\n",
       "    if (buttonGroup.hasChildNodes()) {\n",
       "        toolbar.appendChild(buttonGroup);\n",
       "    }\n",
       "\n",
       "    var fmt_picker = document.createElement('select');\n",
       "    fmt_picker.classList = 'mpl-widget';\n",
       "    toolbar.appendChild(fmt_picker);\n",
       "    this.format_dropdown = fmt_picker;\n",
       "\n",
       "    for (var ind in mpl.extensions) {\n",
       "        var fmt = mpl.extensions[ind];\n",
       "        var option = document.createElement('option');\n",
       "        option.selected = fmt === mpl.default_extension;\n",
       "        option.innerHTML = fmt;\n",
       "        fmt_picker.appendChild(option);\n",
       "    }\n",
       "\n",
       "    var status_bar = document.createElement('span');\n",
       "    status_bar.classList = 'mpl-message';\n",
       "    toolbar.appendChild(status_bar);\n",
       "    this.message = status_bar;\n",
       "};\n",
       "\n",
       "mpl.figure.prototype.request_resize = function (x_pixels, y_pixels) {\n",
       "    // Request matplotlib to resize the figure. Matplotlib will then trigger a resize in the client,\n",
       "    // which will in turn request a refresh of the image.\n",
       "    this.send_message('resize', { width: x_pixels, height: y_pixels });\n",
       "};\n",
       "\n",
       "mpl.figure.prototype.send_message = function (type, properties) {\n",
       "    properties['type'] = type;\n",
       "    properties['figure_id'] = this.id;\n",
       "    this.ws.send(JSON.stringify(properties));\n",
       "};\n",
       "\n",
       "mpl.figure.prototype.send_draw_message = function () {\n",
       "    if (!this.waiting) {\n",
       "        this.waiting = true;\n",
       "        this.ws.send(JSON.stringify({ type: 'draw', figure_id: this.id }));\n",
       "    }\n",
       "};\n",
       "\n",
       "mpl.figure.prototype.handle_save = function (fig, _msg) {\n",
       "    var format_dropdown = fig.format_dropdown;\n",
       "    var format = format_dropdown.options[format_dropdown.selectedIndex].value;\n",
       "    fig.ondownload(fig, format);\n",
       "};\n",
       "\n",
       "mpl.figure.prototype.handle_resize = function (fig, msg) {\n",
       "    var size = msg['size'];\n",
       "    if (size[0] !== fig.canvas.width || size[1] !== fig.canvas.height) {\n",
       "        fig._resize_canvas(size[0], size[1], msg['forward']);\n",
       "        fig.send_message('refresh', {});\n",
       "    }\n",
       "};\n",
       "\n",
       "mpl.figure.prototype.handle_rubberband = function (fig, msg) {\n",
       "    var x0 = msg['x0'] / fig.ratio;\n",
       "    var y0 = (fig.canvas.height - msg['y0']) / fig.ratio;\n",
       "    var x1 = msg['x1'] / fig.ratio;\n",
       "    var y1 = (fig.canvas.height - msg['y1']) / fig.ratio;\n",
       "    x0 = Math.floor(x0) + 0.5;\n",
       "    y0 = Math.floor(y0) + 0.5;\n",
       "    x1 = Math.floor(x1) + 0.5;\n",
       "    y1 = Math.floor(y1) + 0.5;\n",
       "    var min_x = Math.min(x0, x1);\n",
       "    var min_y = Math.min(y0, y1);\n",
       "    var width = Math.abs(x1 - x0);\n",
       "    var height = Math.abs(y1 - y0);\n",
       "\n",
       "    fig.rubberband_context.clearRect(\n",
       "        0,\n",
       "        0,\n",
       "        fig.canvas.width / fig.ratio,\n",
       "        fig.canvas.height / fig.ratio\n",
       "    );\n",
       "\n",
       "    fig.rubberband_context.strokeRect(min_x, min_y, width, height);\n",
       "};\n",
       "\n",
       "mpl.figure.prototype.handle_figure_label = function (fig, msg) {\n",
       "    // Updates the figure title.\n",
       "    fig.header.textContent = msg['label'];\n",
       "};\n",
       "\n",
       "mpl.figure.prototype.handle_cursor = function (fig, msg) {\n",
       "    var cursor = msg['cursor'];\n",
       "    switch (cursor) {\n",
       "        case 0:\n",
       "            cursor = 'pointer';\n",
       "            break;\n",
       "        case 1:\n",
       "            cursor = 'default';\n",
       "            break;\n",
       "        case 2:\n",
       "            cursor = 'crosshair';\n",
       "            break;\n",
       "        case 3:\n",
       "            cursor = 'move';\n",
       "            break;\n",
       "    }\n",
       "    fig.rubberband_canvas.style.cursor = cursor;\n",
       "};\n",
       "\n",
       "mpl.figure.prototype.handle_message = function (fig, msg) {\n",
       "    fig.message.textContent = msg['message'];\n",
       "};\n",
       "\n",
       "mpl.figure.prototype.handle_draw = function (fig, _msg) {\n",
       "    // Request the server to send over a new figure.\n",
       "    fig.send_draw_message();\n",
       "};\n",
       "\n",
       "mpl.figure.prototype.handle_image_mode = function (fig, msg) {\n",
       "    fig.image_mode = msg['mode'];\n",
       "};\n",
       "\n",
       "mpl.figure.prototype.handle_history_buttons = function (fig, msg) {\n",
       "    for (var key in msg) {\n",
       "        if (!(key in fig.buttons)) {\n",
       "            continue;\n",
       "        }\n",
       "        fig.buttons[key].disabled = !msg[key];\n",
       "        fig.buttons[key].setAttribute('aria-disabled', !msg[key]);\n",
       "    }\n",
       "};\n",
       "\n",
       "mpl.figure.prototype.handle_navigate_mode = function (fig, msg) {\n",
       "    if (msg['mode'] === 'PAN') {\n",
       "        fig.buttons['Pan'].classList.add('active');\n",
       "        fig.buttons['Zoom'].classList.remove('active');\n",
       "    } else if (msg['mode'] === 'ZOOM') {\n",
       "        fig.buttons['Pan'].classList.remove('active');\n",
       "        fig.buttons['Zoom'].classList.add('active');\n",
       "    } else {\n",
       "        fig.buttons['Pan'].classList.remove('active');\n",
       "        fig.buttons['Zoom'].classList.remove('active');\n",
       "    }\n",
       "};\n",
       "\n",
       "mpl.figure.prototype.updated_canvas_event = function () {\n",
       "    // Called whenever the canvas gets updated.\n",
       "    this.send_message('ack', {});\n",
       "};\n",
       "\n",
       "// A function to construct a web socket function for onmessage handling.\n",
       "// Called in the figure constructor.\n",
       "mpl.figure.prototype._make_on_message_function = function (fig) {\n",
       "    return function socket_on_message(evt) {\n",
       "        if (evt.data instanceof Blob) {\n",
       "            var img = evt.data;\n",
       "            if (img.type !== 'image/png') {\n",
       "                /* FIXME: We get \"Resource interpreted as Image but\n",
       "                 * transferred with MIME type text/plain:\" errors on\n",
       "                 * Chrome.  But how to set the MIME type?  It doesn't seem\n",
       "                 * to be part of the websocket stream */\n",
       "                img.type = 'image/png';\n",
       "            }\n",
       "\n",
       "            /* Free the memory for the previous frames */\n",
       "            if (fig.imageObj.src) {\n",
       "                (window.URL || window.webkitURL).revokeObjectURL(\n",
       "                    fig.imageObj.src\n",
       "                );\n",
       "            }\n",
       "\n",
       "            fig.imageObj.src = (window.URL || window.webkitURL).createObjectURL(\n",
       "                img\n",
       "            );\n",
       "            fig.updated_canvas_event();\n",
       "            fig.waiting = false;\n",
       "            return;\n",
       "        } else if (\n",
       "            typeof evt.data === 'string' &&\n",
       "            evt.data.slice(0, 21) === 'data:image/png;base64'\n",
       "        ) {\n",
       "            fig.imageObj.src = evt.data;\n",
       "            fig.updated_canvas_event();\n",
       "            fig.waiting = false;\n",
       "            return;\n",
       "        }\n",
       "\n",
       "        var msg = JSON.parse(evt.data);\n",
       "        var msg_type = msg['type'];\n",
       "\n",
       "        // Call the  \"handle_{type}\" callback, which takes\n",
       "        // the figure and JSON message as its only arguments.\n",
       "        try {\n",
       "            var callback = fig['handle_' + msg_type];\n",
       "        } catch (e) {\n",
       "            console.log(\n",
       "                \"No handler for the '\" + msg_type + \"' message type: \",\n",
       "                msg\n",
       "            );\n",
       "            return;\n",
       "        }\n",
       "\n",
       "        if (callback) {\n",
       "            try {\n",
       "                // console.log(\"Handling '\" + msg_type + \"' message: \", msg);\n",
       "                callback(fig, msg);\n",
       "            } catch (e) {\n",
       "                console.log(\n",
       "                    \"Exception inside the 'handler_\" + msg_type + \"' callback:\",\n",
       "                    e,\n",
       "                    e.stack,\n",
       "                    msg\n",
       "                );\n",
       "            }\n",
       "        }\n",
       "    };\n",
       "};\n",
       "\n",
       "// from http://stackoverflow.com/questions/1114465/getting-mouse-location-in-canvas\n",
       "mpl.findpos = function (e) {\n",
       "    //this section is from http://www.quirksmode.org/js/events_properties.html\n",
       "    var targ;\n",
       "    if (!e) {\n",
       "        e = window.event;\n",
       "    }\n",
       "    if (e.target) {\n",
       "        targ = e.target;\n",
       "    } else if (e.srcElement) {\n",
       "        targ = e.srcElement;\n",
       "    }\n",
       "    if (targ.nodeType === 3) {\n",
       "        // defeat Safari bug\n",
       "        targ = targ.parentNode;\n",
       "    }\n",
       "\n",
       "    // pageX,Y are the mouse positions relative to the document\n",
       "    var boundingRect = targ.getBoundingClientRect();\n",
       "    var x = e.pageX - (boundingRect.left + document.body.scrollLeft);\n",
       "    var y = e.pageY - (boundingRect.top + document.body.scrollTop);\n",
       "\n",
       "    return { x: x, y: y };\n",
       "};\n",
       "\n",
       "/*\n",
       " * return a copy of an object with only non-object keys\n",
       " * we need this to avoid circular references\n",
       " * http://stackoverflow.com/a/24161582/3208463\n",
       " */\n",
       "function simpleKeys(original) {\n",
       "    return Object.keys(original).reduce(function (obj, key) {\n",
       "        if (typeof original[key] !== 'object') {\n",
       "            obj[key] = original[key];\n",
       "        }\n",
       "        return obj;\n",
       "    }, {});\n",
       "}\n",
       "\n",
       "mpl.figure.prototype.mouse_event = function (event, name) {\n",
       "    var canvas_pos = mpl.findpos(event);\n",
       "\n",
       "    if (name === 'button_press') {\n",
       "        this.canvas.focus();\n",
       "        this.canvas_div.focus();\n",
       "    }\n",
       "\n",
       "    var x = canvas_pos.x * this.ratio;\n",
       "    var y = canvas_pos.y * this.ratio;\n",
       "\n",
       "    this.send_message(name, {\n",
       "        x: x,\n",
       "        y: y,\n",
       "        button: event.button,\n",
       "        step: event.step,\n",
       "        guiEvent: simpleKeys(event),\n",
       "    });\n",
       "\n",
       "    /* This prevents the web browser from automatically changing to\n",
       "     * the text insertion cursor when the button is pressed.  We want\n",
       "     * to control all of the cursor setting manually through the\n",
       "     * 'cursor' event from matplotlib */\n",
       "    event.preventDefault();\n",
       "    return false;\n",
       "};\n",
       "\n",
       "mpl.figure.prototype._key_event_extra = function (_event, _name) {\n",
       "    // Handle any extra behaviour associated with a key event\n",
       "};\n",
       "\n",
       "mpl.figure.prototype.key_event = function (event, name) {\n",
       "    // Prevent repeat events\n",
       "    if (name === 'key_press') {\n",
       "        if (event.key === this._key) {\n",
       "            return;\n",
       "        } else {\n",
       "            this._key = event.key;\n",
       "        }\n",
       "    }\n",
       "    if (name === 'key_release') {\n",
       "        this._key = null;\n",
       "    }\n",
       "\n",
       "    var value = '';\n",
       "    if (event.ctrlKey && event.key !== 'Control') {\n",
       "        value += 'ctrl+';\n",
       "    }\n",
       "    else if (event.altKey && event.key !== 'Alt') {\n",
       "        value += 'alt+';\n",
       "    }\n",
       "    else if (event.shiftKey && event.key !== 'Shift') {\n",
       "        value += 'shift+';\n",
       "    }\n",
       "\n",
       "    value += 'k' + event.key;\n",
       "\n",
       "    this._key_event_extra(event, name);\n",
       "\n",
       "    this.send_message(name, { key: value, guiEvent: simpleKeys(event) });\n",
       "    return false;\n",
       "};\n",
       "\n",
       "mpl.figure.prototype.toolbar_button_onclick = function (name) {\n",
       "    if (name === 'download') {\n",
       "        this.handle_save(this, null);\n",
       "    } else {\n",
       "        this.send_message('toolbar_button', { name: name });\n",
       "    }\n",
       "};\n",
       "\n",
       "mpl.figure.prototype.toolbar_button_onmouseover = function (tooltip) {\n",
       "    this.message.textContent = tooltip;\n",
       "};\n",
       "\n",
       "///////////////// REMAINING CONTENT GENERATED BY embed_js.py /////////////////\n",
       "// prettier-ignore\n",
       "var _JSXTOOLS_RESIZE_OBSERVER=function(A){var t,i=new WeakMap,n=new WeakMap,a=new WeakMap,r=new WeakMap,o=new Set;function s(e){if(!(this instanceof s))throw new TypeError(\"Constructor requires 'new' operator\");i.set(this,e)}function h(){throw new TypeError(\"Function is not a constructor\")}function c(e,t,i,n){e=0 in arguments?Number(arguments[0]):0,t=1 in arguments?Number(arguments[1]):0,i=2 in arguments?Number(arguments[2]):0,n=3 in arguments?Number(arguments[3]):0,this.right=(this.x=this.left=e)+(this.width=i),this.bottom=(this.y=this.top=t)+(this.height=n),Object.freeze(this)}function d(){t=requestAnimationFrame(d);var s=new WeakMap,p=new Set;o.forEach((function(t){r.get(t).forEach((function(i){var r=t instanceof window.SVGElement,o=a.get(t),d=r?0:parseFloat(o.paddingTop),f=r?0:parseFloat(o.paddingRight),l=r?0:parseFloat(o.paddingBottom),u=r?0:parseFloat(o.paddingLeft),g=r?0:parseFloat(o.borderTopWidth),m=r?0:parseFloat(o.borderRightWidth),w=r?0:parseFloat(o.borderBottomWidth),b=u+f,F=d+l,v=(r?0:parseFloat(o.borderLeftWidth))+m,W=g+w,y=r?0:t.offsetHeight-W-t.clientHeight,E=r?0:t.offsetWidth-v-t.clientWidth,R=b+v,z=F+W,M=r?t.width:parseFloat(o.width)-R-E,O=r?t.height:parseFloat(o.height)-z-y;if(n.has(t)){var k=n.get(t);if(k[0]===M&&k[1]===O)return}n.set(t,[M,O]);var S=Object.create(h.prototype);S.target=t,S.contentRect=new c(u,d,M,O),s.has(i)||(s.set(i,[]),p.add(i)),s.get(i).push(S)}))})),p.forEach((function(e){i.get(e).call(e,s.get(e),e)}))}return s.prototype.observe=function(i){if(i instanceof window.Element){r.has(i)||(r.set(i,new Set),o.add(i),a.set(i,window.getComputedStyle(i)));var n=r.get(i);n.has(this)||n.add(this),cancelAnimationFrame(t),t=requestAnimationFrame(d)}},s.prototype.unobserve=function(i){if(i instanceof window.Element&&r.has(i)){var n=r.get(i);n.has(this)&&(n.delete(this),n.size||(r.delete(i),o.delete(i))),n.size||r.delete(i),o.size||cancelAnimationFrame(t)}},A.DOMRectReadOnly=c,A.ResizeObserver=s,A.ResizeObserverEntry=h,A}; // eslint-disable-line\n",
       "mpl.toolbar_items = [[\"Home\", \"Reset original view\", \"fa fa-home icon-home\", \"home\"], [\"Back\", \"Back to previous view\", \"fa fa-arrow-left icon-arrow-left\", \"back\"], [\"Forward\", \"Forward to next view\", \"fa fa-arrow-right icon-arrow-right\", \"forward\"], [\"\", \"\", \"\", \"\"], [\"Pan\", \"Left button pans, Right button zooms\\nx/y fixes axis, CTRL fixes aspect\", \"fa fa-arrows icon-move\", \"pan\"], [\"Zoom\", \"Zoom to rectangle\\nx/y fixes axis, CTRL fixes aspect\", \"fa fa-square-o icon-check-empty\", \"zoom\"], [\"\", \"\", \"\", \"\"], [\"Download\", \"Download plot\", \"fa fa-floppy-o icon-save\", \"download\"]];\n",
       "\n",
       "mpl.extensions = [\"eps\", \"jpeg\", \"pgf\", \"pdf\", \"png\", \"ps\", \"raw\", \"svg\", \"tif\"];\n",
       "\n",
       "mpl.default_extension = \"png\";/* global mpl */\n",
       "\n",
       "var comm_websocket_adapter = function (comm) {\n",
       "    // Create a \"websocket\"-like object which calls the given IPython comm\n",
       "    // object with the appropriate methods. Currently this is a non binary\n",
       "    // socket, so there is still some room for performance tuning.\n",
       "    var ws = {};\n",
       "\n",
       "    ws.binaryType = comm.kernel.ws.binaryType;\n",
       "    ws.readyState = comm.kernel.ws.readyState;\n",
       "    function updateReadyState(_event) {\n",
       "        if (comm.kernel.ws) {\n",
       "            ws.readyState = comm.kernel.ws.readyState;\n",
       "        } else {\n",
       "            ws.readyState = 3; // Closed state.\n",
       "        }\n",
       "    }\n",
       "    comm.kernel.ws.addEventListener('open', updateReadyState);\n",
       "    comm.kernel.ws.addEventListener('close', updateReadyState);\n",
       "    comm.kernel.ws.addEventListener('error', updateReadyState);\n",
       "\n",
       "    ws.close = function () {\n",
       "        comm.close();\n",
       "    };\n",
       "    ws.send = function (m) {\n",
       "        //console.log('sending', m);\n",
       "        comm.send(m);\n",
       "    };\n",
       "    // Register the callback with on_msg.\n",
       "    comm.on_msg(function (msg) {\n",
       "        //console.log('receiving', msg['content']['data'], msg);\n",
       "        var data = msg['content']['data'];\n",
       "        if (data['blob'] !== undefined) {\n",
       "            data = {\n",
       "                data: new Blob(msg['buffers'], { type: data['blob'] }),\n",
       "            };\n",
       "        }\n",
       "        // Pass the mpl event to the overridden (by mpl) onmessage function.\n",
       "        ws.onmessage(data);\n",
       "    });\n",
       "    return ws;\n",
       "};\n",
       "\n",
       "mpl.mpl_figure_comm = function (comm, msg) {\n",
       "    // This is the function which gets called when the mpl process\n",
       "    // starts-up an IPython Comm through the \"matplotlib\" channel.\n",
       "\n",
       "    var id = msg.content.data.id;\n",
       "    // Get hold of the div created by the display call when the Comm\n",
       "    // socket was opened in Python.\n",
       "    var element = document.getElementById(id);\n",
       "    var ws_proxy = comm_websocket_adapter(comm);\n",
       "\n",
       "    function ondownload(figure, _format) {\n",
       "        window.open(figure.canvas.toDataURL());\n",
       "    }\n",
       "\n",
       "    var fig = new mpl.figure(id, ws_proxy, ondownload, element);\n",
       "\n",
       "    // Call onopen now - mpl needs it, as it is assuming we've passed it a real\n",
       "    // web socket which is closed, not our websocket->open comm proxy.\n",
       "    ws_proxy.onopen();\n",
       "\n",
       "    fig.parent_element = element;\n",
       "    fig.cell_info = mpl.find_output_cell(\"<div id='\" + id + \"'></div>\");\n",
       "    if (!fig.cell_info) {\n",
       "        console.error('Failed to find cell for figure', id, fig);\n",
       "        return;\n",
       "    }\n",
       "    fig.cell_info[0].output_area.element.on(\n",
       "        'cleared',\n",
       "        { fig: fig },\n",
       "        fig._remove_fig_handler\n",
       "    );\n",
       "};\n",
       "\n",
       "mpl.figure.prototype.handle_close = function (fig, msg) {\n",
       "    var width = fig.canvas.width / fig.ratio;\n",
       "    fig.cell_info[0].output_area.element.off(\n",
       "        'cleared',\n",
       "        fig._remove_fig_handler\n",
       "    );\n",
       "    fig.resizeObserverInstance.unobserve(fig.canvas_div);\n",
       "\n",
       "    // Update the output cell to use the data from the current canvas.\n",
       "    fig.push_to_output();\n",
       "    var dataURL = fig.canvas.toDataURL();\n",
       "    // Re-enable the keyboard manager in IPython - without this line, in FF,\n",
       "    // the notebook keyboard shortcuts fail.\n",
       "    IPython.keyboard_manager.enable();\n",
       "    fig.parent_element.innerHTML =\n",
       "        '<img src=\"' + dataURL + '\" width=\"' + width + '\">';\n",
       "    fig.close_ws(fig, msg);\n",
       "};\n",
       "\n",
       "mpl.figure.prototype.close_ws = function (fig, msg) {\n",
       "    fig.send_message('closing', msg);\n",
       "    // fig.ws.close()\n",
       "};\n",
       "\n",
       "mpl.figure.prototype.push_to_output = function (_remove_interactive) {\n",
       "    // Turn the data on the canvas into data in the output cell.\n",
       "    var width = this.canvas.width / this.ratio;\n",
       "    var dataURL = this.canvas.toDataURL();\n",
       "    this.cell_info[1]['text/html'] =\n",
       "        '<img src=\"' + dataURL + '\" width=\"' + width + '\">';\n",
       "};\n",
       "\n",
       "mpl.figure.prototype.updated_canvas_event = function () {\n",
       "    // Tell IPython that the notebook contents must change.\n",
       "    IPython.notebook.set_dirty(true);\n",
       "    this.send_message('ack', {});\n",
       "    var fig = this;\n",
       "    // Wait a second, then push the new image to the DOM so\n",
       "    // that it is saved nicely (might be nice to debounce this).\n",
       "    setTimeout(function () {\n",
       "        fig.push_to_output();\n",
       "    }, 1000);\n",
       "};\n",
       "\n",
       "mpl.figure.prototype._init_toolbar = function () {\n",
       "    var fig = this;\n",
       "\n",
       "    var toolbar = document.createElement('div');\n",
       "    toolbar.classList = 'btn-toolbar';\n",
       "    this.root.appendChild(toolbar);\n",
       "\n",
       "    function on_click_closure(name) {\n",
       "        return function (_event) {\n",
       "            return fig.toolbar_button_onclick(name);\n",
       "        };\n",
       "    }\n",
       "\n",
       "    function on_mouseover_closure(tooltip) {\n",
       "        return function (event) {\n",
       "            if (!event.currentTarget.disabled) {\n",
       "                return fig.toolbar_button_onmouseover(tooltip);\n",
       "            }\n",
       "        };\n",
       "    }\n",
       "\n",
       "    fig.buttons = {};\n",
       "    var buttonGroup = document.createElement('div');\n",
       "    buttonGroup.classList = 'btn-group';\n",
       "    var button;\n",
       "    for (var toolbar_ind in mpl.toolbar_items) {\n",
       "        var name = mpl.toolbar_items[toolbar_ind][0];\n",
       "        var tooltip = mpl.toolbar_items[toolbar_ind][1];\n",
       "        var image = mpl.toolbar_items[toolbar_ind][2];\n",
       "        var method_name = mpl.toolbar_items[toolbar_ind][3];\n",
       "\n",
       "        if (!name) {\n",
       "            /* Instead of a spacer, we start a new button group. */\n",
       "            if (buttonGroup.hasChildNodes()) {\n",
       "                toolbar.appendChild(buttonGroup);\n",
       "            }\n",
       "            buttonGroup = document.createElement('div');\n",
       "            buttonGroup.classList = 'btn-group';\n",
       "            continue;\n",
       "        }\n",
       "\n",
       "        button = fig.buttons[name] = document.createElement('button');\n",
       "        button.classList = 'btn btn-default';\n",
       "        button.href = '#';\n",
       "        button.title = name;\n",
       "        button.innerHTML = '<i class=\"fa ' + image + ' fa-lg\"></i>';\n",
       "        button.addEventListener('click', on_click_closure(method_name));\n",
       "        button.addEventListener('mouseover', on_mouseover_closure(tooltip));\n",
       "        buttonGroup.appendChild(button);\n",
       "    }\n",
       "\n",
       "    if (buttonGroup.hasChildNodes()) {\n",
       "        toolbar.appendChild(buttonGroup);\n",
       "    }\n",
       "\n",
       "    // Add the status bar.\n",
       "    var status_bar = document.createElement('span');\n",
       "    status_bar.classList = 'mpl-message pull-right';\n",
       "    toolbar.appendChild(status_bar);\n",
       "    this.message = status_bar;\n",
       "\n",
       "    // Add the close button to the window.\n",
       "    var buttongrp = document.createElement('div');\n",
       "    buttongrp.classList = 'btn-group inline pull-right';\n",
       "    button = document.createElement('button');\n",
       "    button.classList = 'btn btn-mini btn-primary';\n",
       "    button.href = '#';\n",
       "    button.title = 'Stop Interaction';\n",
       "    button.innerHTML = '<i class=\"fa fa-power-off icon-remove icon-large\"></i>';\n",
       "    button.addEventListener('click', function (_evt) {\n",
       "        fig.handle_close(fig, {});\n",
       "    });\n",
       "    button.addEventListener(\n",
       "        'mouseover',\n",
       "        on_mouseover_closure('Stop Interaction')\n",
       "    );\n",
       "    buttongrp.appendChild(button);\n",
       "    var titlebar = this.root.querySelector('.ui-dialog-titlebar');\n",
       "    titlebar.insertBefore(buttongrp, titlebar.firstChild);\n",
       "};\n",
       "\n",
       "mpl.figure.prototype._remove_fig_handler = function (event) {\n",
       "    var fig = event.data.fig;\n",
       "    if (event.target !== this) {\n",
       "        // Ignore bubbled events from children.\n",
       "        return;\n",
       "    }\n",
       "    fig.close_ws(fig, {});\n",
       "};\n",
       "\n",
       "mpl.figure.prototype._root_extra_style = function (el) {\n",
       "    el.style.boxSizing = 'content-box'; // override notebook setting of border-box.\n",
       "};\n",
       "\n",
       "mpl.figure.prototype._canvas_extra_style = function (el) {\n",
       "    // this is important to make the div 'focusable\n",
       "    el.setAttribute('tabindex', 0);\n",
       "    // reach out to IPython and tell the keyboard manager to turn it's self\n",
       "    // off when our div gets focus\n",
       "\n",
       "    // location in version 3\n",
       "    if (IPython.notebook.keyboard_manager) {\n",
       "        IPython.notebook.keyboard_manager.register_events(el);\n",
       "    } else {\n",
       "        // location in version 2\n",
       "        IPython.keyboard_manager.register_events(el);\n",
       "    }\n",
       "};\n",
       "\n",
       "mpl.figure.prototype._key_event_extra = function (event, _name) {\n",
       "    var manager = IPython.notebook.keyboard_manager;\n",
       "    if (!manager) {\n",
       "        manager = IPython.keyboard_manager;\n",
       "    }\n",
       "\n",
       "    // Check for shift+enter\n",
       "    if (event.shiftKey && event.which === 13) {\n",
       "        this.canvas_div.blur();\n",
       "        // select the cell after this one\n",
       "        var index = IPython.notebook.find_cell_index(this.cell_info[0]);\n",
       "        IPython.notebook.select(index + 1);\n",
       "    }\n",
       "};\n",
       "\n",
       "mpl.figure.prototype.handle_save = function (fig, _msg) {\n",
       "    fig.ondownload(fig, null);\n",
       "};\n",
       "\n",
       "mpl.find_output_cell = function (html_output) {\n",
       "    // Return the cell and output element which can be found *uniquely* in the notebook.\n",
       "    // Note - this is a bit hacky, but it is done because the \"notebook_saving.Notebook\"\n",
       "    // IPython event is triggered only after the cells have been serialised, which for\n",
       "    // our purposes (turning an active figure into a static one), is too late.\n",
       "    var cells = IPython.notebook.get_cells();\n",
       "    var ncells = cells.length;\n",
       "    for (var i = 0; i < ncells; i++) {\n",
       "        var cell = cells[i];\n",
       "        if (cell.cell_type === 'code') {\n",
       "            for (var j = 0; j < cell.output_area.outputs.length; j++) {\n",
       "                var data = cell.output_area.outputs[j];\n",
       "                if (data.data) {\n",
       "                    // IPython >= 3 moved mimebundle to data attribute of output\n",
       "                    data = data.data;\n",
       "                }\n",
       "                if (data['text/html'] === html_output) {\n",
       "                    return [cell, data, j];\n",
       "                }\n",
       "            }\n",
       "        }\n",
       "    }\n",
       "};\n",
       "\n",
       "// Register the function which deals with the matplotlib target/channel.\n",
       "// The kernel may be null if the page has been refreshed.\n",
       "if (IPython.notebook.kernel !== null) {\n",
       "    IPython.notebook.kernel.comm_manager.register_target(\n",
       "        'matplotlib',\n",
       "        mpl.mpl_figure_comm\n",
       "    );\n",
       "}\n"
      ],
      "text/plain": [
       "<IPython.core.display.Javascript object>"
      ]
     },
     "metadata": {},
     "output_type": "display_data"
    },
    {
     "data": {
      "text/html": [
       "<img src=\"data:image/png;base64,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\" width=\"640\">"
      ],
      "text/plain": [
       "<IPython.core.display.HTML object>"
      ]
     },
     "metadata": {},
     "output_type": "display_data"
    }
   ],
   "source": [
    "fig, ax = plt.subplots()\n",
    "\n",
    "ax.plot( frequency, power)\n",
    "fig.tight_layout()"
   ]
  },
  {
   "cell_type": "markdown",
   "metadata": {
    "slideshow": {
     "slide_type": "slide"
    }
   },
   "source": [
    "There are many choices regarding the calculation of the periodogram, so [read the docs](http://docs.astropy.org/en/stable/api/astropy.stats.LombScargle.html#astropy.stats.LombScargle)."
   ]
  },
  {
   "cell_type": "markdown",
   "metadata": {
    "slideshow": {
     "slide_type": "slide"
    }
   },
   "source": [
    "### Floating Mean Periodogram\n",
    "\n",
    "A basic assumption that we preivously made is that the data are \"centered\" - in other words, our model explicitly assumes that the signal oscillates about a mean of 0.\n",
    "\n",
    "For astronomical applications, this assumption can be harmful. Instead, it is useful to fit for the mean of the signal in addition to the periodic component (as is the default in `LombScargle`):\n",
    "\n",
    "$$y(t;f) = y_0(f) + A_f \\sin(2\\pi f(t - \\phi_f).$$"
   ]
  },
  {
   "cell_type": "markdown",
   "metadata": {
    "slideshow": {
     "slide_type": "slide"
    }
   },
   "source": [
    "To illustrate why this is important for astronomy, assume that any signal fainter than $-2$ in our simulated data cannot be detected. \n",
    "\n",
    "**Problem 1c**\n",
    "\n",
    "Remove the observations from `x` and `y` where $y \\le -2$ and calculate the periodogram both with and without fitting the mean (`fit_mean = False` in the call to `LombScargle`). Plot the periodograms. Do both methods recover the correct period? "
   ]
  },
  {
   "cell_type": "code",
   "execution_count": null,
   "metadata": {
    "slideshow": {
     "slide_type": "slide"
    }
   },
   "outputs": [],
   "source": [
    "# complete\n",
    "freq_no_mean, power_no_mean = LombScargle( # complete\n",
    "freq_fit_mean, power_fit_mean = LombScargle( # complete\n",
    "    \n",
    "fig, (ax1, ax2) = plt.subplots(2, 1, sharex=True)\n",
    "ax1.plot( # complete\n",
    "ax2.plot( # complete\n",
    "ax1.set_xlim(0,15)\n",
    "\n",
    "fig.tight_layout()"
   ]
  },
  {
   "cell_type": "markdown",
   "metadata": {
    "slideshow": {
     "slide_type": "slide"
    }
   },
   "source": [
    "We can see that the best fit model doesn't match the signal in the case where we do not allow a floating mean."
   ]
  },
  {
   "cell_type": "code",
   "execution_count": null,
   "metadata": {
    "slideshow": {
     "slide_type": "slide"
    }
   },
   "outputs": [],
   "source": [
    "fit_mean_model = LombScargle(x[bright], y[bright], y_unc[bright], \n",
    "                             fit_mean=True).model(np.linspace(0,10,1000),\n",
    "                                                  freq_fit_mean[np.argmax(power_fit_mean)])\n",
    "no_mean_model = LombScargle(x[bright], y[bright], y_unc[bright], \n",
    "                             fit_mean=False).model(np.linspace(0,10,1000),\n",
    "                                                  freq_no_mean[np.argmax(power_no_mean)])\n",
    "\n",
    "fig, ax = plt.subplots()\n",
    "ax.errorbar(x[bright], y[bright], y_unc[bright], fmt='o', label='data')\n",
    "ax.plot(np.linspace(0,10,1000), fit_mean_model, label='fit mean')\n",
    "ax.plot(np.linspace(0,10,1000), no_mean_model, label='no mean')\n",
    "ax.set_xlabel('x')\n",
    "ax.set_ylabel('y')\n",
    "ax.legend()\n",
    "fig.tight_layout()"
   ]
  },
  {
   "cell_type": "markdown",
   "metadata": {
    "slideshow": {
     "slide_type": "slide"
    }
   },
   "source": [
    "### Window Functions\n",
    "\n",
    "Recall that the convolution theorem tells us that:\n",
    "\n",
    "$$\\mathcal{F}[f\\cdot g] = \\mathcal{F}(f) \\ast \\mathcal{F}(g)$$\n",
    "\n",
    "Telescope observations are effectively the product of a continous signal with several delta functions (corresponding to the times of observations). As a result, the convolution that produces the periodogram will retain signal from both the source and the observational cadence."
   ]
  },
  {
   "cell_type": "markdown",
   "metadata": {
    "slideshow": {
     "slide_type": "slide"
    }
   },
   "source": [
    "To illustrate this effect, let us simulate \"realistic\" observations for a 10 year telescope survey. We do this by assuming that a source is observed every 3 nights (the LSST cadence) within $\\pm 4\\,\\mathrm{hr}$ of the same time, and that $\\sim 30\\%$ of the observations did not occur due to bad weather. We further assume that the source cannot be observed for 40% of the year because it is behind the sun.\n",
    "\n",
    "Simulate a periodic signal with this cadence, a period = 220 days (typical for Miras), amplitude = 12.4, and noise = 1. Plot the simulated light curve."
   ]
  },
  {
   "cell_type": "markdown",
   "metadata": {
    "slideshow": {
     "slide_type": "slide"
    }
   },
   "source": [
    "**Problem 1d**\n",
    "\n",
    "Simulate a periodic signal with 3 day cadence (and the observing conditions described above), a period = 220 days (typical for Miras), amplitude = 12.4, and variance of the noise = 1. Plot the simulated light curve."
   ]
  },
  {
   "cell_type": "code",
   "execution_count": null,
   "metadata": {
    "slideshow": {
     "slide_type": "slide"
    }
   },
   "outputs": [],
   "source": [
    "# set up simulated observations\n",
    "t_obs = np.arange(0, 10*365, 3)      # 3d cadence\n",
    "# complete\n",
    "# complete\n",
    "# complete\n",
    "\n",
    "y = gen_periodic_data( # complete\n",
    "# complete\n",
    "\n",
    "fig, ax = plt.subplots()\n",
    "ax.errorbar( # complete\n",
    "ax.set_xlabel(\"Time (d)\")\n",
    "\n",
    "ax.set_ylabel(\"Flux (arbitrary units)\")"
   ]
  },
  {
   "cell_type": "markdown",
   "metadata": {
    "slideshow": {
     "slide_type": "slide"
    }
   },
   "source": [
    "**Problem 1e**\n",
    "\n",
    "Calculate and plot the periodogram for the window function (i.e., set `y = 1` in `LombScargle`) of the observations. Do you notice any significant power? \n",
    "\n",
    "*Hint* - you may need to zoom in on the plot to see all the relevant features."
   ]
  },
  {
   "cell_type": "code",
   "execution_count": null,
   "metadata": {
    "slideshow": {
     "slide_type": "slide"
    }
   },
   "outputs": [],
   "source": [
    "ls = LombScargle( # complete\n",
    "    \n",
    "freq_window, power_window = # complete\n",
    "\n",
    "fig, ax = plt.subplots()\n",
    "ax.plot( # complete\n",
    "ax.set_ylabel(\"Power\")\n",
    "ax.set_xlabel(\"Period (d)\")\n",
    "ax.set_xlim(0,500)\n",
    "\n",
    "axins = plt.axes([.2, .65, .5, .2])\n",
    "axins.plot( # complete\n",
    "axins.set_xlim(0,5)"
   ]
  },
  {
   "cell_type": "markdown",
   "metadata": {
    "slideshow": {
     "slide_type": "slide"
    }
   },
   "source": [
    "Interestingly, there are very strong peaks in the data at $P \\approx 3\\,\\mathrm{d} \\;\\&\\; 365\\,\\mathrm{d}$. \n",
    "\n",
    "What is this telling us? Essentially that observations are likely to be repeated at intervals of 3 or 365 days (shorter period spikes are aliases of the 3 d peak).\n",
    "\n",
    "This is important to understand, however, because this same power will be present in the periodogram where we search for the periodic signal."
   ]
  },
  {
   "cell_type": "markdown",
   "metadata": {
    "slideshow": {
     "slide_type": "slide"
    }
   },
   "source": [
    "**Problem 1f**\n",
    "\n",
    "Calculate the periodogram for the data and compare it to the periodogram for the window function. "
   ]
  },
  {
   "cell_type": "code",
   "execution_count": null,
   "metadata": {
    "slideshow": {
     "slide_type": "slide"
    }
   },
   "outputs": [],
   "source": [
    "ls = LombScargle( # complete\n",
    "\n",
    "frequency, power = # complete\n",
    "\n",
    "fig, (ax,ax2) = plt.subplots(2,1, sharex=True)\n",
    "ax.plot( # complete\n",
    "ax.set_ylabel(\"Power\")\n",
    "ax.set_ylim(0,1)\n",
    "\n",
    "ax2.plot( # complete\n",
    "ax2.set_ylabel(\"Power\")\n",
    "ax2.set_xlabel(\"Period (d)\")\n",
    "ax2.set_xlim(0,10)\n",
    "fig.tight_layout()"
   ]
  },
  {
   "cell_type": "markdown",
   "metadata": {
    "slideshow": {
     "slide_type": "slide"
    }
   },
   "source": [
    "### Uncertainty on the best-fit period\n",
    "\n",
    "How do we report uncertainties on the best-fit period from LS? For example, for the previously simulated LSST light curve we would want to report something like $P = 102 \\pm 4\\,\\mathrm{d}$. However, the uncertainty from LS periodograms cannot be determined in this way. "
   ]
  },
  {
   "cell_type": "markdown",
   "metadata": {
    "slideshow": {
     "slide_type": "slide"
    }
   },
   "source": [
    "Naively, one could report the width of the peak in the periodogram as the uncertainty in the fit. However, we previously saw that the peak width $\\propto 1/T$ (the peak width does not decrease as the number of observations or their S/N increases; see Vander Plas 2017). Reporting such an uncertainty is particularly ridiculous for long duration surveys, whereby the peaks become very very narrow."
   ]
  },
  {
   "cell_type": "markdown",
   "metadata": {
    "slideshow": {
     "slide_type": "slide"
    }
   },
   "source": [
    "An alternative approach is to report the False Alarm Probability (FAP), which estimates the probability that a dataset with no periodic signal could produce a peak of similar magnitude, due to random gaussian fluctuations, as the data. \n",
    "\n",
    "There are a few different methods to calculate the FAP. Perhaps the most useful, however, is the bootstrap method. To obtain a bootstrap estimate of the LS FAP one leaves the observation times fixed, and then draws new observation values with replacement from the actual set of observations. This procedure is then repeated many times to determine the FAP. "
   ]
  },
  {
   "cell_type": "markdown",
   "metadata": {
    "slideshow": {
     "slide_type": "slide"
    }
   },
   "source": [
    "One nice advantage of this procedure is that any effects due to the window function will be imprinted in each iteration of the bootstrap resampling. \n",
    "\n",
    "The major disadvantage is that many many periodograms must be calculated. The rule of thumb is that to acieve a FAP $= p_\\mathrm{false}$, one must run $n_\\mathrm{boot} \\approx 10/p_\\mathrm{false}$ bootstrap periodogram calculations. Thus, an FAP $\\approx 0.1\\%$ requires an increase of 1000 in computational time. \n",
    "\n",
    "`LombScargle` provides the [`false_alarm_probability`](One nice advantage of this procedure is that any effects due to the window function will be imprinted in each iteration of the bootstrap resampling. The major disadvantage is that many many periodograms must be calculated) method, including a bootstrap option. We skip that for now in the interest of time."
   ]
  },
  {
   "cell_type": "markdown",
   "metadata": {
    "slideshow": {
     "slide_type": "slide"
    }
   },
   "source": [
    "As a final note of caution - be weary of over-interpreting the FAP. The specific question answered by the FAP is, what is the probability that gaussian fluctations could produce a signal of equivalent magnitude? Whereas, the question we generally want to answer is: did a periodic signal produce these data?\n",
    "\n",
    "These questions are very different, and thus, the FAP cannot be used to *prove* that a source is periodic."
   ]
  },
  {
   "cell_type": "markdown",
   "metadata": {
    "slideshow": {
     "slide_type": "slide"
    }
   },
   "source": [
    "## Problem 2) Real-world considerations\n",
    "\n",
    "We have covered many, though not all, considerations that are necessary when employing a Lomb Scargle periodogram. We have not yet, however, encountered real world data. Here we highlight some of the issues associated with astronomical light curves. \n",
    "\n",
    "We will now use LS to analyze actual data from the [All Sky Automated Survey (ASAS)](http://www.astrouw.edu.pl/asas/?page=catalogues). Download the [example light curve](https://northwestern.box.com/s/rclcz4lkcdfjn4829p8pa5ddfmcyd0gm)."
   ]
  },
  {
   "cell_type": "markdown",
   "metadata": {
    "slideshow": {
     "slide_type": "slide"
    }
   },
   "source": [
    "**Problem 2a**\n",
    "\n",
    "Read in the light curve from example_asas_lc.dat. Plot the light curve.\n",
    "\n",
    "*Hint* - I recommend using `astropy Tables` or `pandas dataframe`."
   ]
  },
  {
   "cell_type": "code",
   "execution_count": null,
   "metadata": {
    "slideshow": {
     "slide_type": "slide"
    }
   },
   "outputs": [],
   "source": [
    "data = # complete\n",
    "\n",
    "fig, ax = plt.subplots()\n",
    "ax.errorbar( # complete\n",
    "ax.set_xlabel('HJD (d)')\n",
    "ax.set_ylabel('V (mag)')\n",
    "ax.set_ylim(ax.get_ylim()[::-1])\n",
    "fig.tight_layout()"
   ]
  },
  {
   "cell_type": "markdown",
   "metadata": {
    "slideshow": {
     "slide_type": "slide"
    }
   },
   "source": [
    "**Problem 2b**\n",
    "\n",
    "Use `LombScargle` to measure the periodogram. Then plot the periodogram and the phase folded light curve at the best-fit period.\n",
    "\n",
    "*Hint* - search periods longer than 2 hr."
   ]
  },
  {
   "cell_type": "code",
   "execution_count": null,
   "metadata": {
    "slideshow": {
     "slide_type": "slide"
    }
   },
   "outputs": [],
   "source": [
    "frequency, power = # complete\n",
    "\n",
    "# complete\n",
    "\n",
    "fig,ax = plt.subplots()\n",
    "\n",
    "ax.plot(# complete\n",
    "ax.set_ylabel(\"Power\")\n",
    "ax.set_xlabel(\"Period (d)\")\n",
    "ax.set_xlim(0, 800)\n",
    "\n",
    "axins = plt.axes([.25, .55, .6, .3])\n",
    "axins.plot( # complete\n",
    "axins.set_xlim(0,5)\n",
    "fig.tight_layout()"
   ]
  },
  {
   "cell_type": "code",
   "execution_count": null,
   "metadata": {
    "slideshow": {
     "slide_type": "slide"
    }
   },
   "outputs": [],
   "source": [
    "# plot the phase folded light curve\n",
    "phase_plot( # complete"
   ]
  },
  {
   "cell_type": "markdown",
   "metadata": {
    "slideshow": {
     "slide_type": "slide"
    }
   },
   "source": [
    "**Problem 2c**\n",
    "\n",
    "Now plot the light curve folded at twice the best LS period.\n",
    "\n",
    "Which of these 2 is better? "
   ]
  },
  {
   "cell_type": "code",
   "execution_count": null,
   "metadata": {
    "slideshow": {
     "slide_type": "slide"
    }
   },
   "outputs": [],
   "source": [
    "phase_plot( # complete"
   ]
  },
  {
   "cell_type": "markdown",
   "metadata": {
    "slideshow": {
     "slide_type": "slide"
    }
   },
   "source": [
    "Herein lies a fundamental issue regarding the LS periodogram: the model does not search for \"periodicity.\" The LS model asks if the data support a sinusoidal signal. As astronomers we typically assume this question is good enough, but as we can see in the example of this eclipsing binary that is not the case [and this is not limited to eclipsing binaries]. \n",
    "\n",
    "We can see why LS is not sufficient for an EB by comparing the model to the phase-folded light curve:"
   ]
  },
  {
   "cell_type": "markdown",
   "metadata": {
    "slideshow": {
     "slide_type": "slide"
    }
   },
   "source": [
    "**Problem 2d**\n",
    "\n",
    "Overplot the model on top of the phase folded light curve. \n",
    "\n",
    "*Hint* – you can access the best LS fit via the [`.model()`](https://docs.astropy.org/en/stable/timeseries/lombscargle.html#the-lomb-scargle-model) method on `LombScargle` objects in astropy."
   ]
  },
  {
   "cell_type": "code",
   "execution_count": null,
   "metadata": {
    "slideshow": {
     "slide_type": "slide"
    }
   },
   "outputs": [],
   "source": [
    "phase_plot( # complete\n",
    "\n",
    "phase_grid = np.linspace(0,1,1000)\n",
    "plt.plot( # complete\n",
    "plt.tight_layout()"
   ]
  },
  {
   "cell_type": "markdown",
   "metadata": {
    "slideshow": {
     "slide_type": "slide"
    }
   },
   "source": [
    "One way to combat this very specific issue is to include more Fourier terms at the harmonic of the best fit period. This is easy to implement in `LombScargle` with the `nterms` keyword. [Though always be weary of adding degrees of freedom to a model, especially at the large pipeline level of analysis.]\n",
    "\n",
    "**Problem 2e**\n",
    "\n",
    "Calculate the LS periodogram for the eclipsing binary, with `nterms` = 1, 2, 3, 4, 5. Report the best-fit period for each of these models.\n",
    "\n",
    "*Hint* - we have good reason to believe that the best fit frequency is < 3 in this case, so set `maximum_frequency = 3`."
   ]
  },
  {
   "cell_type": "code",
   "execution_count": null,
   "metadata": {
    "slideshow": {
     "slide_type": "slide"
    }
   },
   "outputs": [],
   "source": [
    "for i in np.arange(1,6):\n",
    "    frequency, power = # complete\n",
    "    # complete\n",
    "    print('For {:d} harmonics, P_LS = {:.8f}'.format( # complete"
   ]
  },
  {
   "cell_type": "markdown",
   "metadata": {
    "slideshow": {
     "slide_type": "slide"
    }
   },
   "source": [
    "Interestingly, for the $n=2, 3, 4$ harmonics, it appears as though we get the period that we have visually confirmed. However, by $n=5$ harmonics we no longer get a reasonable answer. Again - be very careful about adding harmonics, especially in large analysis pipelines."
   ]
  },
  {
   "cell_type": "markdown",
   "metadata": {
    "slideshow": {
     "slide_type": "slide"
    }
   },
   "source": [
    "**Problem 2f**\n",
    "\n",
    "Plot the the $n = 4$ model on top of the light curve folded at the correct period."
   ]
  },
  {
   "cell_type": "code",
   "execution_count": null,
   "metadata": {
    "slideshow": {
     "slide_type": "slide"
    }
   },
   "outputs": [],
   "source": [
    "best_period = # complete\n",
    "\n",
    "phase_plot( # complete\n",
    "\n",
    "phase_grid = np.linspace(0,1,1000)\n",
    "plt.plot( # complete\n",
    "plt.tight_layout()"
   ]
  },
  {
   "cell_type": "markdown",
   "metadata": {
    "slideshow": {
     "slide_type": "slide"
    }
   },
   "source": [
    "This example also shows why it is somewhat strange to provide an uncertainty with a LS best-fit period. Errors tend to be catastrophic, and not some small fractional percentage, with the LS periodogram.\n",
    "\n",
    "In the case of the above EB, the \"best-fit\" period was off by a factor 2. This is not isolated to EBs, however, LS periodograms frequently identify a correct harmonic of the true period, but not the actual period of variability. "
   ]
  },
  {
   "cell_type": "markdown",
   "metadata": {
    "slideshow": {
     "slide_type": "slide"
    }
   },
   "source": [
    "## Problem 3) The \"Real\" World"
   ]
  },
  {
   "cell_type": "markdown",
   "metadata": {
    "slideshow": {
     "slide_type": "slide"
    }
   },
   "source": [
    "**Problem 3a** \n",
    "\n",
    "Re-write `gen_periodic_data` to create periodic signals using the first 4 harmonics in a Fourier series. The $n > 1$ harmonics should have random phase offsets, and the amplitude of the $n > 1$ harmonics should be drawn randomly from a uniform distribution between 0 and `amplitude` the amplitude of the first harmonic."
   ]
  },
  {
   "cell_type": "code",
   "execution_count": null,
   "metadata": {
    "slideshow": {
     "slide_type": "slide"
    }
   },
   "outputs": [],
   "source": [
    "def gen_periodic_data(x, period=1, amplitude=1, phase=0, noise=0):\n",
    "    '''Generate periodic data\n",
    "    \n",
    "    Parameters\n",
    "    ----------\n",
    "    x : array-like\n",
    "        input values to evaluate the array\n",
    "    \n",
    "    period : float (default=1)\n",
    "        period of the periodic signal\n",
    "    \n",
    "    amplitude : float (default=1)\n",
    "        amplitude of the periodic signal\n",
    "    \n",
    "    phase : float (default=0)\n",
    "        phase offset of the periodic signal\n",
    "    \n",
    "    noise : float (default=0)\n",
    "        variance of the noise term added to the periodic signal\n",
    "    \n",
    "    Returns\n",
    "    -------\n",
    "    y : array-like\n",
    "        Periodic signal evaluated at all points x\n",
    "    '''\n",
    "    \n",
    "    y1 = # complete\n",
    "    amp2 = # complete\n",
    "    phase2 = # complete\n",
    "    y2 = # complete\n",
    "    amp3 = # complete\n",
    "    phase3 = # complete\n",
    "    y3 = # complete\n",
    "    amp4 = # complete\n",
    "    phase4 = # complete\n",
    "    y4 = # complete\n",
    "    dy = # complete\n",
    "    return y1 + y2 + y3 + y4 + dy"
   ]
  },
  {
   "cell_type": "markdown",
   "metadata": {
    "slideshow": {
     "slide_type": "slide"
    }
   },
   "source": [
    "**Problem 3b**\n",
    "\n",
    "Confirm the updated version of `gen_periodic_data` works by creating a phase plot for a simulated signal with `amplitude = 4`, `period = 1.234`, and `noise=0.81`, and 100 observations obtained on a regular grid from 0 to 50."
   ]
  },
  {
   "cell_type": "code",
   "execution_count": null,
   "metadata": {
    "slideshow": {
     "slide_type": "slide"
    }
   },
   "outputs": [],
   "source": [
    "np.random.seed(185)\n",
    "x_grid = np.linspace( # complete\n",
    "y = gen_periodic_data( # complete\n",
    "\n",
    "phase_plot( # complete"
   ]
  },
  {
   "cell_type": "markdown",
   "metadata": {
    "slideshow": {
     "slide_type": "slide"
    }
   },
   "source": [
    "**Problem 3c** \n",
    "\n",
    "Simulate 1000 \"realistic\" light curves using the astronomical cadence from **1d** for a full survey duration of 2 years. \n",
    "\n",
    "For each light curve draw the period randomly from [0.2, 10], and the amplitude randomly from [1, 5], and the noise randomly from [1,2].\n",
    "\n",
    "Record the period in an array `true_p` and estimate the period for the simulated data via LS and store the result in an array `ls_p`."
   ]
  },
  {
   "cell_type": "code",
   "execution_count": null,
   "metadata": {
    "slideshow": {
     "slide_type": "slide"
    }
   },
   "outputs": [],
   "source": [
    "n_lc = # complete\n",
    "true_p = np.zeros(n_lc)\n",
    "ls_p = np.zeros_like(true_p)\n",
    "\n",
    "for lc in range(n_lc):\n",
    "    # set up simulated observations\n",
    "    t_obs = np.arange(0, 2*365, 3)      # 3d cadence\n",
    "    # complete    \n",
    "    # complete    \n",
    "    # complete    \n",
    "\n",
    "    period = # complete\n",
    "    true_p[lc] = # complete\n",
    "    amp = # complete\n",
    "    noise = # complete\n",
    "    y = gen_periodic_data(    # complete    \n",
    "\n",
    "    freq, power = LombScargle(    # complete    \n",
    "    ls_p[lc] = 1/freq[np.argmax(power)]\n"
   ]
  },
  {
   "cell_type": "markdown",
   "metadata": {
    "slideshow": {
     "slide_type": "slide"
    }
   },
   "source": [
    "**Problem 3d**\n",
    "\n",
    "Plot the LS recovered period vs. the true period for the simulated sources. \n",
    "\n",
    "Do you notice anything interesting? Do you manage to recover the correct period most of the time?"
   ]
  },
  {
   "cell_type": "code",
   "execution_count": null,
   "metadata": {
    "slideshow": {
     "slide_type": "slide"
    }
   },
   "outputs": [],
   "source": [
    "fig, ax = plt.subplots()\n",
    "ax.plot( # complete\n",
    "ax.set_ylim(0, 20)\n",
    "ax.set_xlabel('True period (d)')\n",
    "ax.set_ylabel('LS peak (d)')\n",
    "fig.tight_layout()"
   ]
  },
  {
   "cell_type": "markdown",
   "metadata": {
    "slideshow": {
     "slide_type": "slide"
    }
   },
   "source": [
    "**Problem 3e**\n",
    "\n",
    "For how many of the simulated sources do you recover the correct period? Consider a period estimate \"correct\" if the LS estimate is within 10% of the true period."
   ]
  },
  {
   "cell_type": "code",
   "execution_count": null,
   "metadata": {
    "slideshow": {
     "slide_type": "slide"
    }
   },
   "outputs": [],
   "source": [
    "# complete"
   ]
  },
  {
   "cell_type": "markdown",
   "metadata": {
    "slideshow": {
     "slide_type": "slide"
    }
   },
   "source": [
    "The results are a bit disappointing. However, it is also clear that there is strong structure in the plot off the 1:1 line. That structure can be understood in terms of the window function that was discussed in **1d**, **1e**, and **1f**."
   ]
  },
  {
   "cell_type": "markdown",
   "metadata": {
    "slideshow": {
     "slide_type": "slide"
    }
   },
   "source": [
    "**Problem 3f**\n",
    "\n",
    "Recreate the plot in **3d** and overplot the line\n",
    "\n",
    "$$P_\\mathrm{LS} = \\left(\\frac{1}{P_\\mathrm{true}} + \\frac{n}{3}\\right)^{-1}$$\n",
    "\n",
    "for $n = -2, -1, 1, 2$.\n",
    "\n",
    "*Hint* - only plot the values where $P_\\mathrm{LS} > 0$ since, by definition, we do not search for negative periods."
   ]
  },
  {
   "cell_type": "code",
   "execution_count": null,
   "metadata": {
    "slideshow": {
     "slide_type": "slide"
    }
   },
   "outputs": [],
   "source": [
    "p_grid = np.linspace(1e-1,10,100)\n",
    "\n",
    "fig, ax = plt.subplots()\n",
    "ax.plot(# complete\n",
    "    # complete\n",
    "    # complete\n",
    "    # complete\n",
    "    \n",
    "ax.set_ylim(0, 9)\n",
    "ax.set_xlabel('True period (d)')\n",
    "ax.set_ylabel('LS peak (d)')\n",
    "fig.tight_layout()"
   ]
  },
  {
   "cell_type": "markdown",
   "metadata": {
    "slideshow": {
     "slide_type": "slide"
    }
   },
   "source": [
    "What in the...\n",
    "\n",
    "We see that these lines account for a lot of the off-diagonal structure in this plot.\n",
    "\n",
    "In this case, what is happening is that the true frequency of the signal $f_\\mathrm{true}$ is being aliased by the window function and it's harmonics. In other words LS is pulling out $f_\\mathrm{true} + n\\delta{f}$, where $n$ is an integer and $\\delta{f}$ is the observational cadence $3\\,\\mathrm{d}$. Many of the false positives can be explained via the window function."
   ]
  },
  {
   "cell_type": "markdown",
   "metadata": {
    "slideshow": {
     "slide_type": "slide"
    }
   },
   "source": [
    "Similarly, LS might be recovering higher order harmonics of the true period since we aren't trying to recover pure sinusoidal signals in this simulation. These harmonics would also be aliased by the window function, so LS will pull out $f_\\mathrm{true}/m + n\\delta{f}$, where $m$ is a postive integer."
   ]
  },
  {
   "cell_type": "markdown",
   "metadata": {
    "slideshow": {
     "slide_type": "slide"
    }
   },
   "source": [
    "**Problem 3g**\n",
    "\n",
    "Recreate the plot in **3d** and overplot lines for the $m = 2$ harmonic aliased with $n = -1, 1, 2$.\n",
    "\n",
    "*Hint* - only plot the values where $P_\\mathrm{LS} > 0$ since, by definition, we do not search for negative periods."
   ]
  },
  {
   "cell_type": "code",
   "execution_count": null,
   "metadata": {
    "slideshow": {
     "slide_type": "slide"
    }
   },
   "outputs": [],
   "source": [
    "p_grid = np.linspace(1e-1,10,100)\n",
    "\n",
    "fig, ax = plt.subplots()\n",
    "ax.plot(# complete\n",
    "    # complete\n",
    "    # complete\n",
    "    # complete\n",
    "\n",
    "ax.set_ylim(0, 2)\n",
    "ax.set_xlabel('True period (d)')\n",
    "ax.set_ylabel('LS peak (d)')\n",
    "fig.tight_layout()"
   ]
  },
  {
   "cell_type": "markdown",
   "metadata": {
    "slideshow": {
     "slide_type": "slide"
    }
   },
   "source": [
    "The last bit of structure can be understood via the symmetry in the LS periodogram about 0. In particular, if there is an aliased frequency that is less than 0, which will occur for $n < 0$ in the equations above, then there will also be power at the positive value of that frequency. In other words, LS will pull out $|f_\\mathrm{true}/m + n\\delta{f}|$."
   ]
  },
  {
   "cell_type": "markdown",
   "metadata": {
    "slideshow": {
     "slide_type": "slide"
    }
   },
   "source": [
    "**Problem 3h**\n",
    "\n",
    "Recreate the plot in **3d** and overplot lines for the \"reflected\" $m = 1$ harmonic aliased with $n = -3, -2, -1$.\n",
    "\n",
    "*Hint* - only plot the values where $P_\\mathrm{LS} < 0$ since we are looking for \"reflected\" peaks in the periodogram in this case. "
   ]
  },
  {
   "cell_type": "code",
   "execution_count": null,
   "metadata": {
    "slideshow": {
     "slide_type": "slide"
    }
   },
   "outputs": [],
   "source": [
    "p_grid = np.linspace(1e-1,10,1000)\n",
    "\n",
    "fig, ax = plt.subplots()\n",
    "ax.plot(# complete\n",
    "    # complete\n",
    "    # complete\n",
    "    # complete\n",
    "\n",
    "ax.set_ylim(0, 15)\n",
    "ax.set_xlabel('True period (d)')\n",
    "ax.set_ylabel('LS peak (d)')\n",
    "fig.tight_layout()"
   ]
  },
  {
   "cell_type": "markdown",
   "metadata": {
    "slideshow": {
     "slide_type": "slide"
    }
   },
   "source": [
    "Now we have seen that nearly all the structure in the LS period vs. true period plot can be explained via aliasing with the window function! This is good (we understand why the results do not conform to what we expect), but also bad, (we were not able to recover the correct period for the majority of our sources). Ultimately, this means - be careful when inspecting the results of the LS periodogram as the peaks aren't driven solely by the signal from the source in question!"
   ]
  },
  {
   "cell_type": "markdown",
   "metadata": {
    "slideshow": {
     "slide_type": "subslide"
    }
   },
   "source": [
    "(If only there were some way to get rid of the sun, then we'd never have these problems...)"
   ]
  },
  {
   "cell_type": "markdown",
   "metadata": {
    "slideshow": {
     "slide_type": "slide"
    }
   },
   "source": [
    "## Conclusions\n",
    "\n",
    "The Lomb-Scargle periodogram is a useful tool to search for *sinusoidal* signals in noisy, irregular data. \n",
    "\n",
    "However, as highlighted throughout, there are many ways in which the methodology can run awry."
   ]
  },
  {
   "cell_type": "markdown",
   "metadata": {
    "slideshow": {
     "slide_type": "slide"
    }
   },
   "source": [
    "In closing, I will summarize some practical considerations from VanderPlas (2017): \n",
    "\n",
    "  1. Choose an appropriate frequency grid (defaults in `LombScargle` are not sufficient)\n",
    "  2. Calculate the LS periodogram for the observation times to search for dominant signals (e.g., 1 day in astro)\n",
    "  3. Compute LS periodogram for data (avoid multi-Fourier models if signal unknown)\n",
    "  4. Plot periodogram and various FAP levels (do not over-interpret FAP)\n",
    "  5. If window function shows strong aliasing, plot phased light curve at each peak (now add more Fourier terms if necessary)\n",
    "  6. If looking for a particular signal (e.g., detatched EBs), consider different methods that better match expected signal\n",
    "  7. Inject fake signals into data to understand systematics if using LS in a survey pipeline"
   ]
  },
  {
   "cell_type": "markdown",
   "metadata": {
    "slideshow": {
     "slide_type": "slide"
    }
   },
   "source": [
    "### Finally, Finally\n",
    "\n",
    "As a very last note: know that there are many different ways to search for periodicity in astronomical data. Depending on your application (and computational resources), LS may be a poor choice (even though this is often the default choice by all astronomers!) [Graham et al. (2013)](http://adsabs.harvard.edu/abs/2013MNRAS.434.3423G) provides a summary of several methods using actual astronomical data. The results of that study show that no single method is best. However, they also show that no single method performs particularly well: the detection efficiences in Graham et al. (2013) are disappointing given the importance of periodicity in astronomical signals.\n",
    "\n",
    "Period detection is a fundamental problem for astronomical time-series, but it is especially difficult in \"production\" mode. Be careful when setting up pipelines to analyze large datasets.  "
   ]
  },
  {
   "cell_type": "markdown",
   "metadata": {
    "slideshow": {
     "slide_type": "slide"
    }
   },
   "source": [
    "**Challenge Problem**\n",
    "\n",
    "Re-create problem 4, but include additional terms in the fit with the LS periodogram. What differences do you notice when comparing the true period to the best-fit LS periods?"
   ]
  },
  {
   "cell_type": "markdown",
   "metadata": {
    "collapsed": true,
    "slideshow": {
     "slide_type": "skip"
    }
   },
   "source": [
    "## Helper Functions\n",
    "\n",
    "We developed useful helper functions as part of [Lecture III](https://github.com/LSSTC-DSFP/LSSTC-DSFP-Sessions/tree/main/Session13/Day3/IntroductionToTheLombScarglePeriodogram.ipynb) from this session. \n",
    "\n",
    "These functions generate periodic data, and phase fold light curves on a specified period. These functions will once again prove useful, so we include them here in order to simulate data above. "
   ]
  },
  {
   "cell_type": "markdown",
   "metadata": {
    "slideshow": {
     "slide_type": "skip"
    }
   },
   "source": [
    "**Helper 1**\n",
    "\n",
    "Create a function, `gen_periodic_data`, that creates simulated data (including noise) over a grid of user supplied positions:\n",
    "\n",
    "$$ y = A\\,cos\\left(\\frac{x}{P} - \\phi\\right) + \\sigma_y$$\n",
    "\n",
    "where $A, P, \\phi$ are inputs to the function. `gen_periodic_data` should include Gaussian noise, $\\sigma_y$, for each output $y_i$."
   ]
  },
  {
   "cell_type": "code",
   "execution_count": 2,
   "metadata": {
    "slideshow": {
     "slide_type": "skip"
    }
   },
   "outputs": [],
   "source": [
    "def gen_periodic_data(x, period=1, amplitude=1, phase=0, noise=0):\n",
    "    '''Generate periodic data given the function inputs\n",
    "    \n",
    "    y = A*cos(x/p - phase) + noise\n",
    "    \n",
    "    Parameters\n",
    "    ----------\n",
    "    x : array-like\n",
    "        input values to evaluate the array\n",
    "    \n",
    "    period : float (default=1)\n",
    "        period of the periodic signal\n",
    "    \n",
    "    amplitude : float (default=1)\n",
    "        amplitude of the periodic signal\n",
    "    \n",
    "    phase : float (default=0)\n",
    "        phase offset of the periodic signal\n",
    "    \n",
    "    noise : float (default=0)\n",
    "        variance of the noise term added to the periodic signal\n",
    "    \n",
    "    Returns\n",
    "    -------\n",
    "    y : array-like\n",
    "        Periodic signal evaluated at all points x\n",
    "    '''\n",
    "    \n",
    "    y = amplitude*np.sin(2*np.pi*x/(period) - phase) + np.random.normal(0, np.sqrt(noise), size=len(x))\n",
    "    return y"
   ]
  },
  {
   "cell_type": "markdown",
   "metadata": {
    "slideshow": {
     "slide_type": "skip"
    }
   },
   "source": [
    "**Helper 2**\n",
    "\n",
    "Create a function, `phase_plot`, that takes x, y, and $P$ as inputs to create a phase-folded light curve (i.e., plot the data at their respective phase values given the period $P$).\n",
    "\n",
    "Include an optional argument, `y_unc`, to include uncertainties on the `y` values, when available."
   ]
  },
  {
   "cell_type": "code",
   "execution_count": 3,
   "metadata": {
    "slideshow": {
     "slide_type": "skip"
    }
   },
   "outputs": [],
   "source": [
    "def phase_plot(x, y, period, y_unc = 0.0, mag_plot=False):\n",
    "    '''Create phase-folded plot of input data x, y\n",
    "    \n",
    "    Parameters\n",
    "    ----------\n",
    "    x : array-like\n",
    "        data values along abscissa\n",
    "\n",
    "    y : array-like\n",
    "        data values along ordinate\n",
    "\n",
    "    period : float\n",
    "        period to fold the data\n",
    "        \n",
    "    y_unc : array-like\n",
    "        uncertainty of the \n",
    "    '''    \n",
    "    phases = (x/period) % 1\n",
    "    if isinstance(y_unc, (np.floating, float)):\n",
    "        y_unc = np.ones_like(x)*y_unc\n",
    "\n",
    "    plot_order = np.argsort(phases)\n",
    "    fig, ax = plt.subplots()\n",
    "    ax.errorbar(phases[plot_order], y[plot_order], y_unc[plot_order],\n",
    "                 fmt='o', mec=\"0.2\", mew=0.1)\n",
    "    ax.set_xlabel(\"phase\")\n",
    "    ax.set_ylabel(\"signal\")\n",
    "    if mag_plot:\n",
    "        ax.set_ylim(ax.get_ylim()[::-1])\n",
    "    fig.tight_layout()"
   ]
  },
  {
   "cell_type": "code",
   "execution_count": null,
   "metadata": {},
   "outputs": [],
   "source": []
  }
 ],
 "metadata": {
  "celltoolbar": "Slideshow",
  "kernelspec": {
   "display_name": "Python 3 (ipykernel)",
   "language": "python",
   "name": "python3"
  },
  "language_info": {
   "codemirror_mode": {
    "name": "ipython",
    "version": 3
   },
   "file_extension": ".py",
   "mimetype": "text/x-python",
   "name": "python",
   "nbconvert_exporter": "python",
   "pygments_lexer": "ipython3",
   "version": "3.8.11"
  },
  "livereveal": {
   "height": 768,
   "scroll": true,
   "start_slideshow_at": "selected",
   "theme": "solarized",
   "width": 1024
  }
 },
 "nbformat": 4,
 "nbformat_minor": 2
}
